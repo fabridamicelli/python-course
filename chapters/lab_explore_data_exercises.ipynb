{
 "cells": [
  {
   "cell_type": "markdown",
   "id": "86550260-7939-4970-a420-5eb24e8158c2",
   "metadata": {},
   "source": [
    "# Lab: Exploring a Dataset\n",
    "We want to take a look at this real-world dataset:  \n",
    "https://openneuro.org/datasets/ds005420/versions/1.0.0"
   ]
  },
  {
   "cell_type": "code",
   "execution_count": 1,
   "id": "f7cd8929-a0bf-457d-b05e-4aaaf2783d56",
   "metadata": {},
   "outputs": [],
   "source": [
    "import pathlib"
   ]
  },
  {
   "cell_type": "code",
   "execution_count": 2,
   "id": "e061a4d5-66eb-4eb9-b699-48eb55fd90b5",
   "metadata": {},
   "outputs": [],
   "source": [
    "path = pathlib.Path(\"../data/ds005420-download\")"
   ]
  },
  {
   "cell_type": "code",
   "execution_count": 4,
   "id": "75888c8d-0000-40c4-9409-05a2dfd45eba",
   "metadata": {},
   "outputs": [
    {
     "data": {
      "text/plain": [
       "[PosixPath('../data/ds005420-download/sub-50'),\n",
       " PosixPath('../data/ds005420-download/sub-40'),\n",
       " PosixPath('../data/ds005420-download/sub-45'),\n",
       " PosixPath('../data/ds005420-download/sub-9'),\n",
       " PosixPath('../data/ds005420-download/sub-35'),\n",
       " PosixPath('../data/ds005420-download/sub-16'),\n",
       " PosixPath('../data/ds005420-download/CHANGES'),\n",
       " PosixPath('../data/ds005420-download/sub-2'),\n",
       " PosixPath('../data/ds005420-download/sub-36'),\n",
       " PosixPath('../data/ds005420-download/sub-21')]"
      ]
     },
     "execution_count": 4,
     "metadata": {},
     "output_type": "execute_result"
    }
   ],
   "source": [
    "content = list(path.iterdir())\n",
    "content[:10]"
   ]
  },
  {
   "cell_type": "markdown",
   "id": "ce322432-15d5-4cf6-8e99-f88f5a62a73d",
   "metadata": {},
   "source": [
    "As we see, there are files, and directories."
   ]
  },
  {
   "cell_type": "markdown",
   "id": "8570f8a3-9719-4978-a648-7b5971b8062d",
   "metadata": {},
   "source": [
    "## Exercises 1\n",
    "a) List only the sub-directories in path.  \n",
    "b) List only the sub-directories with subject data.  \n",
    "c) Delete files: `CHANGES` and `participants.tsv`  "
   ]
  },
  {
   "cell_type": "markdown",
   "id": "3ebcd69a-5222-4514-9531-7cdf54f782dd",
   "metadata": {},
   "source": [
    "## Exercises 2\n",
    "We will start by making sure our data/metadata contains the information we expect at a high level.\n",
    "\n",
    "a) Verify that all subject directories have a eeg sub-directory.  \n",
    "b) Verify that all data in a subject directories matches with the subject number.  \n",
    "c) Assert that EEG data for all subjects was taken using 20 channels and sampling frequency 500.  \n",
    "d) (Optional) Write a file (`discarded_subjects.txt`) with the subject numbers that do not match that criterion.  "
   ]
  },
  {
   "cell_type": "markdown",
   "id": "3af93b8f-e20d-42f8-8c17-0830ba14c8b6",
   "metadata": {},
   "source": [
    "## Exercises 3\n",
    "Now we want to look at the data.\n",
    "We find that the data is in a particular format `.edf` that we cannot directly read in python.  \n",
    "Hint: We need to install a third-party library `mne` to read `.edf` files.  \n",
    "\n",
    "a) Plot a histogram of RecordingDuration across all subjects.  \n",
    "b) Plot one time series.\n",
    "c) Plot all time series with labels according to channel name.  \n",
    "d) Plot the T* and O* channels.  "
   ]
  },
  {
   "cell_type": "markdown",
   "id": "196f319e-51a8-48bd-91f0-931978a5ec04",
   "metadata": {},
   "source": [
    "## Exercises 4\n",
    "After having taken this quick look at the data, we want to start processing the data.\n",
    "\n",
    "a) Add a column called `channel_mean` that\n",
    "b) Substract the mean from each channel\n",
    "c) Plot correlation matrix of all-vs-all channels"
   ]
  }
 ],
 "metadata": {
  "kernelspec": {
   "display_name": "Python 3 (ipykernel)",
   "language": "python",
   "name": "python3"
  },
  "language_info": {
   "codemirror_mode": {
    "name": "ipython",
    "version": 3
   },
   "file_extension": ".py",
   "mimetype": "text/x-python",
   "name": "python",
   "nbconvert_exporter": "python",
   "pygments_lexer": "ipython3",
   "version": "3.10.13"
  }
 },
 "nbformat": 4,
 "nbformat_minor": 5
}
