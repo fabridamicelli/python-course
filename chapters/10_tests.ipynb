{
 "cells": [
  {
   "cell_type": "markdown",
   "id": "97a9ac71-a121-4b3e-bd73-a9721222d5ac",
   "metadata": {},
   "source": [
    "---\n",
    "title: Testing\n",
    "toc: true\n",
    "---"
   ]
  },
  {
   "cell_type": "markdown",
   "id": "4ae14f36-84e6-4def-9240-7a423c587e9c",
   "metadata": {},
   "source": [
    "## Why bother writing tests?\n",
    "**Correctness:** This is our goal number one when writing code, since incorrect code is arguably useless.\n",
    "By incorrect we do not mean proper business logic nor being statistically sound.\n",
    "We mean something much simpler: The code does what we think it is doing.  \n",
    "One way to build some confidence about the correctness of code is to write tests.\n",
    "We are going to deal here with so-called [unit tests](https://en.wikipedia.org/wiki/Unit_testing).\n",
    "As the name suggests, these tests target pieces, blocks (units) of code that we can test isolated.\n",
    "For example, here's a simple function that computes the square of a number and a little test:"
   ]
  },
  {
   "cell_type": "code",
   "execution_count": 1,
   "id": "94132385-0cce-42e4-8985-ef7e2ec32d66",
   "metadata": {},
   "outputs": [],
   "source": [
    "def square(value):\n",
    "    return value * value\n",
    "\n",
    "def test_square():\n",
    "    assert square(-1) == 1\n",
    "    assert square(1) == 1\n",
    "    assert square(2) == 4\n",
    "    assert square(5) == 25\n",
    "\n",
    "test_square()"
   ]
  },
  {
   "cell_type": "markdown",
   "id": "57a0c9de-0ba4-437c-8154-b150c939226e",
   "metadata": {},
   "source": [
    "**Refactoring:** Having tests in place can be also useful when we want to modify working code, since they will give us at least some degree of confidence that we are not breaking the functionality when we refactor the code, for example, while optimizing running time."
   ]
  },
  {
   "cell_type": "markdown",
   "id": "d23504f5-2423-4284-b42a-c9d69bd1aa09",
   "metadata": {},
   "source": [
    "As we saw above we can write the assertions about our code in a function that we then call.\n",
    "Calling each test manually is a bit cumbersome and error prone.\n",
    "We will use instead a testing framework that will do this automatically for us (plus, it's going to provide us with a whole bunch of handy functionalities out of the box)."
   ]
  },
  {
   "cell_type": "markdown",
   "id": "040d38d5-c6b6-479b-b82d-16570e69f325",
   "metadata": {},
   "source": [
    "## What to test\n",
    "In a way writing tests is the easy part.\n",
    "The much more challenging questions are *what* to test and *how*.\n",
    "Those are of course questions that depend on the context and the system we are testing.  \n",
    "We will focus on two aspects that are important in the context of working with data: Verifying assumptions about the data (content, shape, etc.) and checking that transformations in a data processing pipeline are doing the right thing.\n",
    "Further examples of aspects to be tested include: Verifying responses from an API, check that a machine learning model can deal with a given input, etc.\n",
    "Testing software is in itself a whole field, there are even [dedicated testing conferences](https://testingconferences.org/)!"
   ]
  },
  {
   "cell_type": "markdown",
   "id": "91b32bb0-8545-42f4-ad99-7e9438760b37",
   "metadata": {},
   "source": [
    ":::{.callout-tip}\n",
    "Take a look at the test suite of popular open source libraries to learn how testing looks like in the \"real world\".\n",
    ":::"
   ]
  },
  {
   "cell_type": "markdown",
   "id": "a5cb2472-ab0b-4cb6-a00f-eaa9e962c25d",
   "metadata": {},
   "source": [
    "## Pytest\n",
    "Although python has a built-in module for unit tests, we will use [pytest](https://docs.pytest.org/en/stable/), a third-party library which is much more convenient and very well developed and maintained.\n",
    "\n",
    "Let's add that dependency to our project.\n",
    "Testing dependencies are usually included under \"development\" dependencies.\n",
    "That means, dependencies that will be used during development but not later on (for example when running the application code in production).  \n",
    "We can also do that with our package manager `uv` passing the `--dev` flag:\n",
    "\n",
    "```bash\n",
    "uv add --dev pytest\n",
    "```\n",
    "\n",
    "After executing that line, you can verify that the dependency where the dependency is listed by looking into the `pyproject.toml` file, which should look like this:\n",
    "```toml\n",
    "[tool.uv]\n",
    "dev-dependencies = [\n",
    "    \"pytest>=8.3.3\",\n",
    "]\n",
    "```\n",
    "\n",
    "### Basic Testing\n",
    "In the python ecosystem it is rather common to have a separated directory for tests, but that is just an implicit convention and no hard requirement at all.\n",
    "But to keep things tidy we'll follow that.\n",
    "\n",
    "First we will put the source code that has our functionality in a file under `src/pycourse/square.py`\n",
    "```python\n",
    "def square(value):\n",
    "    return value * value\n",
    "```\n",
    "\n",
    "So let's create a directory (next to `src`) called `tests` and make a file called `tests/test_square.py` including our previous `test_square` code:\n",
    "\n",
    "```python\n",
    "from pycourse.square import square  # Import function from source code test\n",
    "\n",
    "def test_square():\n",
    "    assert square(-1) == 1\n",
    "    assert square(1) == 1\n",
    "    assert square(2) == 4\n",
    "    assert square(5) == 25\n",
    "```\n",
    "\n",
    "Notice that we do not call the function, we just define it.\n",
    "\n",
    ":::{.callout-important}\n",
    "The file must be called `test_*.py` or `*_test.py` for pytest to discover it and the unit tests must start with `test_`.\n",
    ":::\n",
    "\n",
    "\n",
    "We can now run our tests (pytest will discover files and tests following the pattern above mentioned):\n",
    "```bash\n",
    "uv run pytest tests\n",
    "```\n",
    "\n",
    "You should see something like this:\n",
    "\n",
    "```bash\n",
    "tests/test_square.py .                          [100%]\n",
    "\n",
    "================== 1 passed in 0.01s =================\n",
    "```\n",
    "\n",
    "That's our first test, we're cruising! :D"
   ]
  },
  {
   "cell_type": "markdown",
   "id": "825c407b-ab16-47ec-93c1-116dd9500e5e",
   "metadata": {},
   "source": [
    "### Make sure something fails\n",
    "Sometimes we want to make sure our program fails given a certain input.\n",
    "For example, let's say we want to check the input of our `square` function is a float or integer.\n",
    "We could add that logic to the function and handle the case:"
   ]
  },
  {
   "cell_type": "code",
   "execution_count": 23,
   "id": "24b8b5b0-93e7-4ff2-a308-15b88ddf83cd",
   "metadata": {},
   "outputs": [],
   "source": [
    "def square(value):\n",
    "    if not isinstance(value, (float, int)):\n",
    "        raise ValueError(f\"Invalid input. Expected float, got {type(value)}\")\n",
    "    return value * value"
   ]
  },
  {
   "cell_type": "code",
   "execution_count": 7,
   "id": "ac48a783-40c5-43aa-8023-f3f63867c608",
   "metadata": {},
   "outputs": [],
   "source": [
    "#| code-fold: true\n",
    "import ipytest\n",
    "ipytest.autoconfig()"
   ]
  },
  {
   "cell_type": "code",
   "execution_count": 30,
   "id": "1427bd5e-792a-4b49-8b2d-be8102e1e9f9",
   "metadata": {},
   "outputs": [
    {
     "name": "stdout",
     "output_type": "stream",
     "text": [
      "\u001b[32m.\u001b[0m\u001b[32m                                                                                            [100%]\u001b[0m\n",
      "\u001b[32m\u001b[32m\u001b[1m1 passed\u001b[0m\u001b[32m in 0.01s\u001b[0m\u001b[0m\n"
     ]
    }
   ],
   "source": [
    "%%ipytest\n",
    "\n",
    "import pytest\n",
    "\n",
    "def test_square():\n",
    "    assert square(-1) == 1\n",
    "    assert square(1) == 1\n",
    "    assert square(2) == 4\n",
    "    assert square(5) == 25  \n",
    "    with pytest.raises(ValueError):\n",
    "        square(\"foo\")\n",
    "    with pytest.raises(ValueError):\n",
    "        square(None)"
   ]
  },
  {
   "cell_type": "markdown",
   "id": "85dff038-8301-4c2e-abb7-8e1fc2944a82",
   "metadata": {},
   "source": [
    ":::{.callout-note}\n",
    "Checking the types of the functions explicitly like in the example is not a very \"pythonic\" thing to do, as we tend to care more about the behaviour than about the types (duck typing).\n",
    "Also it is a relatively inefficient way to do it.\n",
    "But sometimes we do trade some purity and efficiency for correctness, for example in data pipelines where errors can go unattended because they do not lead to syntax errors.\n",
    ":::"
   ]
  },
  {
   "cell_type": "markdown",
   "id": "a2e590e8-92ae-4615-b974-d90a3004be7a",
   "metadata": {},
   "source": [
    "## Exercises\n",
    "1) Modify the function `square` in `square.py` so that it returns `value * value * 2` and run the test again. Pay close attention to the error messages and the diffs!\n",
    "2) Write a function called `reverse_str` that takes a string and returns the reversed version, eg \"hola\" -> \"aloh\". Write a unit test and make sure the tests pass. Think about covering corner cases in your tests.S\n",
    "3) Make the function `reverse_str` strict to only accept strings as input and throw an error if another type is passed. Write a unit test that covers both the \"happy path\" and the \"error path\"."
   ]
  }
 ],
 "metadata": {
  "kernelspec": {
   "display_name": "Python 3 (ipykernel)",
   "language": "python",
   "name": "python3"
  },
  "language_info": {
   "codemirror_mode": {
    "name": "ipython",
    "version": 3
   },
   "file_extension": ".py",
   "mimetype": "text/x-python",
   "name": "python",
   "nbconvert_exporter": "python",
   "pygments_lexer": "ipython3",
   "version": "3.10.13"
  }
 },
 "nbformat": 4,
 "nbformat_minor": 5
}
