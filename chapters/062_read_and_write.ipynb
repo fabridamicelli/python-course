{
 "cells": [
  {
   "cell_type": "markdown",
   "id": "97a9ac71-a121-4b3e-bd73-a9721222d5ac",
   "metadata": {},
   "source": [
    "---\n",
    "title: Read/Write Files\n",
    "toc: true\n",
    "---"
   ]
  },
  {
   "cell_type": "markdown",
   "id": "6a17ae18-22c7-4b96-a568-422a9e233bea",
   "metadata": {},
   "source": [
    "## Pathlib"
   ]
  },
  {
   "cell_type": "markdown",
   "id": "fa73cf0e-7b15-4f08-9aeb-e58453ed5cd2",
   "metadata": {},
   "source": [
    "We often deal with files stored in our computer (or someone else's, a.k.a. \"the Cloud\").\n",
    "The built-in `pathlib` is very a useful module.\n",
    "In particular, the `Path` class simplifies a lot the operations we typically do when working with files."
   ]
  },
  {
   "cell_type": "code",
   "execution_count": 8,
   "id": "9f389b0e-5eb8-4f48-a277-7da3956d4715",
   "metadata": {},
   "outputs": [],
   "source": [
    "from pathlib import Path"
   ]
  },
  {
   "cell_type": "code",
   "execution_count": 9,
   "id": "4ad5f4d2-5769-40e2-ae79-fa5fae660648",
   "metadata": {},
   "outputs": [],
   "source": [
    "dirname = \"./a-new-dir\"  # Note: This folder does not yet exist\n",
    "path = Path(dirname)"
   ]
  },
  {
   "cell_type": "code",
   "execution_count": 10,
   "id": "75852522-81de-4090-af31-f8fc2827c363",
   "metadata": {},
   "outputs": [
    {
     "data": {
      "text/plain": [
       "False"
      ]
     },
     "execution_count": 10,
     "metadata": {},
     "output_type": "execute_result"
    }
   ],
   "source": [
    "path.exists()"
   ]
  },
  {
   "cell_type": "markdown",
   "id": "3f2855d9-0cd6-4ede-971d-9373021a0538",
   "metadata": {},
   "source": [
    "Let's create it:"
   ]
  },
  {
   "cell_type": "code",
   "execution_count": 11,
   "id": "22aebf1d-9699-435c-91cb-e8af00a09c57",
   "metadata": {},
   "outputs": [],
   "source": [
    "path.mkdir()"
   ]
  },
  {
   "cell_type": "code",
   "execution_count": 12,
   "id": "867fb787-0272-4b52-b4b6-3510cd2ad572",
   "metadata": {},
   "outputs": [
    {
     "data": {
      "text/plain": [
       "True"
      ]
     },
     "execution_count": 12,
     "metadata": {},
     "output_type": "execute_result"
    }
   ],
   "source": [
    "path.exists()"
   ]
  },
  {
   "cell_type": "markdown",
   "id": "30696ed7-a922-4cb2-bccd-bc36dcee9556",
   "metadata": {},
   "source": [
    "Out `Path` instance composes very nicely with the rest of the language.\n",
    "For example, it will automatically concatenate the path with this syntax:"
   ]
  },
  {
   "cell_type": "code",
   "execution_count": 13,
   "id": "6cb889d5-1ac7-4b79-bc4b-8a15b564ff15",
   "metadata": {},
   "outputs": [],
   "source": [
    "filepath = path/\"a-great-file.txt\""
   ]
  },
  {
   "cell_type": "code",
   "execution_count": 14,
   "id": "11b2f550-13ad-4c4c-aa7b-3ff193b050b7",
   "metadata": {},
   "outputs": [
    {
     "data": {
      "text/plain": [
       "PosixPath('a-new-dir/a-great-file.txt')"
      ]
     },
     "execution_count": 14,
     "metadata": {},
     "output_type": "execute_result"
    }
   ],
   "source": [
    "filepath"
   ]
  },
  {
   "cell_type": "code",
   "execution_count": 15,
   "id": "bfb7b5f5-a7bd-42fe-870f-70e25a069392",
   "metadata": {},
   "outputs": [
    {
     "data": {
      "text/plain": [
       "False"
      ]
     },
     "execution_count": 15,
     "metadata": {},
     "output_type": "execute_result"
    }
   ],
   "source": [
    "filepath.exists()"
   ]
  },
  {
   "cell_type": "markdown",
   "id": "d060bcc9-79ff-44dc-9805-e8440596a13e",
   "metadata": {},
   "source": [
    "Let's create it:"
   ]
  },
  {
   "cell_type": "code",
   "execution_count": 16,
   "id": "4096981c-0326-4090-8a4e-29193e7517f2",
   "metadata": {},
   "outputs": [],
   "source": [
    "filepath.touch()"
   ]
  },
  {
   "cell_type": "code",
   "execution_count": 17,
   "id": "c7c9e098-f9fa-43e6-ae59-9c466e4d55e4",
   "metadata": {},
   "outputs": [
    {
     "data": {
      "text/plain": [
       "True"
      ]
     },
     "execution_count": 17,
     "metadata": {},
     "output_type": "execute_result"
    }
   ],
   "source": [
    "filepath.exists()"
   ]
  },
  {
   "cell_type": "markdown",
   "id": "7585c4d9-fe2f-4c4e-813b-c2dde2be90dd",
   "metadata": {},
   "source": [
    "This file is still empty, let's write a message into it:"
   ]
  },
  {
   "cell_type": "code",
   "execution_count": 18,
   "id": "dce0972c-e561-4dd7-bdf7-c0f2cfcf1482",
   "metadata": {},
   "outputs": [
    {
     "data": {
      "text/plain": [
       "33"
      ]
     },
     "execution_count": 18,
     "metadata": {},
     "output_type": "execute_result"
    }
   ],
   "source": [
    "filepath.write_text(\"Hello world, this is so much fun!\")"
   ]
  },
  {
   "cell_type": "markdown",
   "id": "961004a0-3796-42ba-bdc0-bd37891bb53a",
   "metadata": {},
   "source": [
    "A lot just happened:  \n",
    "\n",
    "- the file was created\n",
    "- we opened the file\n",
    "- we wrote the text into it\n",
    "- we closed the file\n",
    "- we got back the number of bytes written (33)\n",
    "\n",
    "So the `Path` class is abstracting away a lot of work.\n",
    "Pretty handy, I think.\n",
    "\n",
    "Now let's read in the content of the file:"
   ]
  },
  {
   "cell_type": "code",
   "execution_count": 19,
   "id": "b01e1969-a123-428a-9dad-f5dd768d6dfe",
   "metadata": {},
   "outputs": [
    {
     "data": {
      "text/plain": [
       "'Hello world, this is so much fun!'"
      ]
     },
     "execution_count": 19,
     "metadata": {},
     "output_type": "execute_result"
    }
   ],
   "source": [
    "filepath.read_text()"
   ]
  },
  {
   "cell_type": "markdown",
   "id": "2fdb6b47-98ca-453d-8b9d-1d9c6fdf0f5d",
   "metadata": {},
   "source": [
    "::: {.callout-note}\n",
    "The classical way to open/close files is actually using the `open` function.\n",
    "You can google it if you're curious, but, for now, let's run with `pathlib.Path`.\n",
    ":::"
   ]
  },
  {
   "cell_type": "markdown",
   "id": "8c8c81d5-1f4f-44bd-a7da-f526ed3581f0",
   "metadata": {},
   "source": [
    "We can also delete files/directories:"
   ]
  },
  {
   "cell_type": "code",
   "execution_count": 20,
   "id": "46acd082-fef1-41ea-aa12-d3d54045a913",
   "metadata": {},
   "outputs": [
    {
     "data": {
      "text/plain": [
       "PosixPath('a-new-dir/a-great-file.txt')"
      ]
     },
     "execution_count": 20,
     "metadata": {},
     "output_type": "execute_result"
    }
   ],
   "source": [
    "filepath"
   ]
  },
  {
   "cell_type": "code",
   "execution_count": 21,
   "id": "542d2c81-72cc-49b5-b7d5-4262c57ca220",
   "metadata": {},
   "outputs": [],
   "source": [
    "filepath.unlink()  # unlink means remove in this context"
   ]
  },
  {
   "cell_type": "code",
   "execution_count": 22,
   "id": "225324fb-8959-42f9-acb0-f70b687993ee",
   "metadata": {},
   "outputs": [
    {
     "data": {
      "text/plain": [
       "False"
      ]
     },
     "execution_count": 22,
     "metadata": {},
     "output_type": "execute_result"
    }
   ],
   "source": [
    "filepath.exists()"
   ]
  },
  {
   "cell_type": "markdown",
   "id": "24f2fa29-d092-44b0-95aa-13ea3e3146c4",
   "metadata": {},
   "source": [
    "## Files & Directories\n",
    "When manipulating files we sometimes we want to explicitly distinguish between files and directories.\n",
    "`pathlib.Path` has a few methods that make our life easier:"
   ]
  },
  {
   "cell_type": "code",
   "execution_count": 4,
   "id": "bee451f1-7c97-46f6-9472-70baa6dc80cd",
   "metadata": {},
   "outputs": [],
   "source": [
    "current = Path(\".\")  # dot means current dir"
   ]
  },
  {
   "cell_type": "code",
   "execution_count": 5,
   "id": "3908f734-bbef-4ae0-9452-b5a281482a3e",
   "metadata": {},
   "outputs": [
    {
     "data": {
      "text/plain": [
       "False"
      ]
     },
     "execution_count": 5,
     "metadata": {},
     "output_type": "execute_result"
    }
   ],
   "source": [
    "current.is_file()"
   ]
  },
  {
   "cell_type": "code",
   "execution_count": 6,
   "id": "1bed4e9b-f5a8-414b-b21d-da3c958b7782",
   "metadata": {},
   "outputs": [
    {
     "data": {
      "text/plain": [
       "True"
      ]
     },
     "execution_count": 6,
     "metadata": {},
     "output_type": "execute_result"
    }
   ],
   "source": [
    "current.is_dir()"
   ]
  },
  {
   "cell_type": "markdown",
   "id": "b12623fb-1c7c-4c0c-a2ea-b6b0c738623d",
   "metadata": {},
   "source": [
    "::: {.callout-tip}\n",
    "Explore the methods of the `Path` class by creating and object and hitting the Tab key, there are several handy functionalities included.\n",
    ":::"
   ]
  },
  {
   "cell_type": "markdown",
   "id": "df806e52-6ff6-48ee-8090-885814fb58a7",
   "metadata": {},
   "source": [
    "## Shutil\n",
    "🚧\n",
    "Material under construction\n",
    "🚧"
   ]
  }
 ],
 "metadata": {
  "kernelspec": {
   "display_name": "Python 3 (ipykernel)",
   "language": "python",
   "name": "python3"
  },
  "language_info": {
   "codemirror_mode": {
    "name": "ipython",
    "version": 3
   },
   "file_extension": ".py",
   "mimetype": "text/x-python",
   "name": "python",
   "nbconvert_exporter": "python",
   "pygments_lexer": "ipython3",
   "version": "3.10.13"
  }
 },
 "nbformat": 4,
 "nbformat_minor": 5
}
