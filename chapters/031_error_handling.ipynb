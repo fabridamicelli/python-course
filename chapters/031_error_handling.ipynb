{
  "cells": [
    {
      "cell_type": "markdown",
      "id": "245999c1-8db0-4d21-8e2a-18798f4d87cd",
      "metadata": {},
      "source": [
        "---\n",
        "title: Error Handling \n",
        "toc: true\n",
        "---"
      ]
    },
    {
      "cell_type": "markdown",
      "id": "4a9caebd-d469-4dc0-a7ab-ab8cd0d8ec36",
      "metadata": {},
      "source": [
        "## Exceptions\n",
        "When our program runs into an error, Python throws an Exception.\n",
        "There several different types of exceptions and they work as a way to communicate what went wrong.\n",
        "Sometimes we simply want to let the program crash because the problem is completely unexpected or because we do not have a good solution to deal with it at run time.\n",
        "\n",
        "One of the language constructs to deal with errors in Python is `try-except`, which has this structure:\n",
        "```python\n",
        "try:\n",
        "    # do something\n",
        "except SomeException:\n",
        "    # handle the error\n",
        "finally:\n",
        "    # Optionally to something (always executed)\n",
        "```"
      ]
    },
    {
      "cell_type": "code",
      "execution_count": 7,
      "id": "56573d0b-4552-483e-a3ac-b70a12ac03fd",
      "metadata": {},
      "outputs": [
        {
          "name": "stdout",
          "output_type": "stream",
          "text": [
            "something went wrong: division by zero\n",
            "Cleaning up the mess, no matter what\n"
          ]
        }
      ],
      "source": [
        "try:\n",
        "    1 / 0\n",
        "except Exception as err:\n",
        "    print(\"something went wrong:\", err)\n",
        "finally:\n",
        "    print(\"Cleaning up the mess, no matter what\")"
      ]
    },
    {
      "cell_type": "code",
      "execution_count": 8,
      "id": "1cce2f25-8668-48f7-8dcb-9aeaa99733f6",
      "metadata": {},
      "outputs": [
        {
          "name": "stdout",
          "output_type": "stream",
          "text": [
            "all good\n",
            "Cleaning up the mess, no matter what\n"
          ]
        }
      ],
      "source": [
        "try:\n",
        "    1 / 1\n",
        "    print(\"all good\")\n",
        "except Exception as err:\n",
        "    print(\"something went wrong:\", err)\n",
        "finally:\n",
        "    print(\"Cleaning up the mess, no matter what\")"
      ]
    },
    {
      "cell_type": "markdown",
      "id": "1374c376-53e1-4115-ab46-790473bc5b7c",
      "metadata": {},
      "source": [
        "We can catch explicit exceptions:"
      ]
    },
    {
      "cell_type": "code",
      "execution_count": 9,
      "id": "2e989c61-9476-4f14-bb54-fb0a022a2565",
      "metadata": {},
      "outputs": [
        {
          "name": "stdout",
          "output_type": "stream",
          "text": [
            "yeap, it sometimes happens, show must go on..\n"
          ]
        }
      ],
      "source": [
        "try:\n",
        "    1 / 0\n",
        "    print(\"all good\")\n",
        "except ZeroDivisionError as err:\n",
        "    print(\"yeap, it sometimes happens, show must go on..\")"
      ]
    },
    {
      "cell_type": "markdown",
      "id": "fdc97a15-664c-416d-8954-8e5dc3139d82",
      "metadata": {},
      "source": [
        "::: {.callout-tip title=\"Good practice Tip\"}\n",
        "Be as explicit as possible with your exceptions to avoid letting unexpected errors slip through.\n",
        ":::"
      ]
    },
    {
      "cell_type": "markdown",
      "id": "76ddec94-d268-416d-869f-0df85ed69066",
      "metadata": {},
      "source": [
        "## Assertions\n",
        "A common way to verify that our code is actually implementing the logic we have in mind is adding so-called \"assertions\".\n",
        "Assertions are like checkpoints that will make our code fail (and interrupt the program execution) if a condition is not met.\n",
        "\n",
        "It is common to use assertions to check intermediate steps as well as for writing tests (as we will see later).\n",
        "\n",
        "Here's the basic syntax:\n",
        "\n",
        "```python\n",
        "assert some-contition, \"message if condition is false\"\n",
        "```\n",
        "\n",
        "For example:"
      ]
    },
    {
      "cell_type": "code",
      "execution_count": 4,
      "id": "ff74e61d-3f35-4929-95b7-713a9aabeee4",
      "metadata": {},
      "outputs": [
        {
          "name": "stdout",
          "output_type": "stream",
          "text": [
            "We got to this point\n"
          ]
        }
      ],
      "source": [
        "assert 1 > 0, \"This should never happen\"\n",
        "print(\"We got to this point\")"
      ]
    },
    {
      "cell_type": "code",
      "execution_count": 5,
      "id": "19450053-e3d9-4a0b-bf2f-447784896f8d",
      "metadata": {},
      "outputs": [
        {
          "ename": "AssertionError",
          "evalue": "0 > 1? in which world do you live?",
          "output_type": "error",
          "traceback": [
            "\u001b[0;31m---------------------------------------------------------------------------\u001b[0m",
            "\u001b[0;31mAssertionError\u001b[0m                            Traceback (most recent call last)",
            "Cell \u001b[0;32mIn[5], line 1\u001b[0m\n\u001b[0;32m----> 1\u001b[0m \u001b[38;5;28;01massert\u001b[39;00m \u001b[38;5;241m0\u001b[39m \u001b[38;5;241m>\u001b[39m \u001b[38;5;241m1\u001b[39m, \u001b[38;5;124m\"\u001b[39m\u001b[38;5;124m0 > 1? in which world do you live?\u001b[39m\u001b[38;5;124m\"\u001b[39m\n\u001b[1;32m      3\u001b[0m \u001b[38;5;28mprint\u001b[39m(\u001b[38;5;124m\"\u001b[39m\u001b[38;5;124mWe got to this point\u001b[39m\u001b[38;5;124m\"\u001b[39m)\n",
            "\u001b[0;31mAssertionError\u001b[0m: 0 > 1? in which world do you live?"
          ]
        }
      ],
      "source": [
        "assert 0 > 1, \"0 > 1? in which world do you live?\"\n",
        "\n",
        "print(\"We got to this point\")"
      ]
    },
    {
      "cell_type": "markdown",
      "id": "362d4275-d021-47fc-af32-0c0e5566c456",
      "metadata": {},
      "source": [
        "Notice two things:  \n",
        "First, we didn't get to the print statement – the program execution was interrupted.  \n",
        "Second, we got an `AssertionError`, a particular type of exception that python uses to communicate we didn't meet the assertion, which means we could handle it like any other exception:"
      ]
    },
    {
      "cell_type": "code",
      "execution_count": 9,
      "id": "e03524bf-e641-4c35-b066-6bc44dc8e96e",
      "metadata": {},
      "outputs": [
        {
          "name": "stdout",
          "output_type": "stream",
          "text": [
            "No idea, but fine, carry on...\n",
            "We got to this point\n"
          ]
        }
      ],
      "source": [
        "try:\n",
        "    assert 0 > 1, \"0 > 1? in which world do you live?\"\n",
        "except AssertionError:\n",
        "    print(\"No idea, but fine, carry on...\")\n",
        "    \n",
        "print(\"We got to this point\")"
      ]
    },
    {
      "cell_type": "markdown",
      "id": "59d01b5b-c813-40c7-a971-b7a19a1763f8",
      "metadata": {},
      "source": [
        "## Exercises\n",
        "Take this dictionary:\n",
        "\n",
        "```python\n",
        "ages = {\n",
        "    \"mark\": 12,\n",
        "    \"lua\": 32,\n",
        "    \"martin\": 8,\n",
        "    \"mette\": 41,\n",
        "    \"malte\": 27\n",
        "}\n",
        "```\n",
        "\n",
        "And this names:\n",
        "\n",
        "```python\n",
        "names = \"mark\", \"lua\", \"juan\", \"marco\", \"anna\"\n",
        "```\n",
        "\n",
        "Write a program that iterates over the names and prints each name and age.  \n",
        "If the name is not present in the ages dictionary, print this message \"name: NAME is missing\".\n",
        "At the end of the program, print the number of not found names and a list with the found names."
      ]
    }
  ],
  "metadata": {
    "kernelspec": {
      "display_name": "Python 3 (ipykernel)",
      "language": "python",
      "name": "python3"
    },
    "language_info": {
      "codemirror_mode": {
        "name": "ipython",
        "version": 3
      },
      "file_extension": ".py",
      "mimetype": "text/x-python",
      "name": "python",
      "nbconvert_exporter": "python",
      "pygments_lexer": "ipython3",
      "version": "3.10.13"
    }
  },
  "nbformat": 4,
  "nbformat_minor": 5
}
