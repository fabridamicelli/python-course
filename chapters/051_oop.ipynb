{
 "cells": [
  {
   "cell_type": "markdown",
   "id": "97a9ac71-a121-4b3e-bd73-a9721222d5ac",
   "metadata": {},
   "source": [
    "---\n",
    "title: Object Oriented Programming\n",
    "toc: true\n",
    "---"
   ]
  },
  {
   "cell_type": "markdown",
   "id": "2c12b381-e055-4169-b581-5f0d806a5a84",
   "metadata": {},
   "source": [
    "## Classes and Objects\n",
    "In python we deal with so-called objects.\n",
    "An object is an instance, that is a particular realization, of a class.  \n",
    "Here's an analogy:\n",
    "You can think of a class as the instructions to build a car, say a [FiatUno](https://en.wikipedia.org/wiki/Fiat_Uno):"
   ]
  },
  {
   "cell_type": "code",
   "execution_count": 21,
   "id": "17ca16df-859e-4e4e-9170-480618bec110",
   "metadata": {},
   "outputs": [],
   "source": [
    "class FiatUno:\n",
    "    def __init__(self, color=\"white\", radio=False):\n",
    "        self.color = color\n",
    "        self.radio = radio\n",
    "        self.radio_is_on = False\n",
    "    def turn_on_radio(self):\n",
    "        self.radio_is_on = True\n",
    "        print(f\"Radio is on!\")\n",
    "    def turn_off_radio(self):\n",
    "        self.radio_is_on = False\n",
    "        print(f\"Radio is off!\")"
   ]
  },
  {
   "cell_type": "markdown",
   "id": "c59615ad-645f-49d4-8605-06af8e53b13a",
   "metadata": {},
   "source": [
    "::: {.callout-note}\n",
    "By convention, we use CamelCase to name classes.\n",
    ":::"
   ]
  },
  {
   "cell_type": "markdown",
   "id": "03d76282-f023-4480-924f-103b509c2aa9",
   "metadata": {},
   "source": [
    "Each actual car is an object, i.e. an instance of a class:"
   ]
  },
  {
   "cell_type": "code",
   "execution_count": 22,
   "id": "2a178a72-3e1e-4515-b0b5-c20dd7adee9f",
   "metadata": {},
   "outputs": [],
   "source": [
    "car1 = FiatUno()"
   ]
  },
  {
   "cell_type": "markdown",
   "id": "a2e0dc37-51fa-4a13-935a-2000a4ccd99c",
   "metadata": {},
   "source": [
    "We can make another car:"
   ]
  },
  {
   "cell_type": "code",
   "execution_count": 23,
   "id": "cd633c3c-b95d-4bc1-852a-e29acbfee467",
   "metadata": {},
   "outputs": [],
   "source": [
    "car2 = FiatUno()"
   ]
  },
  {
   "cell_type": "markdown",
   "id": "d0c32e77-d396-4a64-afaf-d54fd20072ff",
   "metadata": {},
   "source": [
    "Like two cars can be the same model and color, they always have different license plates.  \n",
    "The same happens in python:"
   ]
  },
  {
   "cell_type": "code",
   "execution_count": 24,
   "id": "56739cef-2666-44d2-b491-d7e4794d8cbf",
   "metadata": {},
   "outputs": [
    {
     "data": {
      "text/plain": [
       "139856081602784"
      ]
     },
     "execution_count": 24,
     "metadata": {},
     "output_type": "execute_result"
    }
   ],
   "source": [
    "id(car1)"
   ]
  },
  {
   "cell_type": "code",
   "execution_count": 25,
   "id": "b186ef1f-3c5a-47a2-8a4c-e5ae2d271d45",
   "metadata": {},
   "outputs": [
    {
     "data": {
      "text/plain": [
       "139856081603648"
      ]
     },
     "execution_count": 25,
     "metadata": {},
     "output_type": "execute_result"
    }
   ],
   "source": [
    "id(car2)"
   ]
  },
  {
   "cell_type": "markdown",
   "id": "f57a3ef7-8d9e-4ef5-bf52-b8fdae231752",
   "metadata": {},
   "source": [
    "Each object has _attributes_:"
   ]
  },
  {
   "cell_type": "code",
   "execution_count": 26,
   "id": "e9b1cd7e-a6ef-46ba-a7e6-4526453f86c7",
   "metadata": {},
   "outputs": [
    {
     "data": {
      "text/plain": [
       "('white', False)"
      ]
     },
     "execution_count": 26,
     "metadata": {},
     "output_type": "execute_result"
    }
   ],
   "source": [
    "car1.color, car1.radio"
   ]
  },
  {
   "cell_type": "markdown",
   "id": "bfdd424f-1b92-4bfc-989a-629f67438d91",
   "metadata": {},
   "source": [
    "## Methods"
   ]
  },
  {
   "cell_type": "markdown",
   "id": "f2fd55ef-55f2-4956-a5bc-a6ee1b613b92",
   "metadata": {},
   "source": [
    "Different car models have different functionalities, like turning the radio on.  \n",
    "In python it's the same, the functions attached to an object are called _methods_ and we call them with this dot notation:"
   ]
  },
  {
   "cell_type": "code",
   "execution_count": 27,
   "id": "68b82e0e-3c91-428c-a698-edc98f0bcf3e",
   "metadata": {},
   "outputs": [
    {
     "name": "stdout",
     "output_type": "stream",
     "text": [
      "Radio is on!\n"
     ]
    }
   ],
   "source": [
    "car1.turn_on_radio()  # it's just a function, so we call it with ()"
   ]
  },
  {
   "cell_type": "code",
   "execution_count": 28,
   "id": "f1201876-fe5a-48d1-8055-1c4facfcc74b",
   "metadata": {},
   "outputs": [
    {
     "name": "stdout",
     "output_type": "stream",
     "text": [
      "Radio is off!\n"
     ]
    }
   ],
   "source": [
    "car1.turn_off_radio()"
   ]
  },
  {
   "cell_type": "markdown",
   "id": "89368677-9441-4396-a4e9-3b8f765246c5",
   "metadata": {},
   "source": [
    "Where is the _self_ argument of the functions?  \n",
    "The first argument of a method will be _always passed_ to the method in the call and it is the object itself (thus the convention to call it _self_).    \n",
    "That's a bit meta an a bit confusing, but don't worry, you'll get a feel of it by using the classes/objects."
   ]
  },
  {
   "cell_type": "markdown",
   "id": "69ad517f-36f7-4c07-a5b1-8009de71ea6d",
   "metadata": {},
   "source": [
    "## Dunder Methods\n",
    "We saw above the `__init__` method.\n",
    "This methods are special and there is a bunch of them already present on all classes:"
   ]
  },
  {
   "cell_type": "code",
   "execution_count": 50,
   "id": "5b3f6981-ed88-4dd1-b1a0-b0e263ab502d",
   "metadata": {},
   "outputs": [
    {
     "data": {
      "text/plain": [
       "['__class__',\n",
       " '__delattr__',\n",
       " '__dict__',\n",
       " '__dir__',\n",
       " '__doc__',\n",
       " '__eq__',\n",
       " '__format__',\n",
       " '__ge__',\n",
       " '__getattribute__',\n",
       " '__gt__',\n",
       " '__hash__',\n",
       " '__init__',\n",
       " '__init_subclass__',\n",
       " '__le__',\n",
       " '__lt__',\n",
       " '__module__',\n",
       " '__ne__',\n",
       " '__new__',\n",
       " '__reduce__',\n",
       " '__reduce_ex__',\n",
       " '__repr__',\n",
       " '__setattr__',\n",
       " '__sizeof__',\n",
       " '__str__',\n",
       " '__subclasshook__',\n",
       " '__weakref__',\n",
       " 'turn_off_radio',\n",
       " 'turn_on_radio']"
      ]
     },
     "execution_count": 50,
     "metadata": {},
     "output_type": "execute_result"
    }
   ],
   "source": [
    "dir(FiatUno)"
   ]
  },
  {
   "cell_type": "markdown",
   "id": "9ffeae22-9da2-43dc-aeb4-d62d8ed064a1",
   "metadata": {},
   "source": [
    "These \"dunder\" methods define the behavior of the object in several ways.\n",
    "For example, the `__str__` method defines the string representation of the object, which is used when we call `print` on an object.\n",
    "When we do `print(something)`, python actually goes to the method `__str__` of something and calls that one.\n",
    "Let's see it in action:"
   ]
  },
  {
   "cell_type": "code",
   "execution_count": 51,
   "id": "d891d971-e22a-46d4-a3aa-4c1b114dc1c8",
   "metadata": {},
   "outputs": [],
   "source": [
    "class A:\n",
    "    def __init__(self, msg=\"hello\"):\n",
    "        self.msg = msg\n",
    "    def __str__(self):\n",
    "        return self.msg + \", nice to meet you\""
   ]
  },
  {
   "cell_type": "code",
   "execution_count": 52,
   "id": "70ee067f-b443-4424-aecd-04c6ee9ef874",
   "metadata": {},
   "outputs": [],
   "source": [
    "a = A()"
   ]
  },
  {
   "cell_type": "code",
   "execution_count": 53,
   "id": "372d5ab0-3c0b-4031-aa49-812f87e03b53",
   "metadata": {},
   "outputs": [
    {
     "name": "stdout",
     "output_type": "stream",
     "text": [
      "hello, nice to meet you\n"
     ]
    }
   ],
   "source": [
    "print(a)"
   ]
  },
  {
   "cell_type": "markdown",
   "id": "15da8ac8-c1c5-4324-8ecf-69202deb8d2f",
   "metadata": {},
   "source": [
    "It's good to know that these dunder methods exist and some libraries will require the user changing them.\n",
    "But in general, you should not worry about them."
   ]
  },
  {
   "cell_type": "markdown",
   "id": "aa436cf7-bf18-4e4b-9079-70b40ab80ca4",
   "metadata": {},
   "source": [
    "::: {.callout-tip}\n",
    "Don't overwrite dunder methods unless you really, really need it and you're sure what you're doing – it is pretty easy to make mistakes that lead to difficult to debug bugs.\n",
    ":::"
   ]
  },
  {
   "cell_type": "markdown",
   "id": "de781486-f437-45e0-90e0-9c69cc692221",
   "metadata": {},
   "source": [
    "## Inheritance"
   ]
  },
  {
   "cell_type": "markdown",
   "id": "1a929607-b542-4bab-899e-8d660525a86a",
   "metadata": {},
   "source": [
    "::: {.callout-tip}\n",
    "Avoid using inheritance. We show it here just for you to know it exists and that some libraries use it. You can totally live without it.\n",
    ":::"
   ]
  },
  {
   "cell_type": "markdown",
   "id": "9da878b2-e6d1-4c53-b4b4-854fd1ae2bc8",
   "metadata": {},
   "source": [
    "Classes can be organized in a hierarchy:"
   ]
  },
  {
   "cell_type": "code",
   "execution_count": 63,
   "id": "d206dc92-eae0-402e-9dcd-9fafb94e18cf",
   "metadata": {},
   "outputs": [],
   "source": [
    "class Car:\n",
    "    def __init__(self):\n",
    "        self.n_wheels = 4 \n",
    "        \n",
    "class FiatPalio(Car):\n",
    "    def turn_on_radio(self):\n",
    "        print(\"Radio is on\")\n",
    "        \n",
    "class FiatTipo(Car):\n",
    "    def turn_on_ac(self):\n",
    "        print(\"Pretty hot in here\")\n",
    "\n",
    "car3 = FiatPalio()\n",
    "car4 = FiatTipo()"
   ]
  },
  {
   "cell_type": "code",
   "execution_count": 66,
   "id": "813834f4-4819-4958-9bdc-dba3bc140ec5",
   "metadata": {},
   "outputs": [
    {
     "name": "stdout",
     "output_type": "stream",
     "text": [
      "Radio is on\n"
     ]
    }
   ],
   "source": [
    "car3.turn_on_radio()"
   ]
  },
  {
   "cell_type": "code",
   "execution_count": 64,
   "id": "c2188ea0-9c33-40b9-8ed3-496eb1f38974",
   "metadata": {},
   "outputs": [
    {
     "data": {
      "text/plain": [
       "4"
      ]
     },
     "execution_count": 64,
     "metadata": {},
     "output_type": "execute_result"
    }
   ],
   "source": [
    "car3.n_wheels"
   ]
  },
  {
   "cell_type": "code",
   "execution_count": 67,
   "id": "80e11a36-1074-4c84-bbd0-01300443d109",
   "metadata": {},
   "outputs": [
    {
     "name": "stdout",
     "output_type": "stream",
     "text": [
      "Pretty hot here\n"
     ]
    }
   ],
   "source": [
    "car4.turn_on_ac()"
   ]
  },
  {
   "cell_type": "code",
   "execution_count": 65,
   "id": "7a20d638-ccad-4219-be9a-8b7a43a5e39d",
   "metadata": {},
   "outputs": [
    {
     "data": {
      "text/plain": [
       "4"
      ]
     },
     "execution_count": 65,
     "metadata": {},
     "output_type": "execute_result"
    }
   ],
   "source": [
    "car4.n_wheels"
   ]
  },
  {
   "cell_type": "markdown",
   "id": "96572d96-0b7c-43a9-bdf3-0dc896e9d308",
   "metadata": {},
   "source": [
    "In that case `Car` is called the \"parent\" class and the `FiatPalio` the \"child\" or \"subclass\".\n",
    "\n",
    "Notice that both `car3` and `car4` inherited the attribute `n_wheels` from `Car`.\n",
    "\n",
    "A class can have more than one parent:"
   ]
  },
  {
   "cell_type": "code",
   "execution_count": 78,
   "id": "5e24066e-ba2b-4c6e-8b9f-024f7bcd9875",
   "metadata": {},
   "outputs": [],
   "source": [
    "class Parent1:\n",
    "    n_arms = 2\n",
    "        \n",
    "class Parent2:\n",
    "    n_legs = 2\n",
    "        \n",
    "class Parent3:\n",
    "    n_eyes = 2\n",
    "\n",
    "class Child(Parent1, Parent2, Parent3):\n",
    "    def list_body_parts(self):\n",
    "        print(\"arms: \", self.n_arms)\n",
    "        print(\"legs: \", self.n_legs)\n",
    "        print(\"eyes: \", self.n_eyes)"
   ]
  },
  {
   "cell_type": "code",
   "execution_count": 79,
   "id": "a77d4c6b-a2b3-4052-8095-a5978a788d2f",
   "metadata": {},
   "outputs": [],
   "source": [
    "child = Child()"
   ]
  },
  {
   "cell_type": "code",
   "execution_count": 80,
   "id": "19bbd22d-715d-4249-a4ff-33d17d1fc515",
   "metadata": {},
   "outputs": [
    {
     "name": "stdout",
     "output_type": "stream",
     "text": [
      "arms:  2\n",
      "legs:  2\n",
      "eyes:  2\n"
     ]
    }
   ],
   "source": [
    "child.list_body_parts()"
   ]
  },
  {
   "cell_type": "markdown",
   "id": "3aefdd10-71d4-44b3-8083-3f6a1a2ebdb3",
   "metadata": {},
   "source": [
    "Multiple inheritance is also tricky and you should avoid it.\n",
    "It's just good to know it exists to understand code from out there, for example, the popular `scikit-learn` library uses this a lot to propagate methods and avoid code duplication."
   ]
  }
 ],
 "metadata": {
  "kernelspec": {
   "display_name": "Python 3 (ipykernel)",
   "language": "python",
   "name": "python3"
  },
  "language_info": {
   "codemirror_mode": {
    "name": "ipython",
    "version": 3
   },
   "file_extension": ".py",
   "mimetype": "text/x-python",
   "name": "python",
   "nbconvert_exporter": "python",
   "pygments_lexer": "ipython3",
   "version": "3.10.13"
  }
 },
 "nbformat": 4,
 "nbformat_minor": 5
}
