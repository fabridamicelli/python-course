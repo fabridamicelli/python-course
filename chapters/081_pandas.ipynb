{
 "cells": [
  {
   "cell_type": "markdown",
   "id": "97a9ac71-a121-4b3e-bd73-a9721222d5ac",
   "metadata": {},
   "source": [
    "---\n",
    "title: Pandas\n",
    "toc: true\n",
    "---"
   ]
  },
  {
   "cell_type": "markdown",
   "id": "10329043-e010-4f29-94ff-9773706ab7aa",
   "metadata": {},
   "source": [
    "Here's the introductory [chapter of the book](https://wesmckinney.com/book/pandas-basics), by the original author of the library pandas Wes McKinney. \n",
    "In particular, we'll look at subtitles:\n",
    "\n",
    "- [5.1. Introduction to pandas Data Structures](https://wesmckinney.com/book/pandas-basics#pandas_construction)\n",
    "- [5.2. Essential Functionality](https://wesmckinney.com/book/pandas-basics#pandas_series)\n",
    "  - Indexing, selection and filtering\n",
    "  - Function application and mapping\n",
    "  - Sorting and ranking\n",
    "- [7.1. Handling missing data](https://wesmckinney.com/book/data-cleaning)\n",
    "- [7.2. Replacing values](https://wesmckinney.com/book/data-cleaning#prep_replace)\n",
    "- [7.4. String functions in pandas](https://wesmckinney.com/book/data-cleaning#text_string_manip_vectorized)\n",
    "- [10.1. How to think about group operations](https://wesmckinney.com/book/data-aggregation#groupby_fundamentals)"
   ]
  },
  {
   "cell_type": "markdown",
   "id": "195b1858-25cc-4afb-859c-647cba13f080",
   "metadata": {},
   "source": [
    "These are useful [cheatsheets](https://pandas.pydata.org/Pandas_Cheat_Sheet.pdf)."
   ]
  },
  {
   "cell_type": "markdown",
   "id": "3ddeb664-caee-4f6f-b4ec-abcf56c757a3",
   "metadata": {},
   "source": [
    "Check out the pandas getting-started documentation [here](https://pandas.pydata.org/docs/getting_started/index.html#getting-started)"
   ]
  },
  {
   "cell_type": "markdown",
   "id": "6316f5d5-224b-4409-858f-359639575efd",
   "metadata": {},
   "source": [
    "Here's short introduction by the very author of the library:\n",
    "\n",
    "{{< video https://www.youtube.com/watch?v=_T8LGqJtuGc >}}"
   ]
  },
  {
   "cell_type": "markdown",
   "id": "f52fdd48-0c30-4df5-ab0b-de52be8ced28",
   "metadata": {},
   "source": [
    "## Exercises\n",
    "- Series from dict\n",
    "- DF from dict\n",
    "- DF from matrix (columns)\n",
    "- read_csv \n",
    "- Discard Missing values\n",
    "- Fill Missing values \n",
    "- Display first 7 elements\n",
    "- Display last 7 elements\n",
    "- Read in data, assign column names\n",
    "- Read in only X rows\n",
    "- Compute mean of 1 column\n",
    "- Add two columns (numbers)\n",
    "- Add two columns (strings)\n",
    "- Add a column to existing dataframe\n",
    "- Add an indicator column to existing dataframe \n",
    "- Find an interesting dataset, download and explore it.  \n",
    "- Discard rows with missing values\n",
    "- Fill missing values\n",
    "- Drop entire rows (by index)\n",
    "- Drop entire cols\n",
    "- Sort elements (index, values)\n",
    "- Sort 2 columns  \n",
    "- Summary metric on specific cols\n",
    "- Substract mean of a col from other columns\n",
    "- Substract rolling mean of a col from other columns \n",
    "- Select a couple of columns of DF (list of str)\n",
    "- Select with boolean mask\n",
    "- Select with loc\n",
    "- Select with iloc \n",
    "- Sample 20% of the rows \n",
    "- pd.to_datetime\n",
    "- fmri:\n",
    "  - unique brain regions\n",
    "  - unique subjects\n",
    "  - plot subject \"s13\" time series of \"parietal\" region"
   ]
  },
  {
   "cell_type": "code",
   "execution_count": null,
   "id": "7c489dc5-8c1b-4e4a-bd20-071bed4d10ca",
   "metadata": {},
   "outputs": [],
   "source": []
  }
 ],
 "metadata": {
  "kernelspec": {
   "display_name": "Python 3 (ipykernel)",
   "language": "python",
   "name": "python3"
  },
  "language_info": {
   "codemirror_mode": {
    "name": "ipython",
    "version": 3
   },
   "file_extension": ".py",
   "mimetype": "text/x-python",
   "name": "python",
   "nbconvert_exporter": "python",
   "pygments_lexer": "ipython3",
   "version": "3.10.13"
  }
 },
 "nbformat": 4,
 "nbformat_minor": 5
}
