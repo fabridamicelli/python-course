{
 "cells": [
  {
   "cell_type": "markdown",
   "id": "97a9ac71-a121-4b3e-bd73-a9721222d5ac",
   "metadata": {},
   "source": [
    "---\n",
    "title: Useful Tools and Patterns\n",
    "toc: true\n",
    "---"
   ]
  },
  {
   "cell_type": "code",
   "execution_count": null,
   "id": "0d50c85a-da56-4c2e-93b0-6d671c40a94f",
   "metadata": {},
   "outputs": [],
   "source": [
    "🚧\n",
    "Material under construction\n",
    "🚧"
   ]
  },
  {
   "cell_type": "markdown",
   "id": "86c18cfd-6732-4d2c-a3ae-01f15f87e304",
   "metadata": {},
   "source": [
    "## Generators"
   ]
  },
  {
   "cell_type": "markdown",
   "id": "8de5523a-006a-489f-85bc-f1e545c934ec",
   "metadata": {},
   "source": [
    "## Decorators\n",
    "aka, closure"
   ]
  },
  {
   "cell_type": "markdown",
   "id": "3968adc4-7849-440d-9a84-265f3b20e401",
   "metadata": {},
   "source": [
    "## The `functools` module\n",
    "- partial\n",
    "- cache\n",
    "- operator?"
   ]
  },
  {
   "cell_type": "markdown",
   "id": "4c9e87f7-828f-43ac-a7c1-04ddbd9fdacb",
   "metadata": {},
   "source": [
    "## The `itertools` module\n",
    "- product"
   ]
  },
  {
   "cell_type": "markdown",
   "id": "e7956c67-8ffa-4ac1-b37c-fbb761604e2a",
   "metadata": {},
   "source": [
    "## Modules for Scientific Computing\n",
    "- math\n",
    "- decimal"
   ]
  }
 ],
 "metadata": {
  "kernelspec": {
   "display_name": "Python 3 (ipykernel)",
   "language": "python",
   "name": "python3"
  },
  "language_info": {
   "codemirror_mode": {
    "name": "ipython",
    "version": 3
   },
   "file_extension": ".py",
   "mimetype": "text/x-python",
   "name": "python",
   "nbconvert_exporter": "python",
   "pygments_lexer": "ipython3",
   "version": "3.10.13"
  }
 },
 "nbformat": 4,
 "nbformat_minor": 5
}
