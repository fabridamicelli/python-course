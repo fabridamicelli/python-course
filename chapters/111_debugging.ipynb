{
 "cells": [
  {
   "cell_type": "markdown",
   "id": "97a9ac71-a121-4b3e-bd73-a9721222d5ac",
   "metadata": {},
   "source": [
    "---\n",
    "title: Debugging\n",
    "toc: true\n",
    "---"
   ]
  },
  {
   "cell_type": "code",
   "execution_count": null,
   "id": "3d0080c9-01ad-4120-ad3d-37700cdf2a6f",
   "metadata": {},
   "outputs": [],
   "source": [
    "🚧\n",
    "Material under construction\n",
    "🚧"
   ]
  },
  {
   "cell_type": "markdown",
   "id": "bd498d45-9d1e-4860-854b-a94993ffa77b",
   "metadata": {},
   "source": [
    "We are humans, we make mistakes and that's very much true for coding.\n",
    "Finding errors in our code is fundamental skill to train since we cannot avoid making mistakes.\n",
    "The goal is to get better at finding and fixing them quickly."
   ]
  },
  {
   "cell_type": "markdown",
   "id": "55a9413f-5a5a-40c1-a2b7-b642f0a54aec",
   "metadata": {},
   "source": [
    "## Python debugger, breakpoints"
   ]
  },
  {
   "cell_type": "markdown",
   "id": "4ae14f36-84e6-4def-9240-7a423c587e9c",
   "metadata": {},
   "source": [
    "## IPython debugger"
   ]
  },
  {
   "cell_type": "markdown",
   "id": "886ba261-d3a3-43e0-b7e1-3353d0029622",
   "metadata": {},
   "source": [
    "## Notebook %%debug"
   ]
  }
 ],
 "metadata": {
  "kernelspec": {
   "display_name": "Python 3 (ipykernel)",
   "language": "python",
   "name": "python3"
  },
  "language_info": {
   "codemirror_mode": {
    "name": "ipython",
    "version": 3
   },
   "file_extension": ".py",
   "mimetype": "text/x-python",
   "name": "python",
   "nbconvert_exporter": "python",
   "pygments_lexer": "ipython3",
   "version": "3.10.13"
  }
 },
 "nbformat": 4,
 "nbformat_minor": 5
}
