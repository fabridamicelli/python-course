{
 "cells": [
  {
   "cell_type": "markdown",
   "id": "8995b8c2-2e56-440b-af2c-085ab41281a0",
   "metadata": {},
   "source": [
    "---\n",
    "title: Syntax Basics\n",
    "toc: true\n",
    "---"
   ]
  },
  {
   "cell_type": "markdown",
   "id": "e8178329-d0b5-44d1-8337-3ca776853c3a",
   "metadata": {},
   "source": [
    "## Introduction\n",
    "\n",
    "We'll take a look here at some of the fundamental aspects of the Python syntax.\n",
    "Our aim is not to be exhaustive and replicate the whole [python official documentation](https://docs.python.org/3/), but rather to get down the basics that will allow us to start writing simple programs and building from there as we go.  \n",
    "Also: It is fine not to remember everything after the first read, we rather want to get familiar with the language and some of the common idioms – just go with the flow :)"
   ]
  },
  {
   "cell_type": "markdown",
   "id": "73cb1efa-6e9b-49ff-96f3-fb32fb98adc6",
   "metadata": {},
   "source": [
    "## Basic types and data structures"
   ]
  },
  {
   "cell_type": "markdown",
   "id": "e3a02484-2142-4e8d-a065-9fd5807e7513",
   "metadata": {},
   "source": [
    "We have numbers:"
   ]
  },
  {
   "cell_type": "code",
   "execution_count": 1,
   "id": "25d420bd-8137-4fb1-8882-afda17743c1b",
   "metadata": {},
   "outputs": [
    {
     "data": {
      "text/plain": [
       "3"
      ]
     },
     "execution_count": 1,
     "metadata": {},
     "output_type": "execute_result"
    }
   ],
   "source": [
    "1 + 2"
   ]
  },
  {
   "cell_type": "code",
   "execution_count": 2,
   "id": "2e9fabf0-4991-4869-a11c-d1d5436fe6ec",
   "metadata": {},
   "outputs": [
    {
     "data": {
      "text/plain": [
       "(int, int)"
      ]
     },
     "execution_count": 2,
     "metadata": {},
     "output_type": "execute_result"
    }
   ],
   "source": [
    "type(1), type(2)"
   ]
  },
  {
   "cell_type": "code",
   "execution_count": 3,
   "id": "be612fd1-7adc-46b3-bc5c-a772a4e9b009",
   "metadata": {},
   "outputs": [
    {
     "data": {
      "text/plain": [
       "int"
      ]
     },
     "execution_count": 3,
     "metadata": {},
     "output_type": "execute_result"
    }
   ],
   "source": [
    "type(1 + 2)"
   ]
  },
  {
   "cell_type": "markdown",
   "id": "06a5d402-6724-4586-8d44-c78cf7e625a8",
   "metadata": {},
   "source": [
    "As we see, adding two integers results in an integer.\n",
    "We can also represent non-integer numbers as floats:"
   ]
  },
  {
   "cell_type": "code",
   "execution_count": 4,
   "id": "2a615ab7-2b0b-4a23-a53e-383bfc527a3c",
   "metadata": {},
   "outputs": [
    {
     "data": {
      "text/plain": [
       "2.5"
      ]
     },
     "execution_count": 4,
     "metadata": {},
     "output_type": "execute_result"
    }
   ],
   "source": [
    "1.2 + 1.3"
   ]
  },
  {
   "cell_type": "code",
   "execution_count": 5,
   "id": "2acfbcac-8e71-4939-944f-dcaf58801bdb",
   "metadata": {},
   "outputs": [
    {
     "data": {
      "text/plain": [
       "float"
      ]
     },
     "execution_count": 5,
     "metadata": {},
     "output_type": "execute_result"
    }
   ],
   "source": [
    "type(1.2 + 2.3)"
   ]
  },
  {
   "cell_type": "markdown",
   "id": "3a60c630-a0dc-402a-9a9d-3cb7f9ce62fc",
   "metadata": {},
   "source": [
    "Also notice:"
   ]
  },
  {
   "cell_type": "code",
   "execution_count": 6,
   "id": "d633b2f4-4b4e-4090-bca2-a3f0ee9d1d06",
   "metadata": {},
   "outputs": [
    {
     "data": {
      "text/plain": [
       "int"
      ]
     },
     "execution_count": 6,
     "metadata": {},
     "output_type": "execute_result"
    }
   ],
   "source": [
    "type(1)"
   ]
  },
  {
   "cell_type": "code",
   "execution_count": 7,
   "id": "4cab2330-aaf5-42b5-83c4-762c6a0e8d2d",
   "metadata": {},
   "outputs": [
    {
     "data": {
      "text/plain": [
       "float"
      ]
     },
     "execution_count": 7,
     "metadata": {},
     "output_type": "execute_result"
    }
   ],
   "source": [
    "type(1.0)"
   ]
  },
  {
   "cell_type": "code",
   "execution_count": 8,
   "id": "cbc0a55e-c5e9-462b-b99b-a40b9648a079",
   "metadata": {},
   "outputs": [
    {
     "data": {
      "text/plain": [
       "float"
      ]
     },
     "execution_count": 8,
     "metadata": {},
     "output_type": "execute_result"
    }
   ],
   "source": [
    "type(1.)"
   ]
  },
  {
   "cell_type": "markdown",
   "id": "0624a0fb-57c0-4835-8310-a55a682bec22",
   "metadata": {},
   "source": [
    "Also, these three numbers evaluate to equal, as we can check using the equality operator:"
   ]
  },
  {
   "cell_type": "code",
   "execution_count": 9,
   "id": "87d4a0b3-099f-40e0-a0c1-86fb719dc969",
   "metadata": {},
   "outputs": [
    {
     "data": {
      "text/plain": [
       "True"
      ]
     },
     "execution_count": 9,
     "metadata": {},
     "output_type": "execute_result"
    }
   ],
   "source": [
    "1 == 1. == 1.0"
   ]
  },
  {
   "cell_type": "markdown",
   "id": "07afd121-d918-4b09-97d1-392a35c1c431",
   "metadata": {},
   "source": [
    "If we add an `int` to a `float`, we get:"
   ]
  },
  {
   "cell_type": "code",
   "execution_count": 10,
   "id": "0d83a0dd-25d0-419e-9d78-baea941d9165",
   "metadata": {},
   "outputs": [
    {
     "data": {
      "text/plain": [
       "float"
      ]
     },
     "execution_count": 10,
     "metadata": {},
     "output_type": "execute_result"
    }
   ],
   "source": [
    "type(1 + 1.)"
   ]
  },
  {
   "cell_type": "markdown",
   "id": "59888694-ad70-4a7d-82f3-9d83bc537a5f",
   "metadata": {},
   "source": [
    "Python also has strings:"
   ]
  },
  {
   "cell_type": "code",
   "execution_count": 11,
   "id": "0ccb36e2-4cf8-4f59-a9f1-14e5194d3b97",
   "metadata": {},
   "outputs": [
    {
     "data": {
      "text/plain": [
       "str"
      ]
     },
     "execution_count": 11,
     "metadata": {},
     "output_type": "execute_result"
    }
   ],
   "source": [
    "type(\"Hi there\")"
   ]
  },
  {
   "cell_type": "code",
   "execution_count": 12,
   "id": "8763a5d0-bfb1-435d-881d-3683dc2f74a8",
   "metadata": {},
   "outputs": [
    {
     "data": {
      "text/plain": [
       "True"
      ]
     },
     "execution_count": 12,
     "metadata": {},
     "output_type": "execute_result"
    }
   ],
   "source": [
    "\"Hi there\" == 'Hi there'  # Notice both \" and ' can be used"
   ]
  },
  {
   "cell_type": "markdown",
   "id": "ef2dd03b-8422-41b9-b6df-8c617629e2d6",
   "metadata": {},
   "source": [
    "Strings are very powerful and have many \"methods\" associated with them that facilitates manipulating them.\n",
    "For example:"
   ]
  },
  {
   "cell_type": "code",
   "execution_count": 13,
   "id": "9a5d992a-3a78-4899-95f2-4708a4605f2a",
   "metadata": {},
   "outputs": [
    {
     "data": {
      "text/plain": [
       "'hello world'"
      ]
     },
     "execution_count": 13,
     "metadata": {},
     "output_type": "execute_result"
    }
   ],
   "source": [
    "\"HELLO World\".lower()"
   ]
  },
  {
   "cell_type": "code",
   "execution_count": 14,
   "id": "d3fd9b05-ae6a-4bc2-907d-b0c69e912691",
   "metadata": {},
   "outputs": [
    {
     "data": {
      "text/plain": [
       "False"
      ]
     },
     "execution_count": 14,
     "metadata": {},
     "output_type": "execute_result"
    }
   ],
   "source": [
    "\"HELLO World\".startswith(\"he\")"
   ]
  },
  {
   "cell_type": "code",
   "execution_count": 15,
   "id": "c081e983-2e02-46ca-925c-1e4e83da0e02",
   "metadata": {},
   "outputs": [
    {
     "data": {
      "text/plain": [
       "True"
      ]
     },
     "execution_count": 15,
     "metadata": {},
     "output_type": "execute_result"
    }
   ],
   "source": [
    "\"HELLO World\".lower().startswith(\"he\")"
   ]
  },
  {
   "cell_type": "code",
   "execution_count": 16,
   "id": "d6b246d9-b788-4fdb-82de-4dde75cd84cf",
   "metadata": {},
   "outputs": [
    {
     "data": {
      "text/plain": [
       "True"
      ]
     },
     "execution_count": 16,
     "metadata": {},
     "output_type": "execute_result"
    }
   ],
   "source": [
    "\"HELLO World\".endswith(\"d\")"
   ]
  },
  {
   "cell_type": "markdown",
   "id": "4d8cee9f-e3c0-4f7e-9822-94b6318f9222",
   "metadata": {},
   "source": [
    "There are many more methods defined. \n",
    "Whenever you're trying to do some operation over a string consider checking first if the method is already there.\n",
    "You can inspect the methods like so:"
   ]
  },
  {
   "cell_type": "markdown",
   "id": "eae5f00f-86cd-4312-97c7-c5f45991c7ed",
   "metadata": {},
   "source": [
    "We can format strings using a handy language construct: `f-strings`.\n",
    "`f-strings` allow us to easily format our strings in a dynamical fashion, even executing code inside them. \n",
    "For example:"
   ]
  },
  {
   "cell_type": "code",
   "execution_count": 17,
   "id": "e4ef1ad0-c08f-47de-ac3f-0384172b253b",
   "metadata": {},
   "outputs": [
    {
     "data": {
      "text/plain": [
       "'Hello world, I think 2 = 2'"
      ]
     },
     "execution_count": 17,
     "metadata": {},
     "output_type": "execute_result"
    }
   ],
   "source": [
    "f\"Hello world, I think {1 + 1} = 2\""
   ]
  },
  {
   "cell_type": "code",
   "execution_count": 18,
   "id": "cf9a60ff-314b-4298-9211-3261082f863e",
   "metadata": {},
   "outputs": [
    {
     "data": {
      "text/plain": [
       "'I think this inner shouting string should be lower'"
      ]
     },
     "execution_count": 18,
     "metadata": {},
     "output_type": "execute_result"
    }
   ],
   "source": [
    "f\"I think {'THIS INNER SHOUTING STRING'.lower()} should be lower\""
   ]
  },
  {
   "cell_type": "markdown",
   "id": "146fc147-227a-42ae-801b-2f8039a80d0f",
   "metadata": {},
   "source": [
    "Notice that we alternated \" and '.\n",
    "\n",
    "We'll see more examples of `f-strings` later on, as they are a super handy tool adding a lot of expresivity to the language."
   ]
  },
  {
   "cell_type": "markdown",
   "id": "4ddda4d2-bf6f-4eb7-9766-ffb3cdcded4f",
   "metadata": {},
   "source": [
    "## Variables\n",
    "We can store and use variables:"
   ]
  },
  {
   "cell_type": "code",
   "execution_count": 19,
   "id": "8c4c56ec-3a9b-4c28-8cb8-1158723bfa36",
   "metadata": {},
   "outputs": [],
   "source": [
    "first_name = \"Nik\"\n",
    "last_name = \"Mamba\"\n",
    "age = 23"
   ]
  },
  {
   "cell_type": "markdown",
   "id": "e92638b2-a5e8-4262-a65d-e0f322f8e22f",
   "metadata": {},
   "source": [
    "For example, to format a string: "
   ]
  },
  {
   "cell_type": "code",
   "execution_count": 20,
   "id": "9b50c209-dabb-43ff-9363-f22dc01bf23d",
   "metadata": {},
   "outputs": [
    {
     "data": {
      "text/plain": [
       "'name is Nik, the last name Mamba. Their age=23'"
      ]
     },
     "execution_count": 20,
     "metadata": {},
     "output_type": "execute_result"
    }
   ],
   "source": [
    "f\"name is {first_name}, the last name {last_name}. Their age={age}\""
   ]
  },
  {
   "cell_type": "markdown",
   "id": "d2376df9-79d7-40a0-9b2a-409f492e6f39",
   "metadata": {},
   "source": [
    "Or with this handy f-string substitution:"
   ]
  },
  {
   "cell_type": "code",
   "execution_count": 21,
   "id": "8119a7c7-a661-430d-8c91-ae19d162eed5",
   "metadata": {},
   "outputs": [
    {
     "data": {
      "text/plain": [
       "\"first_name='Nik', last_name='Mamba'. Their age=23\""
      ]
     },
     "execution_count": 21,
     "metadata": {},
     "output_type": "execute_result"
    }
   ],
   "source": [
    "f\"{first_name=}, {last_name=}. Their {age=}\""
   ]
  },
  {
   "cell_type": "markdown",
   "id": "fe11dc5f-a012-4b97-8ceb-7b1092fb8455",
   "metadata": {},
   "source": [
    "::: {.callout-warning}\n",
    "We need to be careful with the behaviour of variables depending on their type.\n",
    "We will get back to that in a few paragraphs after we talk about mutability.\n",
    ":::"
   ]
  },
  {
   "cell_type": "markdown",
   "id": "28574c4e-bc92-4a71-a9c2-caebb4b5f8ef",
   "metadata": {},
   "source": [
    "## Lists\n",
    "We can store elements in different kinds of containers.\n",
    "\n",
    "`list` is the most common of them.\n",
    "We can store basically anything in them, including repetitions of the same element:"
   ]
  },
  {
   "cell_type": "code",
   "execution_count": 22,
   "id": "c5a0a397-b85b-4925-92ec-c66174f2cbdf",
   "metadata": {},
   "outputs": [
    {
     "data": {
      "text/plain": [
       "list"
      ]
     },
     "execution_count": 22,
     "metadata": {},
     "output_type": "execute_result"
    }
   ],
   "source": [
    "short = [\"having fun\", 123]\n",
    "type(short)"
   ]
  },
  {
   "cell_type": "code",
   "execution_count": 23,
   "id": "d6346823-b8ea-447c-83ce-2604c702b6a9",
   "metadata": {},
   "outputs": [
    {
     "data": {
      "text/plain": [
       "['hello', 1, 2.0, ['having fun', 123], ['having fun', 123]]"
      ]
     },
     "execution_count": 23,
     "metadata": {},
     "output_type": "execute_result"
    }
   ],
   "source": [
    "mixed = [\"hello\", 1, 2., short, short]\n",
    "mixed"
   ]
  },
  {
   "cell_type": "markdown",
   "id": "209296db-3c85-4c11-8fe8-6d7085bcb4f6",
   "metadata": {},
   "source": [
    "We can access the elements of the list via their indices (starting at 0)"
   ]
  },
  {
   "cell_type": "code",
   "execution_count": 24,
   "id": "55991ef7-1ff8-4fef-9d2e-316a5792ffd8",
   "metadata": {},
   "outputs": [
    {
     "data": {
      "text/plain": [
       "('hello', ['having fun', 123])"
      ]
     },
     "execution_count": 24,
     "metadata": {},
     "output_type": "execute_result"
    }
   ],
   "source": [
    "mixed[0], mixed[-1]  # Notice -1: refers to the last element"
   ]
  },
  {
   "cell_type": "markdown",
   "id": "dde51d28-4eae-4962-86d7-440b289e52df",
   "metadata": {},
   "source": [
    "We can take parts of that list, a so-called slice, by indicating a slice of indexes.\n",
    "The slice has the syntax (`start`, `stop`, [`step`]), the `step` is optional and can be negative.\n",
    "The slice is inclusive on the left and exclusive on the right:"
   ]
  },
  {
   "cell_type": "code",
   "execution_count": 11,
   "id": "02e9d028-1ade-47aa-982e-e0d059bfe2ff",
   "metadata": {},
   "outputs": [
    {
     "data": {
      "text/plain": [
       "[2, 3, 4, 5]"
      ]
     },
     "execution_count": 11,
     "metadata": {},
     "output_type": "execute_result"
    }
   ],
   "source": [
    "numbers = [1, 2, 3, 4, 5, 6]\n",
    "numbers[1: -1]  # Start from second until last (not including it)"
   ]
  },
  {
   "cell_type": "markdown",
   "id": "4787f870-1ffc-4a04-84a4-b970f4bb434d",
   "metadata": {},
   "source": [
    "Importantly, we can modify a list:"
   ]
  },
  {
   "cell_type": "code",
   "execution_count": 27,
   "id": "6df26f3d-0257-4384-89ac-50ffdce452c1",
   "metadata": {},
   "outputs": [
    {
     "data": {
      "text/plain": [
       "['hello', 1, 2.0, ['having fun', 123], ['having fun', 123]]"
      ]
     },
     "execution_count": 27,
     "metadata": {},
     "output_type": "execute_result"
    }
   ],
   "source": [
    "mixed"
   ]
  },
  {
   "cell_type": "code",
   "execution_count": 28,
   "id": "bdf223ef-5f41-478d-8845-1610f417828d",
   "metadata": {},
   "outputs": [
    {
     "data": {
      "text/plain": [
       "[100, 1, 2.0, ['having fun', 123], ['having fun', 123]]"
      ]
     },
     "execution_count": 28,
     "metadata": {},
     "output_type": "execute_result"
    }
   ],
   "source": [
    "mixed[0] = 100\n",
    "mixed"
   ]
  },
  {
   "cell_type": "markdown",
   "id": "d4ebd9d7-6611-47c7-afc3-24911bfede84",
   "metadata": {},
   "source": [
    "You should think of lists as a sequence of *references* to other elements (objects).\n",
    "Here's a practical example:"
   ]
  },
  {
   "cell_type": "code",
   "execution_count": 29,
   "id": "988ffbb5-24a6-4806-8516-3ca4a52aff62",
   "metadata": {},
   "outputs": [],
   "source": [
    "short = [\"python\", 1, 2]\n",
    "long = [1, 2, 3, 4, 5, short, short]"
   ]
  },
  {
   "cell_type": "code",
   "execution_count": 30,
   "id": "cdc114f3-e7d5-40b8-a6e9-a2e608a1a6a6",
   "metadata": {},
   "outputs": [],
   "source": [
    "short[1] = \"is\"\n",
    "short[2] = \"fun\""
   ]
  },
  {
   "cell_type": "code",
   "execution_count": 31,
   "id": "18c14b73-1e6e-47a1-9b09-58962c61bcba",
   "metadata": {},
   "outputs": [
    {
     "data": {
      "text/plain": [
       "['python', 'is', 'fun']"
      ]
     },
     "execution_count": 31,
     "metadata": {},
     "output_type": "execute_result"
    }
   ],
   "source": [
    "short"
   ]
  },
  {
   "cell_type": "code",
   "execution_count": 32,
   "id": "b493d5c4-eefe-441c-82d4-7539cd013faa",
   "metadata": {},
   "outputs": [
    {
     "data": {
      "text/plain": [
       "[1, 2, 3, 4, 5, ['python', 'is', 'fun'], ['python', 'is', 'fun']]"
      ]
     },
     "execution_count": 32,
     "metadata": {},
     "output_type": "execute_result"
    }
   ],
   "source": [
    "long"
   ]
  },
  {
   "cell_type": "markdown",
   "id": "060820d5-094f-4f81-b0f9-0d5c2b72824b",
   "metadata": {},
   "source": [
    "Since `long` is simply holding a reference to `short`, if we modify `short`, we'll see that change propagate to `long`."
   ]
  },
  {
   "cell_type": "markdown",
   "id": "dbcd2b80-f6f2-4e2f-8e56-8e0c1353e62e",
   "metadata": {},
   "source": [
    "We can add elements to a list using the `.append` method:"
   ]
  },
  {
   "cell_type": "code",
   "execution_count": 33,
   "id": "f7ad8d8d-d9a8-4dea-b390-18db66557ea1",
   "metadata": {},
   "outputs": [
    {
     "data": {
      "text/plain": [
       "[1, 2, 'hello again']"
      ]
     },
     "execution_count": 33,
     "metadata": {},
     "output_type": "execute_result"
    }
   ],
   "source": [
    "result = [1, 2]\n",
    "result.append(\"hello again\")\n",
    "result"
   ]
  },
  {
   "cell_type": "markdown",
   "id": "8d9a9a8c-fc1d-4d7d-945c-19fb6b6e57d8",
   "metadata": {},
   "source": [
    "Removing elements is also possible:"
   ]
  },
  {
   "cell_type": "code",
   "execution_count": 34,
   "id": "cc0a5d28-b003-4b9c-9694-7cb06eadec26",
   "metadata": {},
   "outputs": [
    {
     "data": {
      "text/plain": [
       "\u001b[0;31mSignature:\u001b[0m \u001b[0mresult\u001b[0m\u001b[0;34m.\u001b[0m\u001b[0mremove\u001b[0m\u001b[0;34m(\u001b[0m\u001b[0mvalue\u001b[0m\u001b[0;34m,\u001b[0m \u001b[0;34m/\u001b[0m\u001b[0;34m)\u001b[0m\u001b[0;34m\u001b[0m\u001b[0;34m\u001b[0m\u001b[0m\n",
       "\u001b[0;31mDocstring:\u001b[0m\n",
       "Remove first occurrence of value.\n",
       "\n",
       "Raises ValueError if the value is not present.\n",
       "\u001b[0;31mType:\u001b[0m      builtin_function_or_method"
      ]
     },
     "metadata": {},
     "output_type": "display_data"
    }
   ],
   "source": [
    "result.remove?"
   ]
  },
  {
   "cell_type": "code",
   "execution_count": 35,
   "id": "45f8b897-bc21-4872-b59e-860a634ee3be",
   "metadata": {},
   "outputs": [],
   "source": [
    "result.remove(1)"
   ]
  },
  {
   "cell_type": "code",
   "execution_count": 36,
   "id": "70cccae2-7489-4c14-868c-15701c1a529c",
   "metadata": {},
   "outputs": [
    {
     "data": {
      "text/plain": [
       "[2, 'hello again']"
      ]
     },
     "execution_count": 36,
     "metadata": {},
     "output_type": "execute_result"
    }
   ],
   "source": [
    "result"
   ]
  },
  {
   "cell_type": "code",
   "execution_count": 37,
   "id": "1d472adf-db6c-4311-a5cb-54228e0b7a5b",
   "metadata": {},
   "outputs": [
    {
     "ename": "ValueError",
     "evalue": "list.remove(x): x not in list",
     "output_type": "error",
     "traceback": [
      "\u001b[0;31m---------------------------------------------------------------------------\u001b[0m",
      "\u001b[0;31mValueError\u001b[0m                                Traceback (most recent call last)",
      "Cell \u001b[0;32mIn[37], line 1\u001b[0m\n\u001b[0;32m----> 1\u001b[0m \u001b[43mresult\u001b[49m\u001b[38;5;241;43m.\u001b[39;49m\u001b[43mremove\u001b[49m\u001b[43m(\u001b[49m\u001b[38;5;241;43m1\u001b[39;49m\u001b[43m)\u001b[49m\n",
      "\u001b[0;31mValueError\u001b[0m: list.remove(x): x not in list"
     ]
    }
   ],
   "source": [
    "result.remove(1)"
   ]
  },
  {
   "cell_type": "markdown",
   "id": "1bba17e5-429d-48b5-8db2-164a021d5b8f",
   "metadata": {},
   "source": [
    "::: {.callout-note}\n",
    "**Mutability**  \n",
    "In Python some types can be modified (thus we say there are *mutable*), for example `list`.\n",
    "Others can't be modified after creating them, thus *immutable*, for example `tuple`.\n",
    "::: "
   ]
  },
  {
   "cell_type": "markdown",
   "id": "dcf9a370-3359-49d1-9146-48c86ef0a06f",
   "metadata": {},
   "source": [
    "::: {.callout-tip}\n",
    "Explore the buil-int methods associated to list, there are handy ones, like `.sort`\n",
    "::: "
   ]
  },
  {
   "cell_type": "markdown",
   "id": "0014bc98-1de7-456b-b0c8-fff584ad0f43",
   "metadata": {},
   "source": [
    "::: {.callout-note}\n",
    "Names and Variables can be a bit tricky in Python.\n",
    "If you are interested in some more details about the inner workings, I recommend [this talk](https://www.youtube.com/watch?v=_AEJHKGk9ns)\n",
    ":::"
   ]
  },
  {
   "cell_type": "markdown",
   "id": "12b78d5d-31e2-46b6-8628-ccd653287265",
   "metadata": {},
   "source": [
    "## Tuples\n",
    "Similar to `list` but *immutable*, which gives them some performance advantages (that you rarely care about).\n",
    "In practice, rather than because of performance, you should prefer them over lists when care about the mutability (see example below)."
   ]
  },
  {
   "cell_type": "code",
   "execution_count": 38,
   "id": "ccda3180-41b9-401e-b862-9be2ba014e25",
   "metadata": {},
   "outputs": [],
   "source": [
    "sports = (\"tennis\", \"football\", \"handball\")"
   ]
  },
  {
   "cell_type": "code",
   "execution_count": 39,
   "id": "20c5b95c-27ab-4da9-ad2c-2c9adb46b812",
   "metadata": {},
   "outputs": [
    {
     "data": {
      "text/plain": [
       "('tennis', 'football')"
      ]
     },
     "execution_count": 39,
     "metadata": {},
     "output_type": "execute_result"
    }
   ],
   "source": [
    "sports[:2]  # Indexing also works here"
   ]
  },
  {
   "cell_type": "code",
   "execution_count": 40,
   "id": "41a5fb36-e023-4a89-98b6-6a1c64130ccc",
   "metadata": {},
   "outputs": [
    {
     "ename": "TypeError",
     "evalue": "'tuple' object does not support item assignment",
     "output_type": "error",
     "traceback": [
      "\u001b[0;31m---------------------------------------------------------------------------\u001b[0m",
      "\u001b[0;31mTypeError\u001b[0m                                 Traceback (most recent call last)",
      "Cell \u001b[0;32mIn[40], line 1\u001b[0m\n\u001b[0;32m----> 1\u001b[0m \u001b[43msports\u001b[49m\u001b[43m[\u001b[49m\u001b[38;5;241;43m0\u001b[39;49m\u001b[43m]\u001b[49m \u001b[38;5;241m=\u001b[39m \u001b[38;5;124m\"\u001b[39m\u001b[38;5;124mnot gonna work\u001b[39m\u001b[38;5;124m\"\u001b[39m\n",
      "\u001b[0;31mTypeError\u001b[0m: 'tuple' object does not support item assignment"
     ]
    }
   ],
   "source": [
    "sports[0] = \"not gonna work\""
   ]
  },
  {
   "cell_type": "markdown",
   "id": "03249103-c50f-4c82-acfe-21d77bd03341",
   "metadata": {},
   "source": [
    "Sometimes we are forced to use immutable data structures, for example as dictionary keys.\n",
    "That's a perfect use case for tuples too:"
   ]
  },
  {
   "cell_type": "code",
   "execution_count": 4,
   "id": "f1789c25-d9ee-4ea3-97ec-61b45778e94b",
   "metadata": {},
   "outputs": [],
   "source": [
    "mutable_key = [1,2,3]\n",
    "immutable_key = (1,2,3)"
   ]
  },
  {
   "cell_type": "code",
   "execution_count": 5,
   "id": "156e4f5c-9af4-4c21-8af5-fc94b337a0aa",
   "metadata": {},
   "outputs": [
    {
     "ename": "TypeError",
     "evalue": "unhashable type: 'list'",
     "output_type": "error",
     "traceback": [
      "\u001b[0;31m---------------------------------------------------------------------------\u001b[0m",
      "\u001b[0;31mTypeError\u001b[0m                                 Traceback (most recent call last)",
      "Cell \u001b[0;32mIn[5], line 1\u001b[0m\n\u001b[0;32m----> 1\u001b[0m {mutable_key: \u001b[38;5;124m\"\u001b[39m\u001b[38;5;124mnot gonna work\u001b[39m\u001b[38;5;124m\"\u001b[39m}  \u001b[38;5;66;03m# Try to build a dictionary\u001b[39;00m\n",
      "\u001b[0;31mTypeError\u001b[0m: unhashable type: 'list'"
     ]
    }
   ],
   "source": [
    "{mutable_key: \"not gonna work\"}  # Try to build a dictionary"
   ]
  },
  {
   "cell_type": "code",
   "execution_count": 7,
   "id": "bd76fde2-d669-495c-a45a-19f526767afc",
   "metadata": {},
   "outputs": [],
   "source": [
    "d = {immutable_key: \"that looks better\"}"
   ]
  },
  {
   "cell_type": "markdown",
   "id": "33dc7880-14e5-4666-adb9-6fc2f3575282",
   "metadata": {},
   "source": [
    "And we can retrieve that value as per usual:"
   ]
  },
  {
   "cell_type": "code",
   "execution_count": 9,
   "id": "9d0ae3ef-4f44-4b41-b954-ee5f341ac6a9",
   "metadata": {},
   "outputs": [
    {
     "data": {
      "text/plain": [
       "'that looks better'"
      ]
     },
     "execution_count": 9,
     "metadata": {},
     "output_type": "execute_result"
    }
   ],
   "source": [
    "d[(1,2,3)]"
   ]
  },
  {
   "cell_type": "code",
   "execution_count": 10,
   "id": "c2fa4713-483c-45c3-a085-f72691f0f298",
   "metadata": {},
   "outputs": [
    {
     "data": {
      "text/plain": [
       "'that looks better'"
      ]
     },
     "execution_count": 10,
     "metadata": {},
     "output_type": "execute_result"
    }
   ],
   "source": [
    "d[1,2,3]  # optionally without parenthesis"
   ]
  },
  {
   "cell_type": "markdown",
   "id": "4b0ace44-0df1-43f3-86db-0fb2fdb4785b",
   "metadata": {},
   "source": [
    "In a subsquent chapter we will cover a more useful variation of `tuple`, the `NamedTuple`."
   ]
  },
  {
   "cell_type": "markdown",
   "id": "afc68e87-efbb-4659-8731-adecb0642679",
   "metadata": {},
   "source": [
    "## Sets\n",
    "Sets will guarantee at most 1 occurrence of each element, so it's ideal to maintain a container with unique elements."
   ]
  },
  {
   "cell_type": "code",
   "execution_count": 41,
   "id": "8da00edb-0ab1-4a6b-bea4-bf3a50a7553d",
   "metadata": {},
   "outputs": [
    {
     "data": {
      "text/plain": [
       "{1, 2, 3}"
      ]
     },
     "execution_count": 41,
     "metadata": {},
     "output_type": "execute_result"
    }
   ],
   "source": [
    "unique_numbers = {1, 2, 2, 2, 2, 2, 2, 3}\n",
    "unique_numbers"
   ]
  },
  {
   "cell_type": "code",
   "execution_count": 42,
   "id": "31381b04-4173-46d2-91cf-426c6aa246e2",
   "metadata": {},
   "outputs": [
    {
     "data": {
      "text/plain": [
       "{1, 2, 3, 4}"
      ]
     },
     "execution_count": 42,
     "metadata": {},
     "output_type": "execute_result"
    }
   ],
   "source": [
    "unique_numbers.add(4)\n",
    "unique_numbers"
   ]
  },
  {
   "cell_type": "code",
   "execution_count": 43,
   "id": "6eeb2f13-2051-4785-815c-6ff81d9e9e5c",
   "metadata": {},
   "outputs": [
    {
     "data": {
      "text/plain": [
       "{1, 2, 3, 4}"
      ]
     },
     "execution_count": 43,
     "metadata": {},
     "output_type": "execute_result"
    }
   ],
   "source": [
    "unique_numbers.add(2)\n",
    "unique_numbers"
   ]
  },
  {
   "cell_type": "markdown",
   "id": "1bd93267-9350-4013-9890-b72fd442639d",
   "metadata": {},
   "source": [
    "::: {.callout-warning}\n",
    "Sets don't preserve insertion order!\n",
    ":::"
   ]
  },
  {
   "cell_type": "code",
   "execution_count": 44,
   "id": "4c283f00-b8b9-479e-baef-e95971a59842",
   "metadata": {},
   "outputs": [
    {
     "data": {
      "text/plain": [
       "{1, 2, 4, 'ciao', 'hello', 'world'}"
      ]
     },
     "execution_count": 44,
     "metadata": {},
     "output_type": "execute_result"
    }
   ],
   "source": [
    "{\"hello\", \"world\", 1,2, \"ciao\", 4}"
   ]
  },
  {
   "cell_type": "markdown",
   "id": "286e3d25-ed98-4ab2-ac46-009f60e71455",
   "metadata": {},
   "source": [
    "Sets are also much faster for lookups than lists and tuples.\n",
    "Let's look at an example:"
   ]
  },
  {
   "cell_type": "code",
   "execution_count": 45,
   "id": "7bafe6ec-bc7b-4cc1-9b0f-b44b82d5521c",
   "metadata": {},
   "outputs": [],
   "source": [
    "numbers_list = list(range(100_000_000))\n",
    "numbers_tuple = tuple(range(100_000_000))\n",
    "numbers_set = set(range(100_000_000))"
   ]
  },
  {
   "cell_type": "code",
   "execution_count": 46,
   "id": "1f109350-0b5e-4e3b-95ad-1c840cca785d",
   "metadata": {},
   "outputs": [
    {
     "name": "stdout",
     "output_type": "stream",
     "text": [
      "CPU times: user 739 ms, sys: 158 µs, total: 739 ms\n",
      "Wall time: 735 ms\n"
     ]
    },
    {
     "data": {
      "text/plain": [
       "False"
      ]
     },
     "execution_count": 46,
     "metadata": {},
     "output_type": "execute_result"
    }
   ],
   "source": [
    "%%time\n",
    "500_000_000 in numbers_list"
   ]
  },
  {
   "cell_type": "code",
   "execution_count": 47,
   "id": "ce354d24-d7d7-4ac6-934c-08bef7df7a89",
   "metadata": {},
   "outputs": [
    {
     "name": "stdout",
     "output_type": "stream",
     "text": [
      "CPU times: user 712 ms, sys: 0 ns, total: 712 ms\n",
      "Wall time: 709 ms\n"
     ]
    },
    {
     "data": {
      "text/plain": [
       "False"
      ]
     },
     "execution_count": 47,
     "metadata": {},
     "output_type": "execute_result"
    }
   ],
   "source": [
    "%%time\n",
    "500_000_000 in numbers_tuple"
   ]
  },
  {
   "cell_type": "code",
   "execution_count": 48,
   "id": "62af2363-81fc-4205-9557-9a344c26b6ca",
   "metadata": {},
   "outputs": [
    {
     "name": "stdout",
     "output_type": "stream",
     "text": [
      "CPU times: user 3 µs, sys: 0 ns, total: 3 µs\n",
      "Wall time: 7.63 µs\n"
     ]
    },
    {
     "data": {
      "text/plain": [
       "False"
      ]
     },
     "execution_count": 48,
     "metadata": {},
     "output_type": "execute_result"
    }
   ],
   "source": [
    "%%time\n",
    "500_000_000 in numbers_set"
   ]
  },
  {
   "cell_type": "markdown",
   "id": "1740134d-0085-488a-9a5f-4c0f2c15af93",
   "metadata": {},
   "source": [
    "## Dictionaries\n",
    "A dictionary is a mapping from `keys` to `values`.\n",
    "They keys are unique.\n",
    "The values can be anything."
   ]
  },
  {
   "cell_type": "code",
   "execution_count": 4,
   "id": "ff167145-8f39-4627-a801-7cf4d99c90c0",
   "metadata": {},
   "outputs": [
    {
     "data": {
      "text/plain": [
       "{'learning': 1, 'python': 2, 'is': 3, 'fun': 4}"
      ]
     },
     "execution_count": 4,
     "metadata": {},
     "output_type": "execute_result"
    }
   ],
   "source": [
    "word2num = {\n",
    "    \"learning\": 1,\n",
    "    \"python\": 2,\n",
    "    \"is\": 3,\n",
    "    \"fun\": 4\n",
    "}\n",
    "word2num"
   ]
  },
  {
   "cell_type": "markdown",
   "id": "189426bc-b965-4c04-a270-1b2155df1de6",
   "metadata": {},
   "source": [
    "We can access them:"
   ]
  },
  {
   "cell_type": "code",
   "execution_count": 5,
   "id": "1ed8d1c8-1fa0-4fe4-821a-a075ff16adf5",
   "metadata": {},
   "outputs": [
    {
     "data": {
      "text/plain": [
       "3"
      ]
     },
     "execution_count": 5,
     "metadata": {},
     "output_type": "execute_result"
    }
   ],
   "source": [
    "word2num[\"is\"]"
   ]
  },
  {
   "cell_type": "code",
   "execution_count": 6,
   "id": "f797e4e3-a8f3-4f32-9d49-4c4cd0985cf5",
   "metadata": {},
   "outputs": [
    {
     "data": {
      "text/plain": [
       "{'python': [1, 2, 3], 'tennis': [4, 5, 6]}"
      ]
     },
     "execution_count": 6,
     "metadata": {},
     "output_type": "execute_result"
    }
   ],
   "source": [
    "word2vec = {\n",
    "    \"python\": [1,2,3],\n",
    "    \"tennis\": [4,5,6]\n",
    "}\n",
    "word2vec"
   ]
  },
  {
   "cell_type": "code",
   "execution_count": 7,
   "id": "fc21cf18-368a-456e-869c-dbafe12fb295",
   "metadata": {},
   "outputs": [
    {
     "data": {
      "text/plain": [
       "{'first': {'one': 1, 'two': 2}, 'second': {'three': 3, 'four': 4}}"
      ]
     },
     "execution_count": 7,
     "metadata": {},
     "output_type": "execute_result"
    }
   ],
   "source": [
    "nested = {\n",
    "    \"first\": {\n",
    "        \"one\": 1,\n",
    "        \"two\": 2,\n",
    "    },\n",
    "    \"second\": {\n",
    "        \"three\": 3,\n",
    "        \"four\": 4,\n",
    "    },\n",
    "}\n",
    "nested"
   ]
  },
  {
   "cell_type": "code",
   "execution_count": 8,
   "id": "d70976b4-d4f0-46f1-a2fb-b8fe22fc9797",
   "metadata": {},
   "outputs": [
    {
     "data": {
      "text/plain": [
       "4"
      ]
     },
     "execution_count": 8,
     "metadata": {},
     "output_type": "execute_result"
    }
   ],
   "source": [
    "nested[\"second\"][\"four\"]"
   ]
  },
  {
   "cell_type": "markdown",
   "id": "b5294b90-afb7-4baf-96c2-d393e1790b8d",
   "metadata": {},
   "source": [
    "It's important to keep in mind that dictionaries consist of *items* that are key-value pairs.\n",
    "That means we can build them *from* those paired items:"
   ]
  },
  {
   "cell_type": "code",
   "execution_count": 9,
   "id": "4fc0f5d6-5afb-4c61-939a-7ec3fc4b5568",
   "metadata": {},
   "outputs": [
    {
     "data": {
      "text/plain": [
       "[('one', 1), ('two', 2), ('three', 3)]"
      ]
     },
     "execution_count": 9,
     "metadata": {},
     "output_type": "execute_result"
    }
   ],
   "source": [
    "items = [\n",
    "    (\"one\", 1),\n",
    "    (\"two\", 2),\n",
    "    (\"three\", 3),\n",
    "]\n",
    "items"
   ]
  },
  {
   "cell_type": "code",
   "execution_count": 10,
   "id": "f6a0a6e1-cb1a-44dd-b5c7-4326b1a1e517",
   "metadata": {},
   "outputs": [
    {
     "data": {
      "text/plain": [
       "({'one': 1, 'two': 2, 'three': 3}, dict)"
      ]
     },
     "execution_count": 10,
     "metadata": {},
     "output_type": "execute_result"
    }
   ],
   "source": [
    "pairs = dict(items)\n",
    "pairs, type(pairs)"
   ]
  },
  {
   "cell_type": "markdown",
   "id": "ce923e3a-6726-45d3-8f9b-70aa923c7d6c",
   "metadata": {},
   "source": [
    "We often want to iterate through the elements of a dictionary:"
   ]
  },
  {
   "cell_type": "code",
   "execution_count": 11,
   "id": "2405fe5e-a5f1-4df0-92fb-df818aafbb8c",
   "metadata": {},
   "outputs": [
    {
     "name": "stdout",
     "output_type": "stream",
     "text": [
      "one\n",
      "two\n",
      "three\n"
     ]
    }
   ],
   "source": [
    "for key in pairs:\n",
    "    print(key)"
   ]
  },
  {
   "cell_type": "code",
   "execution_count": 12,
   "id": "f5a1e500-38c4-439a-9787-b334fdbb352c",
   "metadata": {},
   "outputs": [
    {
     "name": "stdout",
     "output_type": "stream",
     "text": [
      "one\n",
      "two\n",
      "three\n"
     ]
    }
   ],
   "source": [
    "for key in pairs.keys():\n",
    "    print(key)"
   ]
  },
  {
   "cell_type": "code",
   "execution_count": 13,
   "id": "6a4816c3-7f7a-4888-bad3-f0be97326868",
   "metadata": {},
   "outputs": [
    {
     "name": "stdout",
     "output_type": "stream",
     "text": [
      "1\n",
      "2\n",
      "3\n"
     ]
    }
   ],
   "source": [
    "for val in pairs.values():\n",
    "    print(val)"
   ]
  },
  {
   "cell_type": "code",
   "execution_count": 14,
   "id": "4de27666-4502-4f42-a7a5-6b457dacdcc8",
   "metadata": {},
   "outputs": [
    {
     "name": "stdout",
     "output_type": "stream",
     "text": [
      "('one', 1)\n",
      "('two', 2)\n",
      "('three', 3)\n"
     ]
    }
   ],
   "source": [
    "for item in pairs.items():\n",
    "    print(item)"
   ]
  },
  {
   "cell_type": "code",
   "execution_count": 15,
   "id": "f2d8d51a-b631-4406-8faf-9bbc69647a22",
   "metadata": {},
   "outputs": [
    {
     "data": {
      "text/plain": [
       "dict_keys(['one', 'two', 'three'])"
      ]
     },
     "execution_count": 15,
     "metadata": {},
     "output_type": "execute_result"
    }
   ],
   "source": [
    "keys = pairs.keys()\n",
    "keys"
   ]
  },
  {
   "cell_type": "code",
   "execution_count": 16,
   "id": "99cda6f0-561d-4b10-8b52-f4f8244e4b8d",
   "metadata": {},
   "outputs": [
    {
     "data": {
      "text/plain": [
       "dict_values([1, 2, 3])"
      ]
     },
     "execution_count": 16,
     "metadata": {},
     "output_type": "execute_result"
    }
   ],
   "source": [
    "vals = pairs.values()\n",
    "vals"
   ]
  },
  {
   "cell_type": "markdown",
   "id": "5ad1a14e-2cb1-45bc-8bfc-0fe82e318ac7",
   "metadata": {},
   "source": [
    "We can combine two collections, for example two lists, with the `zip` function.\n",
    "`zip` interleaves elements and stops as soon as the *shortest* collection is consumed:"
   ]
  },
  {
   "cell_type": "code",
   "execution_count": 17,
   "id": "ef004b6a-7843-4141-a330-5c9a7713e31a",
   "metadata": {},
   "outputs": [
    {
     "data": {
      "text/plain": [
       "{'one': 1, 'two': 2, 'three': 3}"
      ]
     },
     "execution_count": 17,
     "metadata": {},
     "output_type": "execute_result"
    }
   ],
   "source": [
    "dict(zip(keys, vals))"
   ]
  },
  {
   "cell_type": "markdown",
   "id": "1b93db05-ef7a-41da-9007-82768d0af16f",
   "metadata": {},
   "source": [
    "The inverse operation to `zip` can be done by unpacking (with `*`) the arguments like this:"
   ]
  },
  {
   "cell_type": "code",
   "execution_count": 24,
   "id": "dfcc352d-16b2-475a-8d94-7919777618bb",
   "metadata": {},
   "outputs": [
    {
     "data": {
      "text/plain": [
       "[('one', 'two', 'three'), (1, 2, 3)]"
      ]
     },
     "execution_count": 24,
     "metadata": {},
     "output_type": "execute_result"
    }
   ],
   "source": [
    "list(zip(*zip(keys, vals)))"
   ]
  },
  {
   "cell_type": "markdown",
   "id": "cb477a69-ecb1-42a2-89fc-1fbf9cf77923",
   "metadata": {},
   "source": [
    "In Python we can \"unpack\" sequences directly during assignment:"
   ]
  },
  {
   "cell_type": "code",
   "execution_count": 63,
   "id": "2510a429-0490-4b03-8b61-b06e5cec57c2",
   "metadata": {},
   "outputs": [],
   "source": [
    "seq = [1,2]"
   ]
  },
  {
   "cell_type": "code",
   "execution_count": 64,
   "id": "946a8ec6-02fd-4828-8b99-2a21f09700a5",
   "metadata": {},
   "outputs": [],
   "source": [
    "first, second = seq"
   ]
  },
  {
   "cell_type": "code",
   "execution_count": 65,
   "id": "f9c5fa9c-f574-4a72-975f-a2234c6904ea",
   "metadata": {},
   "outputs": [
    {
     "data": {
      "text/plain": [
       "(1, 2)"
      ]
     },
     "execution_count": 65,
     "metadata": {},
     "output_type": "execute_result"
    }
   ],
   "source": [
    "first, second"
   ]
  },
  {
   "cell_type": "code",
   "execution_count": 66,
   "id": "8f446bd0-7664-426a-831c-e622ef740d36",
   "metadata": {},
   "outputs": [],
   "source": [
    "seq = (1, 2, 3, 4)"
   ]
  },
  {
   "cell_type": "code",
   "execution_count": 67,
   "id": "a9ebfb5e-ff8b-4211-a89f-f4cdf520c846",
   "metadata": {},
   "outputs": [
    {
     "data": {
      "text/plain": [
       "(1, [2, 3, 4])"
      ]
     },
     "execution_count": 67,
     "metadata": {},
     "output_type": "execute_result"
    }
   ],
   "source": [
    "first, *rest = seq\n",
    "first, rest"
   ]
  },
  {
   "cell_type": "code",
   "execution_count": 68,
   "id": "090ce4da-1d78-487c-9b1e-6a6611e12840",
   "metadata": {},
   "outputs": [
    {
     "data": {
      "text/plain": [
       "(1, [2, 3], 4)"
      ]
     },
     "execution_count": 68,
     "metadata": {},
     "output_type": "execute_result"
    }
   ],
   "source": [
    "first, *middle, last = seq\n",
    "first, middle, last"
   ]
  },
  {
   "cell_type": "markdown",
   "id": "91b8e57f-f842-4a00-973c-2236a276073e",
   "metadata": {},
   "source": [
    "We can iterate and *unpack* the items of a dictionary on the fly:"
   ]
  },
  {
   "cell_type": "code",
   "execution_count": 69,
   "id": "faa32169-7d0a-42fd-b806-36ae2e03f7a1",
   "metadata": {},
   "outputs": [
    {
     "name": "stdout",
     "output_type": "stream",
     "text": [
      "one -> 1\n",
      "two -> 2\n",
      "three -> 3\n"
     ]
    }
   ],
   "source": [
    "for key, val in pairs.items():\n",
    "    print(f\"{key} -> {val}\")"
   ]
  },
  {
   "cell_type": "markdown",
   "id": "6ba5fb58-c43e-490d-a08c-50d2cdb6c2f7",
   "metadata": {},
   "source": [
    "We can modify a dictionary, by updating an item or items:"
   ]
  },
  {
   "cell_type": "code",
   "execution_count": 70,
   "id": "5bab5a12-1e67-4996-94fe-502fdd59cffe",
   "metadata": {},
   "outputs": [
    {
     "data": {
      "text/plain": [
       "{'one': 1, 'two': 2, 'three': 3}"
      ]
     },
     "execution_count": 70,
     "metadata": {},
     "output_type": "execute_result"
    }
   ],
   "source": [
    "pairs"
   ]
  },
  {
   "cell_type": "code",
   "execution_count": 71,
   "id": "114262c0-65c9-420e-ab75-34e72b376868",
   "metadata": {},
   "outputs": [
    {
     "data": {
      "text/plain": [
       "{'one': 111, 'two': 2, 'three': 3}"
      ]
     },
     "execution_count": 71,
     "metadata": {},
     "output_type": "execute_result"
    }
   ],
   "source": [
    "pairs.update({\"one\": 111})\n",
    "pairs"
   ]
  },
  {
   "cell_type": "code",
   "execution_count": 72,
   "id": "a0f5d52b-a9f1-4491-8e32-53c164b2c31f",
   "metadata": {},
   "outputs": [
    {
     "data": {
      "text/plain": [
       "{'one': 111, 'two': 2, 'three': 3, 'four': 4}"
      ]
     },
     "execution_count": 72,
     "metadata": {},
     "output_type": "execute_result"
    }
   ],
   "source": [
    "pairs[\"four\"] = 4\n",
    "pairs"
   ]
  },
  {
   "cell_type": "markdown",
   "id": "c1d38ca9-5a02-4b4a-b793-82da9aa3ed29",
   "metadata": {},
   "source": [
    "## Exercises\n",
    "1) Create variables for the name of your favorite book and its author. Use an f-string to print a sentence that says, \"My favorite book is [book] by [author].\"\n",
    "2) Repeat it, but the book and author should be CAPITAL CASE.\n",
    "3) Repeat it, but the author and book should be each one a single word connected by hyphens, eg: \"Charles Darwin\" -> \"charles-darwin\".\n",
    "4) Create a list of your 3 favorite books. Print the length of the list.\n",
    "5) Create a list of your 3 favorite sports.\n",
    "6) Concatenate the two previous lists and print the result.\n",
    "7) Print the last 2 elements of the concatenated list.\n",
    "8) Print the third element of the list with its characters in reversed order.\n",
    "9) Create a tuple containing 5 different cities. Print the first and last city from the tuple.\n",
    "10) Create a tuple of numbers and use slicing to print the middle three numbers.\n",
    "11) Create a dictionary with your favorite fruits as keys and their colors as values. Print the color of a specific fruit.\n",
    "12) Create a dictionary with countries as keys and their capitals as values. Print the keys and values separately.\n",
    "13) Invert the items of the dictionary, making the keys the values and vice versa.\n",
    "14) Create a set of your 3 favorite animals. Check if a specific animal is in the set.\n",
    "15) Create two sets of your favorite sports and find the difference between them."
   ]
  }
 ],
 "metadata": {
  "kernelspec": {
   "display_name": "Python 3 (ipykernel)",
   "language": "python",
   "name": "python3"
  },
  "language_info": {
   "codemirror_mode": {
    "name": "ipython",
    "version": 3
   },
   "file_extension": ".py",
   "mimetype": "text/x-python",
   "name": "python",
   "nbconvert_exporter": "python",
   "pygments_lexer": "ipython3",
   "version": "3.10.13"
  }
 },
 "nbformat": 4,
 "nbformat_minor": 5
}
