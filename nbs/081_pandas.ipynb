{
 "cells": [
  {
   "cell_type": "markdown",
   "id": "97a9ac71-a121-4b3e-bd73-a9721222d5ac",
   "metadata": {},
   "source": [
    "---\n",
    "title: Pandas\n",
    "toc: true\n",
    "---"
   ]
  },
  {
   "cell_type": "markdown",
   "id": "3ddeb664-caee-4f6f-b4ec-abcf56c757a3",
   "metadata": {},
   "source": [
    "Check out the pandas getting-started documentation [here](https://pandas.pydata.org/docs/getting_started/index.html#getting-started)"
   ]
  },
  {
   "cell_type": "markdown",
   "id": "6316f5d5-224b-4409-858f-359639575efd",
   "metadata": {},
   "source": [
    "Here's short introduction by the very author of the library:\n",
    "\n",
    "{{< video https://www.youtube.com/watch?v=_T8LGqJtuGc >}}"
   ]
  },
  {
   "cell_type": "code",
   "execution_count": null,
   "id": "93415bfd-a66d-44a1-8749-5e98d0f950bf",
   "metadata": {},
   "outputs": [],
   "source": []
  }
 ],
 "metadata": {
  "kernelspec": {
   "display_name": "Python 3 (ipykernel)",
   "language": "python",
   "name": "python3"
  },
  "language_info": {
   "codemirror_mode": {
    "name": "ipython",
    "version": 3
   },
   "file_extension": ".py",
   "mimetype": "text/x-python",
   "name": "python",
   "nbconvert_exporter": "python",
   "pygments_lexer": "ipython3",
   "version": "3.10.13"
  }
 },
 "nbformat": 4,
 "nbformat_minor": 5
}
