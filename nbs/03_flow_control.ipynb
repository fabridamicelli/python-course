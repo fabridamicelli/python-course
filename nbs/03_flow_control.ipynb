{
 "cells": [
  {
   "cell_type": "markdown",
   "id": "245999c1-8db0-4d21-8e2a-18798f4d87cd",
   "metadata": {},
   "source": [
    "---\n",
    "title: Flow Control\n",
    "toc: true\n",
    "---"
   ]
  },
  {
   "attachments": {},
   "cell_type": "markdown",
   "id": "493c0563-f1b4-4438-af55-0915a3c6a48d",
   "metadata": {},
   "source": [
    "Let's take a look at a few syntax aspects that allow us to control how our program flows.\n",
    "\n",
    "We can loop over *things* (we'll get back to this later):"
   ]
  },
  {
   "cell_type": "markdown",
   "id": "07dcd507-49bb-4e71-9aa0-ece75e70edf6",
   "metadata": {},
   "source": [
    "## Loops"
   ]
  },
  {
   "cell_type": "code",
   "execution_count": 13,
   "id": "a7c72f91-cec2-4e9e-8ad6-4689df14aad3",
   "metadata": {},
   "outputs": [
    {
     "name": "stdout",
     "output_type": "stream",
     "text": [
      "2\n",
      "4\n",
      "6\n",
      "8\n",
      "10\n"
     ]
    }
   ],
   "source": [
    "for number in range(2, 11, 2):\n",
    "    print(number)"
   ]
  },
  {
   "cell_type": "code",
   "execution_count": 12,
   "id": "2c9d921c-9d04-48b4-a5c4-0a109d0d7d84",
   "metadata": {},
   "outputs": [
    {
     "data": {
      "text/plain": [
       "\u001b[0;31mInit signature:\u001b[0m \u001b[0mrange\u001b[0m\u001b[0;34m(\u001b[0m\u001b[0mself\u001b[0m\u001b[0;34m,\u001b[0m \u001b[0;34m/\u001b[0m\u001b[0;34m,\u001b[0m \u001b[0;34m*\u001b[0m\u001b[0margs\u001b[0m\u001b[0;34m,\u001b[0m \u001b[0;34m**\u001b[0m\u001b[0mkwargs\u001b[0m\u001b[0;34m)\u001b[0m\u001b[0;34m\u001b[0m\u001b[0;34m\u001b[0m\u001b[0m\n",
       "\u001b[0;31mDocstring:\u001b[0m     \n",
       "range(stop) -> range object\n",
       "range(start, stop[, step]) -> range object\n",
       "\n",
       "Return an object that produces a sequence of integers from start (inclusive)\n",
       "to stop (exclusive) by step.  range(i, j) produces i, i+1, i+2, ..., j-1.\n",
       "start defaults to 0, and stop is omitted!  range(4) produces 0, 1, 2, 3.\n",
       "These are exactly the valid indices for a list of 4 elements.\n",
       "When step is given, it specifies the increment (or decrement).\n",
       "\u001b[0;31mType:\u001b[0m           type\n",
       "\u001b[0;31mSubclasses:\u001b[0m     "
      ]
     },
     "metadata": {},
     "output_type": "display_data"
    }
   ],
   "source": [
    "range?"
   ]
  },
  {
   "cell_type": "code",
   "execution_count": 2,
   "id": "e7120365-aa49-44be-8cd7-84efa2c95831",
   "metadata": {},
   "outputs": [],
   "source": [
    "players = [\n",
    "    \"Tilo\",\n",
    "    \"Fiona\",\n",
    "    \"Ray\",\n",
    "]"
   ]
  },
  {
   "cell_type": "markdown",
   "id": "dc9e5bc1-b2b1-45a7-a4a2-bebdb3f669b2",
   "metadata": {},
   "source": [
    "It is a good practice to directly loop over the elements of collections like so:"
   ]
  },
  {
   "cell_type": "code",
   "execution_count": 3,
   "id": "648798b6-bc7e-437d-b967-8d2c0797fb8f",
   "metadata": {},
   "outputs": [
    {
     "name": "stdout",
     "output_type": "stream",
     "text": [
      "Tilo\n",
      "Fiona\n",
      "Ray\n"
     ]
    }
   ],
   "source": [
    "for player in players:\n",
    "    print(player)"
   ]
  },
  {
   "cell_type": "markdown",
   "id": "bc862721-3251-44c2-87b9-79fb6d4b4770",
   "metadata": {},
   "source": [
    "If you really need the indices to carry some other operation, you can get them as you go with `enumerate`, which returns a tuple:"
   ]
  },
  {
   "cell_type": "code",
   "execution_count": 4,
   "id": "a2177c59-df20-4db3-bb8d-da5a9d4ba7bc",
   "metadata": {},
   "outputs": [
    {
     "name": "stdout",
     "output_type": "stream",
     "text": [
      "0 Tilo\n",
      "1 Fiona\n",
      "2 Ray\n"
     ]
    }
   ],
   "source": [
    "for i, player in enumerate(players):\n",
    "    print(i, player)"
   ]
  },
  {
   "cell_type": "markdown",
   "id": "b5f44135-75b5-4383-b059-f9cbf9e77e00",
   "metadata": {},
   "source": [
    "Notice: These tuples are just like dictionary items, so we can build a dictionary with them:"
   ]
  },
  {
   "cell_type": "code",
   "execution_count": 5,
   "id": "788ed63b-7ee4-47a1-a786-8a931cebe883",
   "metadata": {},
   "outputs": [
    {
     "data": {
      "text/plain": [
       "{0: 'Tilo', 1: 'Fiona', 2: 'Ray'}"
      ]
     },
     "execution_count": 5,
     "metadata": {},
     "output_type": "execute_result"
    }
   ],
   "source": [
    "dict(enumerate(players))"
   ]
  },
  {
   "cell_type": "markdown",
   "id": "9dd95ac6-450a-4eb5-b6a1-b68ef8150691",
   "metadata": {},
   "source": [
    "Importantly, Python doesn't care about `what` data type we are looping over – all that matters is the data \"knows\" how to be looped over:"
   ]
  },
  {
   "cell_type": "code",
   "execution_count": 7,
   "id": "ac9d1aef-b65b-48af-a5bf-f8703be34193",
   "metadata": {},
   "outputs": [
    {
     "name": "stdout",
     "output_type": "stream",
     "text": [
      "Tilo\n",
      "T\n",
      "i\n",
      "l\n",
      "o\n",
      "-----\n",
      "Fiona\n",
      "F\n",
      "i\n",
      "o\n",
      "n\n",
      "a\n",
      "-----\n",
      "Ray\n",
      "R\n",
      "a\n",
      "y\n",
      "-----\n"
     ]
    }
   ],
   "source": [
    "for player in players:\n",
    "    print(player)\n",
    "    for letter in player:\n",
    "        print(letter)\n",
    "    print(\"-\" * 5)"
   ]
  },
  {
   "cell_type": "markdown",
   "id": "f5e37e23-2e6a-432a-b29d-1c6be0ec8140",
   "metadata": {},
   "source": [
    "This is a powerful (and typical for Python) way to reason about the objects we deal with: We care more about how the _behave_ than what they _are_, a concept related to what people informally call [duck typing](https://realpython.com/duck-typing-python/)."
   ]
  },
  {
   "cell_type": "markdown",
   "id": "ea98b426-1db7-4f15-a865-8fd023be25aa",
   "metadata": {},
   "source": [
    "We also have `while` loops, that will run as long as the condition is true:"
   ]
  },
  {
   "cell_type": "markdown",
   "id": "bf5b1664-114e-43a2-bbd3-6f6026b4a4e4",
   "metadata": {},
   "source": [
    "::: {.callout-tip title=\"Tip: Use while loops sparingly\"}\n",
    "It's very easy to make mistakes and run into infinite loops.\n",
    ":::"
   ]
  },
  {
   "cell_type": "code",
   "execution_count": 13,
   "id": "ed368d81-01f9-46b7-b9ec-76bfdbbb08ab",
   "metadata": {},
   "outputs": [
    {
     "name": "stdout",
     "output_type": "stream",
     "text": [
      "1\n",
      "2\n",
      "3\n",
      "end-of-loop\n"
     ]
    }
   ],
   "source": [
    "message, count = \"end-of-loop\", 1  # We can do multiple assignment with tuple unpacking\n",
    "while True:\n",
    "    print(count)\n",
    "    count += 1   # equivalent to count = count + 1\n",
    "    if count == 4:\n",
    "        print(message)\n",
    "        break  # we can interrupt the loop"
   ]
  },
  {
   "attachments": {},
   "cell_type": "markdown",
   "id": "0a4ee03e-973a-42c9-a22d-515ba2f1dca2",
   "metadata": {},
   "source": [
    "We say something is \"falsy\" when it evaluates to `False`, despite it not being the boolen value `False`.\n",
    "\n",
    "Empty containers (lists, tuples, dicts, sets) are \"falsy\", which can be handy:"
   ]
  },
  {
   "cell_type": "code",
   "execution_count": 9,
   "id": "72d3a08d-8445-4074-97aa-f38c9acaae1f",
   "metadata": {},
   "outputs": [
    {
     "data": {
      "text/plain": [
       "\u001b[0;31mSignature:\u001b[0m \u001b[0mlist\u001b[0m\u001b[0;34m.\u001b[0m\u001b[0mpop\u001b[0m\u001b[0;34m(\u001b[0m\u001b[0mself\u001b[0m\u001b[0;34m,\u001b[0m \u001b[0mindex\u001b[0m\u001b[0;34m=\u001b[0m\u001b[0;34m-\u001b[0m\u001b[0;36m1\u001b[0m\u001b[0;34m,\u001b[0m \u001b[0;34m/\u001b[0m\u001b[0;34m)\u001b[0m\u001b[0;34m\u001b[0m\u001b[0;34m\u001b[0m\u001b[0m\n",
       "\u001b[0;31mDocstring:\u001b[0m\n",
       "Remove and return item at index (default last).\n",
       "\n",
       "Raises IndexError if list is empty or index is out of range.\n",
       "\u001b[0;31mType:\u001b[0m      method_descriptor"
      ]
     },
     "metadata": {},
     "output_type": "display_data"
    }
   ],
   "source": [
    "list.pop?"
   ]
  },
  {
   "cell_type": "code",
   "execution_count": 10,
   "id": "f5f74b27-1973-4755-817e-c98d2d86b4fd",
   "metadata": {},
   "outputs": [
    {
     "name": "stdout",
     "output_type": "stream",
     "text": [
      "Removing: Ray\n",
      "Removing: Fiona\n",
      "Removing: Tilo\n"
     ]
    }
   ],
   "source": [
    "while players:  # when the list players is empty, it will become falsy\n",
    "    player = players.pop()\n",
    "    print(f\"Removing: {player}\")"
   ]
  },
  {
   "cell_type": "code",
   "execution_count": 11,
   "id": "aea063c4-e43e-4a67-9a9e-4ae77ba83515",
   "metadata": {},
   "outputs": [
    {
     "data": {
      "text/plain": [
       "[]"
      ]
     },
     "execution_count": 11,
     "metadata": {},
     "output_type": "execute_result"
    }
   ],
   "source": [
    "players"
   ]
  },
  {
   "cell_type": "markdown",
   "id": "60091d07-2278-44d0-b96f-034ffa8035c2",
   "metadata": {},
   "source": [
    "## If Statement"
   ]
  },
  {
   "cell_type": "code",
   "execution_count": 1,
   "id": "40b8e08a-c78e-43d2-b2b3-c792549bbc25",
   "metadata": {},
   "outputs": [
    {
     "name": "stdout",
     "output_type": "stream",
     "text": [
      "kind of reasonable\n"
     ]
    }
   ],
   "source": [
    "if 1 > 0:\n",
    "    print(\"kind of reasonable\")\n",
    "else:\n",
    "    print(\"not quite\")"
   ]
  },
  {
   "cell_type": "code",
   "execution_count": 3,
   "id": "caca9dc0-0d75-4237-b102-bc93d8f7a97f",
   "metadata": {},
   "outputs": [
    {
     "name": "stdout",
     "output_type": "stream",
     "text": [
      "I give up\n"
     ]
    }
   ],
   "source": [
    "x = 1\n",
    "if x > 2:\n",
    "    print(\"kind of crazy\")\n",
    "elif x == 2:\n",
    "    print(\"same\")    \n",
    "elif x == 3:\n",
    "    print(\"say what?\")\n",
    "else:\n",
    "    print(\"I give up\")"
   ]
  }
 ],
 "metadata": {
  "kernelspec": {
   "display_name": "Python 3 (ipykernel)",
   "language": "python",
   "name": "python3"
  },
  "language_info": {
   "codemirror_mode": {
    "name": "ipython",
    "version": 3
   },
   "file_extension": ".py",
   "mimetype": "text/x-python",
   "name": "python",
   "nbconvert_exporter": "python",
   "pygments_lexer": "ipython3",
   "version": "3.10.13"
  }
 },
 "nbformat": 4,
 "nbformat_minor": 5
}
