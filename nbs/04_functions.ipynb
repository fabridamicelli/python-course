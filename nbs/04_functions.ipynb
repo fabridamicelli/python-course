{
 "cells": [
  {
   "cell_type": "markdown",
   "id": "245999c1-8db0-4d21-8e2a-18798f4d87cd",
   "metadata": {},
   "source": [
    "---\n",
    "title: Functions\n",
    "toc: true\n",
    "---"
   ]
  },
  {
   "attachments": {},
   "cell_type": "markdown",
   "id": "493c0563-f1b4-4438-af55-0915a3c6a48d",
   "metadata": {},
   "source": [
    "Functions encapsulate pieces of logic that we want to use repeatedly.\n",
    "Also, this encapsulation makes testing our code much easier which is rather useful."
   ]
  },
  {
   "cell_type": "markdown",
   "id": "3cb28c78-e1c1-467f-af51-9fd92f41ea22",
   "metadata": {},
   "source": [
    "## Basic syntax"
   ]
  },
  {
   "cell_type": "code",
   "execution_count": 1,
   "id": "a9115bd0-8c03-4e0d-8c0c-fbf511c7dc63",
   "metadata": {},
   "outputs": [],
   "source": [
    "def identity(a, b):  # only positional arguments\n",
    "    return a, b"
   ]
  },
  {
   "cell_type": "code",
   "execution_count": 2,
   "id": "e5435d15-ba63-4bcb-bbf4-2f5828710843",
   "metadata": {},
   "outputs": [
    {
     "data": {
      "text/plain": [
       "(1, 2)"
      ]
     },
     "execution_count": 2,
     "metadata": {},
     "output_type": "execute_result"
    }
   ],
   "source": [
    "identity(1,2)"
   ]
  },
  {
   "cell_type": "code",
   "execution_count": 3,
   "id": "10c06e0d-1420-401c-8e82-5b34d0e85375",
   "metadata": {},
   "outputs": [],
   "source": [
    "def identity_with_default(a, b=1):  # b is a so called \"keyword-argument\"\n",
    "    return a, b"
   ]
  },
  {
   "cell_type": "code",
   "execution_count": 4,
   "id": "609ce545-c2f3-4f18-9c34-062b6f059ea5",
   "metadata": {},
   "outputs": [
    {
     "data": {
      "text/plain": [
       "('hello', 1)"
      ]
     },
     "execution_count": 4,
     "metadata": {},
     "output_type": "execute_result"
    }
   ],
   "source": [
    "identity_with_default(\"hello\") # argument b is optional, if not passed, the default is used"
   ]
  },
  {
   "cell_type": "markdown",
   "id": "ffa1f3f4-7636-4a75-a446-513c70c8e4eb",
   "metadata": {},
   "source": [
    "::: {.callout-important }\n",
    "Python functions **always** return a value, even without a `return` statement, in which case the return value will be `None`.\n",
    ":::"
   ]
  },
  {
   "cell_type": "code",
   "execution_count": 5,
   "id": "1933e139-a2d6-499d-98ea-0820369da7c4",
   "metadata": {},
   "outputs": [],
   "source": [
    "def implicit_return():\n",
    "    pass # do literally nothing"
   ]
  },
  {
   "cell_type": "code",
   "execution_count": 6,
   "id": "cdb6c404-f47b-4610-8a93-a4bc728d53ca",
   "metadata": {},
   "outputs": [],
   "source": [
    "out = implicit_return()"
   ]
  },
  {
   "cell_type": "code",
   "execution_count": 7,
   "id": "901c711b-c8d2-4904-bb38-c8a4d41637c4",
   "metadata": {},
   "outputs": [
    {
     "data": {
      "text/plain": [
       "(None, NoneType)"
      ]
     },
     "execution_count": 7,
     "metadata": {},
     "output_type": "execute_result"
    }
   ],
   "source": [
    "out, type(out)"
   ]
  },
  {
   "cell_type": "markdown",
   "id": "10383a76-442f-4ece-9a44-cbfcae681403",
   "metadata": {},
   "source": [
    "This three definitions are equivalent:"
   ]
  },
  {
   "cell_type": "code",
   "execution_count": null,
   "id": "073624f4-5db8-496a-bec7-488c0dd13d34",
   "metadata": {},
   "outputs": [],
   "source": [
    "def g():\n",
    "    print(\"hello\")\n",
    "    return None\n",
    "    \n",
    "def h():\n",
    "    print(\"hello\")\n",
    "    return\n",
    "    \n",
    "def f():\n",
    "    print(\"hello\")\n",
    "    # The return statement is implicitly here    "
   ]
  },
  {
   "cell_type": "markdown",
   "id": "64431760-7fa4-40ff-89f3-d54d3cb7b9ca",
   "metadata": {},
   "source": [
    "## Arbitrary arguments: `*args` & `**kwargs`"
   ]
  },
  {
   "cell_type": "markdown",
   "id": "cd15c9c6-2067-48ca-b35b-a715d2a762ad",
   "metadata": {},
   "source": [
    "We can write a function with arbitrary arguments.\n",
    "For that, we use the syntax `*args`.\n",
    "The `args` will be put into a tuple:"
   ]
  },
  {
   "cell_type": "code",
   "execution_count": 8,
   "id": "7cf691f6-67ef-4dc6-ae3e-b7a729722b0a",
   "metadata": {},
   "outputs": [],
   "source": [
    "def print_args(*args):\n",
    "    print(type(args))\n",
    "    for arg in args:\n",
    "        print(arg)"
   ]
  },
  {
   "cell_type": "code",
   "execution_count": 9,
   "id": "a3469f71-373b-46e8-b78d-2cc43c97e076",
   "metadata": {},
   "outputs": [
    {
     "name": "stdout",
     "output_type": "stream",
     "text": [
      "<class 'tuple'>\n",
      "1\n",
      "2\n"
     ]
    }
   ],
   "source": [
    "print_args(1,2)"
   ]
  },
  {
   "cell_type": "code",
   "execution_count": 10,
   "id": "e3f9966a-0450-4a9b-bebc-cc5de3f1cd3f",
   "metadata": {},
   "outputs": [
    {
     "name": "stdout",
     "output_type": "stream",
     "text": [
      "<class 'tuple'>\n",
      "1\n",
      "2\n",
      "3\n",
      "4\n"
     ]
    }
   ],
   "source": [
    "print_args(1, 2, 3, 4)  # we can pass as many as we want!"
   ]
  },
  {
   "cell_type": "markdown",
   "id": "09197f0e-f20a-4d67-ba01-db71be2b98a0",
   "metadata": {},
   "source": [
    "This logic extends to key-word arguments. \n",
    "We use the syntax `**kwargs` for that.\n",
    "Since key-words are pairs, they are put into a dictionary (instead of a tuple):"
   ]
  },
  {
   "cell_type": "code",
   "execution_count": 11,
   "id": "05811262-f010-4099-b44a-f9f2b2962003",
   "metadata": {},
   "outputs": [],
   "source": [
    "def print_kwargs(**kwargs):  # only positional arguments\n",
    "    for k, v in kwargs.items(): # it's just a dict!\n",
    "        print(k, \"->\", v)"
   ]
  },
  {
   "cell_type": "code",
   "execution_count": 12,
   "id": "cee74389-5692-4598-ae84-c7c14d5597ea",
   "metadata": {},
   "outputs": [
    {
     "name": "stdout",
     "output_type": "stream",
     "text": [
      "street -> martinistraße\n",
      "number -> 52\n"
     ]
    }
   ],
   "source": [
    "print_kwargs(street=\"martinistraße\", number=\"52\")"
   ]
  },
  {
   "cell_type": "code",
   "execution_count": 13,
   "id": "1a53a9b3-139c-4aaa-b024-910436429cab",
   "metadata": {},
   "outputs": [
    {
     "name": "stdout",
     "output_type": "stream",
     "text": [
      "street -> martinistraße\n",
      "number -> 52\n",
      "coolness -> very-high\n"
     ]
    }
   ],
   "source": [
    "print_kwargs(street=\"martinistraße\", number=\"52\", coolness=\"very-high\")"
   ]
  },
  {
   "cell_type": "markdown",
   "id": "24449b93-62f9-4f89-904f-c61fe218b56f",
   "metadata": {},
   "source": [
    "We can combine both `*args` and `**kwargs`.\n",
    "This function will take any arguments we pass:"
   ]
  },
  {
   "cell_type": "code",
   "execution_count": 50,
   "id": "d85f9ace-9ebd-41fc-a54a-750e316a4bfb",
   "metadata": {},
   "outputs": [],
   "source": [
    "def general(*args, **kwargs):\n",
    "    print(args)\n",
    "    print(kwargs)"
   ]
  },
  {
   "cell_type": "code",
   "execution_count": 51,
   "id": "c154f463-bdca-4988-90cd-f04696150ab1",
   "metadata": {},
   "outputs": [
    {
     "name": "stdout",
     "output_type": "stream",
     "text": [
      "(1, 2)\n",
      "{'first': 'hello', 'second': 'world'}\n"
     ]
    }
   ],
   "source": [
    "general(1, 2, first=\"hello\", second=\"world\")"
   ]
  },
  {
   "cell_type": "markdown",
   "id": "38e5d4a8-0df5-4c34-9dab-67f93dab46af",
   "metadata": {},
   "source": [
    "## Functions are values\n",
    "\n",
    "We can assign functions to variables and pass them around, like any other object (people call this to have \"functions as first-class citizen\")."
   ]
  },
  {
   "cell_type": "code",
   "execution_count": 24,
   "id": "5b1e8f51-deaa-4769-831f-c21db3a652b3",
   "metadata": {},
   "outputs": [],
   "source": [
    "def printer(func):\n",
    "    out = func() # call whatever function we pass\n",
    "    print(out) # print the output"
   ]
  },
  {
   "cell_type": "code",
   "execution_count": 20,
   "id": "00e0630d-aeeb-4e4f-83f4-fc9a7e6eef91",
   "metadata": {},
   "outputs": [],
   "source": [
    "def greeting():\n",
    "    return \"hello from greeting func\""
   ]
  },
  {
   "cell_type": "code",
   "execution_count": 21,
   "id": "382e41d2-cc29-487a-9f82-2025cc6b1efd",
   "metadata": {},
   "outputs": [
    {
     "name": "stdout",
     "output_type": "stream",
     "text": [
      "hello from greeting func\n"
     ]
    }
   ],
   "source": [
    "printer(greeting)"
   ]
  },
  {
   "cell_type": "code",
   "execution_count": 36,
   "id": "c8c647ea-d7d7-4ab0-84ad-e7207a28f59f",
   "metadata": {},
   "outputs": [],
   "source": [
    "f = greeting  # Notice we are not calling it with ()"
   ]
  },
  {
   "cell_type": "code",
   "execution_count": 37,
   "id": "75b0d36b-d4b0-44dc-bc9c-4423a38f619a",
   "metadata": {},
   "outputs": [
    {
     "data": {
      "text/plain": [
       "<function __main__.greeting()>"
      ]
     },
     "execution_count": 37,
     "metadata": {},
     "output_type": "execute_result"
    }
   ],
   "source": [
    "f"
   ]
  },
  {
   "cell_type": "code",
   "execution_count": 38,
   "id": "25504f84-67e3-4148-8242-7ad18e091342",
   "metadata": {},
   "outputs": [
    {
     "name": "stdout",
     "output_type": "stream",
     "text": [
      "hello from greeting func\n"
     ]
    }
   ],
   "source": [
    "printer(f)"
   ]
  },
  {
   "cell_type": "markdown",
   "id": "571eb40a-73e4-4bf2-90a0-9ea285301fb8",
   "metadata": {},
   "source": [
    "## Anonymous functions\n",
    "There is a shorthand to define functions with this syntax:\n",
    "```\n",
    "lambda [optional-args]: [return-values]\n",
    "```"
   ]
  },
  {
   "cell_type": "code",
   "execution_count": 31,
   "id": "2f2dae6b-7be5-4535-bb93-2ab034a340df",
   "metadata": {},
   "outputs": [
    {
     "data": {
      "text/plain": [
       "<function __main__.<lambda>()>"
      ]
     },
     "execution_count": 31,
     "metadata": {},
     "output_type": "execute_result"
    }
   ],
   "source": [
    "lambda: \"say hello\""
   ]
  },
  {
   "cell_type": "code",
   "execution_count": 32,
   "id": "b9b7f1e9-0f69-4fa0-81d4-3ba5b1c1fb0f",
   "metadata": {},
   "outputs": [
    {
     "name": "stdout",
     "output_type": "stream",
     "text": [
      "hello course\n"
     ]
    }
   ],
   "source": [
    "printer(lambda: \"hello course\")"
   ]
  },
  {
   "cell_type": "markdown",
   "id": "83ddbe7f-6e69-4f44-81e4-27e54272e4bb",
   "metadata": {},
   "source": [
    "It can also take arguments:"
   ]
  },
  {
   "cell_type": "code",
   "execution_count": 35,
   "id": "bbc06001-3649-499f-ac41-3a614dc5692c",
   "metadata": {},
   "outputs": [],
   "source": [
    "f = lambda x: x+1"
   ]
  },
  {
   "cell_type": "code",
   "execution_count": 34,
   "id": "483141a9-a78f-40b9-933e-2e875a455474",
   "metadata": {},
   "outputs": [
    {
     "data": {
      "text/plain": [
       "2"
      ]
     },
     "execution_count": 34,
     "metadata": {},
     "output_type": "execute_result"
    }
   ],
   "source": [
    "f(1)"
   ]
  },
  {
   "cell_type": "markdown",
   "id": "4b35f131-5576-493f-a787-ed7aa23cef71",
   "metadata": {},
   "source": [
    "## Early return \n",
    "Python functions have so-called early return, which means a function will exit as soon as it hits the first `return` statement, for example:"
   ]
  },
  {
   "cell_type": "code",
   "execution_count": 41,
   "id": "27a4af89-4283-4a85-89c0-9f9eb711af6e",
   "metadata": {},
   "outputs": [],
   "source": [
    "def early():\n",
    "    if 1 > 0:\n",
    "        return \"first condition\"\n",
    "    if 2 > 0:  # This code will never be evaluated\n",
    "        return \"second condition\""
   ]
  },
  {
   "cell_type": "code",
   "execution_count": 42,
   "id": "4c8e253d-9cb3-4f05-8971-be51dcde434a",
   "metadata": {},
   "outputs": [
    {
     "data": {
      "text/plain": [
       "'first condition'"
      ]
     },
     "execution_count": 42,
     "metadata": {},
     "output_type": "execute_result"
    }
   ],
   "source": [
    "early()"
   ]
  },
  {
   "cell_type": "markdown",
   "id": "fb754667-f418-4ca8-b4fd-f51731c4d81b",
   "metadata": {},
   "source": [
    "This can help us to simplify code, for example, this two definitions are equivalent:"
   ]
  },
  {
   "cell_type": "code",
   "execution_count": 45,
   "id": "dede1cce-4c5f-473c-b1ad-5d20d601c4e0",
   "metadata": {},
   "outputs": [],
   "source": [
    "def f(x):\n",
    "    if x == 1:\n",
    "        return \"it's 1\"\n",
    "    elif x == 2:\n",
    "        return \"it's 2\"\n",
    "    elif x == 3:\n",
    "        return \"it's 3\"\n",
    "    else:\n",
    "        return \"not 1,2,3\"\n",
    "\n",
    "def ff(x):\n",
    "    if x == 1:\n",
    "        return \"it's 1\"\n",
    "    if x == 2:\n",
    "        return \"it's 2\"\n",
    "    if x == 3:\n",
    "        return \"it's 3\"\n",
    "    return \"not 1,2,3\""
   ]
  },
  {
   "cell_type": "code",
   "execution_count": 48,
   "id": "7fc68944-6da3-4d96-8e3a-33024024662e",
   "metadata": {},
   "outputs": [
    {
     "data": {
      "text/plain": [
       "(\"it's 2\", 'not 1,2,3')"
      ]
     },
     "execution_count": 48,
     "metadata": {},
     "output_type": "execute_result"
    }
   ],
   "source": [
    "f(2), f(4)"
   ]
  },
  {
   "cell_type": "code",
   "execution_count": 49,
   "id": "e28fb375-5343-4bba-b9fe-38555e828de3",
   "metadata": {},
   "outputs": [
    {
     "data": {
      "text/plain": [
       "(\"it's 2\", 'not 1,2,3')"
      ]
     },
     "execution_count": 49,
     "metadata": {},
     "output_type": "execute_result"
    }
   ],
   "source": [
    "ff(2), ff(4)"
   ]
  },
  {
   "cell_type": "markdown",
   "id": "a55e060a-b8ee-4683-ab24-41aded7525ee",
   "metadata": {},
   "source": [
    "## Keyword-only arguments\n",
    "\n",
    "There's a way to force the arguments of a function to be keyword-only, which can be useful to avoid mistakes and kindly nudge the users of our code (yes, you yourself too!) to pass the arguments to a function explicitly.\n",
    "\n",
    "Everything coming after `*` must be key-word:"
   ]
  },
  {
   "cell_type": "code",
   "execution_count": 3,
   "id": "74192505-48b1-4834-9df9-b2121d689f4e",
   "metadata": {},
   "outputs": [],
   "source": [
    "def func(a, b, *, c, d):\n",
    "    print(a, b, c, d)"
   ]
  },
  {
   "cell_type": "markdown",
   "id": "757a716f-500b-42b7-9cce-d5dbc91ae110",
   "metadata": {},
   "source": [
    "This will not work (pay attention to the error message):"
   ]
  },
  {
   "cell_type": "code",
   "execution_count": 4,
   "id": "212bfeec-74a7-42cd-8131-871a16d91ebb",
   "metadata": {},
   "outputs": [
    {
     "ename": "TypeError",
     "evalue": "func() missing 2 required keyword-only arguments: 'c' and 'd'",
     "output_type": "error",
     "traceback": [
      "\u001b[0;31m---------------------------------------------------------------------------\u001b[0m",
      "\u001b[0;31mTypeError\u001b[0m                                 Traceback (most recent call last)",
      "Cell \u001b[0;32mIn[4], line 1\u001b[0m\n\u001b[0;32m----> 1\u001b[0m \u001b[43mfunc\u001b[49m\u001b[43m(\u001b[49m\u001b[38;5;124;43m\"\u001b[39;49m\u001b[38;5;124;43mhi\u001b[39;49m\u001b[38;5;124;43m\"\u001b[39;49m\u001b[43m,\u001b[49m\u001b[43m \u001b[49m\u001b[38;5;124;43m\"\u001b[39;49m\u001b[38;5;124;43mthere\u001b[39;49m\u001b[38;5;124;43m\"\u001b[39;49m\u001b[43m)\u001b[49m\n",
      "\u001b[0;31mTypeError\u001b[0m: func() missing 2 required keyword-only arguments: 'c' and 'd'"
     ]
    }
   ],
   "source": [
    "func(\"hi\", \"there\")"
   ]
  },
  {
   "cell_type": "markdown",
   "id": "c3c3ef70-7e53-4229-9999-09f8912bfea7",
   "metadata": {},
   "source": [
    "Neither will this:"
   ]
  },
  {
   "cell_type": "code",
   "execution_count": 5,
   "id": "00bfb37f-e5aa-43c2-8a1e-d4084b01abd9",
   "metadata": {},
   "outputs": [
    {
     "ename": "TypeError",
     "evalue": "func() takes 2 positional arguments but 4 were given",
     "output_type": "error",
     "traceback": [
      "\u001b[0;31m---------------------------------------------------------------------------\u001b[0m",
      "\u001b[0;31mTypeError\u001b[0m                                 Traceback (most recent call last)",
      "Cell \u001b[0;32mIn[5], line 1\u001b[0m\n\u001b[0;32m----> 1\u001b[0m \u001b[43mfunc\u001b[49m\u001b[43m(\u001b[49m\u001b[38;5;124;43m\"\u001b[39;49m\u001b[38;5;124;43mhi\u001b[39;49m\u001b[38;5;124;43m\"\u001b[39;49m\u001b[43m,\u001b[49m\u001b[43m \u001b[49m\u001b[38;5;124;43m\"\u001b[39;49m\u001b[38;5;124;43mthere\u001b[39;49m\u001b[38;5;124;43m\"\u001b[39;49m\u001b[43m,\u001b[49m\u001b[43m \u001b[49m\u001b[38;5;124;43m\"\u001b[39;49m\u001b[38;5;124;43mdear\u001b[39;49m\u001b[38;5;124;43m\"\u001b[39;49m\u001b[43m,\u001b[49m\u001b[43m \u001b[49m\u001b[38;5;124;43m\"\u001b[39;49m\u001b[38;5;124;43mstudents\u001b[39;49m\u001b[38;5;124;43m\"\u001b[39;49m\u001b[43m)\u001b[49m \n",
      "\u001b[0;31mTypeError\u001b[0m: func() takes 2 positional arguments but 4 were given"
     ]
    }
   ],
   "source": [
    "func(\"hi\", \"there\", \"dear\", \"students\") "
   ]
  },
  {
   "cell_type": "code",
   "execution_count": 7,
   "id": "4a62b334-fe3c-403f-bbe4-bc6c83cbf705",
   "metadata": {},
   "outputs": [
    {
     "ename": "TypeError",
     "evalue": "func() takes 2 positional arguments but 3 positional arguments (and 1 keyword-only argument) were given",
     "output_type": "error",
     "traceback": [
      "\u001b[0;31m---------------------------------------------------------------------------\u001b[0m",
      "\u001b[0;31mTypeError\u001b[0m                                 Traceback (most recent call last)",
      "Cell \u001b[0;32mIn[7], line 1\u001b[0m\n\u001b[0;32m----> 1\u001b[0m \u001b[43mfunc\u001b[49m\u001b[43m(\u001b[49m\u001b[38;5;124;43m\"\u001b[39;49m\u001b[38;5;124;43mhi\u001b[39;49m\u001b[38;5;124;43m\"\u001b[39;49m\u001b[43m,\u001b[49m\u001b[43m \u001b[49m\u001b[38;5;124;43m\"\u001b[39;49m\u001b[38;5;124;43mthere\u001b[39;49m\u001b[38;5;124;43m\"\u001b[39;49m\u001b[43m,\u001b[49m\u001b[43m \u001b[49m\u001b[38;5;124;43m\"\u001b[39;49m\u001b[38;5;124;43mdear\u001b[39;49m\u001b[38;5;124;43m\"\u001b[39;49m\u001b[43m,\u001b[49m\u001b[43m \u001b[49m\u001b[43md\u001b[49m\u001b[38;5;241;43m=\u001b[39;49m\u001b[38;5;124;43m\"\u001b[39;49m\u001b[38;5;124;43mstudents\u001b[39;49m\u001b[38;5;124;43m\"\u001b[39;49m\u001b[43m)\u001b[49m \n",
      "\u001b[0;31mTypeError\u001b[0m: func() takes 2 positional arguments but 3 positional arguments (and 1 keyword-only argument) were given"
     ]
    }
   ],
   "source": [
    "func(\"hi\", \"there\", \"dear\", d=\"students\") "
   ]
  },
  {
   "cell_type": "markdown",
   "id": "3e8a9030-55ee-43ac-8d09-a88f042c57f4",
   "metadata": {},
   "source": [
    "Only passing `c` and `d` explicitly will do:"
   ]
  },
  {
   "cell_type": "code",
   "execution_count": 8,
   "id": "df6cd4a0-2df2-4ce9-a0ff-1d9bd5db35a0",
   "metadata": {},
   "outputs": [
    {
     "name": "stdout",
     "output_type": "stream",
     "text": [
      "hi there dear students\n"
     ]
    }
   ],
   "source": [
    "func(\"hi\", \"there\", c=\"dear\", d=\"students\") "
   ]
  },
  {
   "cell_type": "markdown",
   "id": "2ba9f78d-934a-4916-80c5-9306f825989d",
   "metadata": {},
   "source": [
    "## Exercises\n",
    "1) Write a function called `intro` that takes two positional arguments, name and age, and prints a sentence introducing a person. The function should return nothing.\n",
    "2) Repeat it, but adding an optional argument, city. The function should now return the introducing string (consider handling the city)\n",
    "3) Write a function called `sort_dict_by_value` that takes a dictionary and returns a dictionary sorted by value.\n",
    "4) Write a function that takes an arbitrary number of key-word __only__ arguments representing pairs (name, age) and returns a list of tuples sorted by age.\n",
    "For example:\n",
    "\n",
    "```python\n",
    "# For this pairs\n",
    "your_function(lua=32, mark=12)\n",
    "# Should output:\n",
    "[(\"mark\", 12), (\"lua\", 32)]\n",
    "```\n",
    "The very same function should be able to deal with other number of arguments, eg: \n",
    "\n",
    "```python\n",
    "your_function(lua=32, mark=12, anna=42)\n",
    "# Should output:\n",
    "[(\"mark\", 12), (\"lua\", 32), (\"anna\", 42)]\n",
    "```\n",
    "**Hint:** Try to use the function `sort_dict` that you wrote in the previous point. \n",
    "\n",
    "4) Write a function that takes 2 arguments `items` (a container of elements,no matter what they are) and `sorting_func` (a function that will somehow sort the elements of `items`) and returns the result of the sorting function applied to items. For example, your function should behave like this:\n",
    "\n",
    "```python\n",
    "your_function([3, 2, 1], sorted)\n",
    "# Should output:\n",
    "[1, 2, 3]\n",
    "\n",
    "your_function({\"a\": 2, \"b\": 1}, sort_dict)\n",
    "# Should output:\n",
    "{\"b\": 1, \"a\": 2}\n",
    "``` "
   ]
  }
 ],
 "metadata": {
  "kernelspec": {
   "display_name": "Python 3 (ipykernel)",
   "language": "python",
   "name": "python3"
  },
  "language_info": {
   "codemirror_mode": {
    "name": "ipython",
    "version": 3
   },
   "file_extension": ".py",
   "mimetype": "text/x-python",
   "name": "python",
   "nbconvert_exporter": "python",
   "pygments_lexer": "ipython3",
   "version": "3.10.13"
  }
 },
 "nbformat": 4,
 "nbformat_minor": 5
}
