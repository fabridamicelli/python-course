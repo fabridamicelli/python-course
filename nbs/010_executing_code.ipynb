{
 "cells": [
  {
   "cell_type": "markdown",
   "id": "93bced8a-9c77-41cb-99d2-9206157c8d35",
   "metadata": {},
   "source": [
    "---\n",
    "title: Executing Code\n",
    "toc: true\n",
    "---"
   ]
  },
  {
   "cell_type": "markdown",
   "id": "fc45f0ff-5ff8-47ba-a839-f8fdf55c7a9f",
   "metadata": {},
   "source": [
    "There are several ways to execute code."
   ]
  },
  {
   "cell_type": "markdown",
   "id": "3d16f8ba-9c9c-4345-8a99-4a83b7e32a20",
   "metadata": {},
   "source": [
    "## Executing files\n",
    "When working with `uv` we can do this (inside of the working project directory):\n",
    "\n",
    "```bash\n",
    "uv run your-file.py\n",
    "```\n",
    "\n",
    "Or this:\n",
    "\n",
    "```bash\n",
    "uv run python your-file.py\n",
    "```\n",
    "\n",
    "Alternatively, we could manually activate the virtual environment and run the script:\n",
    "\n",
    "```bash\n",
    "source .venv/bin/activate\n",
    "python your-file.py\n",
    "```"
   ]
  },
  {
   "cell_type": "markdown",
   "id": "959ab49e-1e86-4aa9-8cf2-649e1e7dee04",
   "metadata": {},
   "source": [
    "::: {.callout-tip}\n",
    "Prefer `uv run` in order to let `uv` take care of several useful things for us under the hood, such as syncing our dependencies.\n",
    ":::"
   ]
  },
  {
   "cell_type": "markdown",
   "id": "ee27efb0-1606-4ee4-8e42-8d9f1615e27f",
   "metadata": {},
   "source": [
    "## Built-in REPL"
   ]
  },
  {
   "cell_type": "markdown",
   "id": "18ab8b63-a67b-4e1b-bb36-ac9ba86107d9",
   "metadata": {},
   "source": [
    "As per Wikipedia:\n",
    "\n",
    "> A read–eval–print loop (REPL) is a simple interactive computer programming environment that takes single user inputs, executes them, and returns the result to the user.\n",
    "\n",
    "If type `uv run python` in our terminal and hit enter, we get into the built-in python REPL."
   ]
  },
  {
   "cell_type": "markdown",
   "id": "1f6c6408-11b4-4188-8ce2-6381b599f875",
   "metadata": {},
   "source": [
    "The built-in python REPL is fine, but as of today (October 2024) it has some limitations.\n",
    "\n",
    "::: {.callout-note}\n",
    "Python core developers are putting a lot of effort into improving the REPL and Python 3.13 has already a number of great improvements, give it a try!\n",
    ":::"
   ]
  },
  {
   "cell_type": "markdown",
   "id": "84dcb524-25eb-4cd0-9b7e-a135cc62db53",
   "metadata": {},
   "source": [
    "## IPython REPL\n",
    "An alternative to that is the IPython REPL.\n",
    "[IPython](https://ipython.org/) is a whole different open source project that builds on top of python itself, but it is independent, thus we need to install IPython.\n",
    "\n",
    "```bash\n",
    "uv add ipython\n",
    "```"
   ]
  },
  {
   "cell_type": "markdown",
   "id": "b3aa53c1-9485-4fba-b544-3a3c2bedbfe3",
   "metadata": {},
   "source": [
    "::: {.callout-tip}\n",
    "Take a look at the content of `pyproject.toml` to see how `uv` added ipython as a project dependency.\n",
    "We'll take a closer look at that later.\n",
    ":::"
   ]
  },
  {
   "cell_type": "markdown",
   "id": "c9629ab3-f988-45ab-a55d-681f32586b15",
   "metadata": {},
   "source": [
    "We can fire up the IPython REPL:\n",
    "\n",
    "```bash\n",
    "uv run ipython\n",
    "```"
   ]
  },
  {
   "cell_type": "markdown",
   "id": "d7f628b8-c09a-477a-8324-13f3a45c1a99",
   "metadata": {},
   "source": [
    "The IPython REPL brings some nice features that make this interactive coding environment much powerful and handy to interact with, such as [magic commands](https://ipython.readthedocs.io/en/stable/interactive/magics.html#built-in-magic-commands).\n",
    "These are some magic commands I recommend checking out:"
   ]
  },
  {
   "cell_type": "markdown",
   "id": "b22ea7ed-8e0c-4d40-8647-501da1046374",
   "metadata": {},
   "source": [
    "- `! <COMMAND>`: Call the system COMMAND, eg `!ls` to list contents.\n",
    "- `%run`: Run a file inside IPython as a program. \n",
    "- `%time`: Time execution of a Python statement or expression.\n",
    "- `%timeit`: Time execution of a Python statement or expression."
   ]
  },
  {
   "cell_type": "markdown",
   "id": "c7aead70-5973-4584-871e-12062bca5f91",
   "metadata": {},
   "source": [
    "### Exercises\n",
    "Get familiar with the REPL:\n",
    "\n",
    "1) Add two or more numbers (try with and without decimals)\n",
    "2) Multiply two or more numbers\n",
    "3) Multiply 3 twenty two times\n",
    "4) Print your name using the `print` function\n",
    "5) Add two strings, e.g. \"hello\" + \"world\"\n",
    "6) Run the file `hello.py` inside the REPL\n",
    "7) Same but print it's execution time"
   ]
  },
  {
   "cell_type": "markdown",
   "id": "5cea3d9c-127b-4074-87c5-8d13a88da514",
   "metadata": {},
   "source": [
    "## Code Editor\n",
    "When editing code more extensively we also want to have a so called integrated development environment (IDE).\n",
    "There are many options out there.\n",
    "Do not spend too much time deciding which to pick, you can always change your choice later.  \n",
    "[VS-Code](https://code.visualstudio.com/) is a reasonable general choice as of today, it is free and widely adopted.\n",
    "For a user experience more similar to matlab and oriented to scientific computing you can check out [Spyder](https://www.spyder-ide.org)."
   ]
  },
  {
   "cell_type": "markdown",
   "id": "bd5b592f-4fca-4192-bb4f-d1f25063312d",
   "metadata": {},
   "source": [
    "## Jupyter Notebook\n",
    "Notebooks run on the browser and are a way to mix code with other kinds of data, such as images, videos or widgets.\n",
    "They are a very useful tool for explorative analysis.\n",
    "If you ever used something like Mathematica you'll be already familiar with them.\n",
    "\n",
    "There are several versions of notebooks, we are going to use [JupyterLab](https://jupyterlab.readthedocs.io/en/latest/).\n",
    "Let's install it:\n",
    "\n",
    "```bash\n",
    "uv add jupyterlab\n",
    "```\n",
    "\n",
    "Let's create a directory for notebooks in our project:\n",
    "\n",
    "```bash\n",
    "mkdir noteboooks\n",
    "```\n",
    "\n",
    "Launch a jupyterlab session:\n",
    "\n",
    "```bash\n",
    "uv run jupyter lab\n",
    "```"
   ]
  },
  {
   "cell_type": "markdown",
   "id": "939ebab4-ffa4-4463-ab21-fef55a868dc8",
   "metadata": {},
   "source": [
    "::: {.callout-tip}\n",
    "Some people have strong opinions on editors and coding workflows.\n",
    "Don't waste time getting into that, just use whatever editor/workflow makes you productive.\n",
    ":::"
   ]
  }
 ],
 "metadata": {
  "kernelspec": {
   "display_name": "Python 3 (ipykernel)",
   "language": "python",
   "name": "python3"
  },
  "language_info": {
   "codemirror_mode": {
    "name": "ipython",
    "version": 3
   },
   "file_extension": ".py",
   "mimetype": "text/x-python",
   "name": "python",
   "nbconvert_exporter": "python",
   "pygments_lexer": "ipython3",
   "version": "3.10.13"
  }
 },
 "nbformat": 4,
 "nbformat_minor": 5
}
