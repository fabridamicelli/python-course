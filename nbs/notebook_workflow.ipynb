{
 "cells": [
  {
   "cell_type": "markdown",
   "id": "97a9ac71-a121-4b3e-bd73-a9721222d5ac",
   "metadata": {},
   "source": [
    "---\n",
    "title: Notebook Workflow\n",
    "toc: true\n",
    "---"
   ]
  },
  {
   "cell_type": "markdown",
   "id": "3cdf2a3e-52d5-4470-8966-8c6e93bb1356",
   "metadata": {},
   "source": [
    "Notebooks are an invaluable tool when working with data in python and as any tool, they come with some caveats on how they work and the kind of workflow that one might easily fall into when not following some best practices.\n",
    "\n",
    "Rather than enumerating an exhaustive list of best practices, I think it is more useful to have a more holistic view about the general mindset and how to structure the workflow with notebooks in order be productive while avoiding shooting ourselves in the foot.\n",
    "\n",
    "Here are two pieces of content that I recommend you to watch when you have a few spare minutes."
   ]
  },
  {
   "cell_type": "markdown",
   "id": "8ae45786-5b58-4e05-bb92-3d27b09fb016",
   "metadata": {},
   "source": [
    "This is a relatively comprehensive series of short videos covering multiple aspects of a notebook-centric workflow, making them play nicely with some general software development best practices:\n",
    "\n",
    "{{< video https://youtu.be/_ZEWDGpM-vM?si=Wyzd_8jWzbOYPnOZ >}}"
   ]
  },
  {
   "cell_type": "markdown",
   "id": "a5fb0fbe-9830-4367-8f81-261ea4f44644",
   "metadata": {},
   "source": [
    "Along the same lines, this is a bit more specific and opinionated conference talk oriented to data wrangling workflows:\n",
    "\n",
    "{{< video https://www.youtube.com/watch?v=yXGCKqo5cEY >}}"
   ]
  }
 ],
 "metadata": {
  "kernelspec": {
   "display_name": "Python 3 (ipykernel)",
   "language": "python",
   "name": "python3"
  },
  "language_info": {
   "codemirror_mode": {
    "name": "ipython",
    "version": 3
   },
   "file_extension": ".py",
   "mimetype": "text/x-python",
   "name": "python",
   "nbconvert_exporter": "python",
   "pygments_lexer": "ipython3",
   "version": "3.10.13"
  }
 },
 "nbformat": 4,
 "nbformat_minor": 5
}
