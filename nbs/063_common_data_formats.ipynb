{
 "cells": [
  {
   "cell_type": "markdown",
   "id": "97a9ac71-a121-4b3e-bd73-a9721222d5ac",
   "metadata": {},
   "source": [
    "---\n",
    "title: Common Data Formats\n",
    "toc: true\n",
    "---"
   ]
  },
  {
   "cell_type": "markdown",
   "id": "5d85b50b-0fed-4122-ab81-83f8f0604e8e",
   "metadata": {},
   "source": [
    "## CSV\n",
    "[Comma Separated Values](https://en.wikipedia.org/wiki/Comma-separated_values)"
   ]
  },
  {
   "cell_type": "code",
   "execution_count": 1,
   "id": "8a471ee8-e957-4f32-8fdc-eb09198f1e73",
   "metadata": {},
   "outputs": [
    {
     "name": "stdout",
     "output_type": "stream",
     "text": [
      "date,id,age\n",
      "2020-01-01,x12,19\n",
      "2020-01-02,x11,23\n",
      "2020-01-02,x3,22\n",
      "2020-01-03,x19,28\n",
      "\n"
     ]
    }
   ],
   "source": [
    "#| code-fold: true\n",
    "\n",
    "data = \"\"\"\\\n",
    "date,id,age\n",
    "2020-01-01,x12,19\n",
    "2020-01-02,x11,23\n",
    "2020-01-02,x3,22\n",
    "2020-01-03,x19,28\n",
    "\"\"\"\n",
    "print(data)"
   ]
  },
  {
   "cell_type": "code",
   "execution_count": 2,
   "id": "91af4897-689c-4ded-accd-4ccf325bfb8d",
   "metadata": {},
   "outputs": [
    {
     "data": {
      "text/plain": [
       "83"
      ]
     },
     "execution_count": 2,
     "metadata": {},
     "output_type": "execute_result"
    }
   ],
   "source": [
    "#| code-fold: true\n",
    "#| output: false\n",
    "from pathlib import Path\n",
    "filepath = \"/tmp/data.csv\"\n",
    "Path(filepath).write_text(data)"
   ]
  },
  {
   "cell_type": "markdown",
   "id": "8860d135-ba34-4298-952f-923b6ebe8343",
   "metadata": {},
   "source": [
    "Loading data into a dataframe is not the only but one the most common ways to to load this data:"
   ]
  },
  {
   "cell_type": "code",
   "execution_count": 3,
   "id": "0dad7357-4e14-4d1e-9856-0f6b487aff7b",
   "metadata": {},
   "outputs": [
    {
     "data": {
      "text/html": [
       "<div>\n",
       "<style scoped>\n",
       "    .dataframe tbody tr th:only-of-type {\n",
       "        vertical-align: middle;\n",
       "    }\n",
       "\n",
       "    .dataframe tbody tr th {\n",
       "        vertical-align: top;\n",
       "    }\n",
       "\n",
       "    .dataframe thead th {\n",
       "        text-align: right;\n",
       "    }\n",
       "</style>\n",
       "<table border=\"1\" class=\"dataframe\">\n",
       "  <thead>\n",
       "    <tr style=\"text-align: right;\">\n",
       "      <th></th>\n",
       "      <th>date</th>\n",
       "      <th>id</th>\n",
       "      <th>age</th>\n",
       "    </tr>\n",
       "  </thead>\n",
       "  <tbody>\n",
       "    <tr>\n",
       "      <th>0</th>\n",
       "      <td>2020-01-01</td>\n",
       "      <td>x12</td>\n",
       "      <td>19</td>\n",
       "    </tr>\n",
       "    <tr>\n",
       "      <th>1</th>\n",
       "      <td>2020-01-02</td>\n",
       "      <td>x11</td>\n",
       "      <td>23</td>\n",
       "    </tr>\n",
       "    <tr>\n",
       "      <th>2</th>\n",
       "      <td>2020-01-02</td>\n",
       "      <td>x3</td>\n",
       "      <td>22</td>\n",
       "    </tr>\n",
       "    <tr>\n",
       "      <th>3</th>\n",
       "      <td>2020-01-03</td>\n",
       "      <td>x19</td>\n",
       "      <td>28</td>\n",
       "    </tr>\n",
       "  </tbody>\n",
       "</table>\n",
       "</div>"
      ],
      "text/plain": [
       "         date   id  age\n",
       "0  2020-01-01  x12   19\n",
       "1  2020-01-02  x11   23\n",
       "2  2020-01-02   x3   22\n",
       "3  2020-01-03  x19   28"
      ]
     },
     "execution_count": 3,
     "metadata": {},
     "output_type": "execute_result"
    }
   ],
   "source": [
    "import pandas as pd\n",
    "\n",
    "df = pd.read_csv(filepath)\n",
    "df"
   ]
  },
  {
   "cell_type": "markdown",
   "id": "4b5a48df-a5bc-4023-bb47-49cf8787c6b6",
   "metadata": {},
   "source": [
    "We can also save a dataframe as csv:"
   ]
  },
  {
   "cell_type": "code",
   "execution_count": 4,
   "id": "16cd3840-8bcf-411d-97d4-073bd7451543",
   "metadata": {},
   "outputs": [],
   "source": [
    "df.to_csv(\"/tmp/data.csv\", index=None)"
   ]
  },
  {
   "cell_type": "code",
   "execution_count": 36,
   "id": "4831254b-2b1a-4b52-a105-214005c79048",
   "metadata": {},
   "outputs": [
    {
     "name": "stdout",
     "output_type": "stream",
     "text": [
      "date,id,age\n",
      "2020-01-01,x12,19\n",
      "2020-01-02,x11,23\n",
      "2020-01-02,x3,22\n",
      "2020-01-03,x19,28\n"
     ]
    }
   ],
   "source": [
    "!cat /tmp/data.csv"
   ]
  },
  {
   "cell_type": "markdown",
   "id": "9ffc3c66-3e20-4d95-93bd-f20312f649a0",
   "metadata": {},
   "source": [
    "## Excel\n",
    "We can also read in data coming from an excel spreadsheet."
   ]
  },
  {
   "cell_type": "code",
   "execution_count": 19,
   "id": "da5b313f-6925-427c-b87e-0b60f1ad9822",
   "metadata": {},
   "outputs": [],
   "source": [
    "df.to_excel(\"/tmp/data.xlsx\", index=None)"
   ]
  },
  {
   "cell_type": "code",
   "execution_count": 20,
   "id": "b88b9c67-fbcc-4248-863c-c249546472c6",
   "metadata": {},
   "outputs": [
    {
     "data": {
      "text/html": [
       "<div>\n",
       "<style scoped>\n",
       "    .dataframe tbody tr th:only-of-type {\n",
       "        vertical-align: middle;\n",
       "    }\n",
       "\n",
       "    .dataframe tbody tr th {\n",
       "        vertical-align: top;\n",
       "    }\n",
       "\n",
       "    .dataframe thead th {\n",
       "        text-align: right;\n",
       "    }\n",
       "</style>\n",
       "<table border=\"1\" class=\"dataframe\">\n",
       "  <thead>\n",
       "    <tr style=\"text-align: right;\">\n",
       "      <th></th>\n",
       "      <th>date</th>\n",
       "      <th>id</th>\n",
       "      <th>age</th>\n",
       "    </tr>\n",
       "  </thead>\n",
       "  <tbody>\n",
       "    <tr>\n",
       "      <th>0</th>\n",
       "      <td>2020-01-01</td>\n",
       "      <td>x12</td>\n",
       "      <td>19</td>\n",
       "    </tr>\n",
       "    <tr>\n",
       "      <th>1</th>\n",
       "      <td>2020-01-02</td>\n",
       "      <td>x11</td>\n",
       "      <td>23</td>\n",
       "    </tr>\n",
       "    <tr>\n",
       "      <th>2</th>\n",
       "      <td>2020-01-02</td>\n",
       "      <td>x3</td>\n",
       "      <td>22</td>\n",
       "    </tr>\n",
       "    <tr>\n",
       "      <th>3</th>\n",
       "      <td>2020-01-03</td>\n",
       "      <td>x19</td>\n",
       "      <td>28</td>\n",
       "    </tr>\n",
       "  </tbody>\n",
       "</table>\n",
       "</div>"
      ],
      "text/plain": [
       "         date   id  age\n",
       "0  2020-01-01  x12   19\n",
       "1  2020-01-02  x11   23\n",
       "2  2020-01-02   x3   22\n",
       "3  2020-01-03  x19   28"
      ]
     },
     "execution_count": 20,
     "metadata": {},
     "output_type": "execute_result"
    }
   ],
   "source": [
    "pd.read_excel(\"/tmp/data.xlsx\")"
   ]
  },
  {
   "cell_type": "markdown",
   "id": "73ba7fa1-4001-4fae-8981-c9e9193f9619",
   "metadata": {},
   "source": [
    "## JSON\n",
    "[JSON (JavaScript Object Notation)](https://en.wikipedia.org/wiki/JSON) is by far one of the most used data formats, nowadays the default format to transfer data over the internet.\n",
    "It is also very commonly used for configuration files and logging."
   ]
  },
  {
   "cell_type": "code",
   "execution_count": 16,
   "id": "732f042c-5ed1-41db-81e7-f70a43b17a2b",
   "metadata": {},
   "outputs": [],
   "source": [
    "flat = {\n",
    "  \"name\": \"John Doe\",\n",
    "  \"age\": 25\n",
    "}\n",
    "\n",
    "nested = {\n",
    "  \"name\": {\n",
    "    \"firstName\": \"John\",\n",
    "    \"lastName\": \"Doe\",\n",
    "    \"middleName\": \"Smith\"\n",
    "  },\n",
    "  \"age\": 25,\n",
    "  \"hobbies\": [\"reading\", \"writing\"]\n",
    "}"
   ]
  },
  {
   "cell_type": "markdown",
   "id": "c8b763c6-83fe-47d8-927c-c0a0210ca592",
   "metadata": {},
   "source": [
    "### Encoding\n",
    "\n",
    "Also called \"serialization\"."
   ]
  },
  {
   "cell_type": "code",
   "execution_count": 17,
   "id": "122bd44a-3cd4-42b6-ae5e-ea36d676916c",
   "metadata": {},
   "outputs": [
    {
     "data": {
      "text/plain": [
       "'{\"name\": \"John Doe\", \"age\": 25}'"
      ]
     },
     "execution_count": 17,
     "metadata": {},
     "output_type": "execute_result"
    }
   ],
   "source": [
    "import json\n",
    "\n",
    "flat_str = json.dumps(flat)\n",
    "flat_str"
   ]
  },
  {
   "cell_type": "code",
   "execution_count": 18,
   "id": "389e38af-d555-489b-a032-0edd6619e5f1",
   "metadata": {},
   "outputs": [
    {
     "data": {
      "text/plain": [
       "'{\"name\": {\"firstName\": \"John\", \"lastName\": \"Doe\", \"middleName\": \"Smith\"}, \"age\": 25, \"hobbies\": [\"reading\", \"writing\"]}'"
      ]
     },
     "execution_count": 18,
     "metadata": {},
     "output_type": "execute_result"
    }
   ],
   "source": [
    "nested_str = json.dumps(nested)\n",
    "nested_str"
   ]
  },
  {
   "cell_type": "code",
   "execution_count": 7,
   "id": "75842872-7c13-466a-b628-ac506db93096",
   "metadata": {},
   "outputs": [
    {
     "data": {
      "text/plain": [
       "'{\"name\": \"John Doe\", \"age\": 25, \"hobbies\": [\"reading\", \"writing\"]}'"
      ]
     },
     "execution_count": 7,
     "metadata": {},
     "output_type": "execute_result"
    }
   ],
   "source": [
    "arr_str = json.dumps(arr)\n",
    "arr_str"
   ]
  },
  {
   "cell_type": "code",
   "execution_count": 19,
   "id": "54e7c951-c97a-4314-8f8e-e7d6726c985a",
   "metadata": {},
   "outputs": [
    {
     "data": {
      "text/plain": [
       "119"
      ]
     },
     "execution_count": 19,
     "metadata": {},
     "output_type": "execute_result"
    }
   ],
   "source": [
    "#| output: false\n",
    "\n",
    "Path(\"/tmp/flat.json\").write_text(flat_str)\n",
    "Path(\"/tmp/nested.json\").write_text(nested_str)"
   ]
  },
  {
   "cell_type": "markdown",
   "id": "35b1a29e-7dc6-48af-b21d-d183f2f55d86",
   "metadata": {},
   "source": [
    "### Decoding\n",
    "\n",
    "Also called \"deserialization\"."
   ]
  },
  {
   "cell_type": "code",
   "execution_count": 20,
   "id": "d9cca7d5-2fe5-4178-a0cf-408b52202c6f",
   "metadata": {},
   "outputs": [
    {
     "data": {
      "text/plain": [
       "{'name': 'John Doe', 'age': 25}"
      ]
     },
     "execution_count": 20,
     "metadata": {},
     "output_type": "execute_result"
    }
   ],
   "source": [
    "json.load(\n",
    "    Path(\"/tmp/flat.json\").open()\n",
    ")"
   ]
  },
  {
   "cell_type": "code",
   "execution_count": 21,
   "id": "309425aa-30ce-48c5-b867-47df871b0ccb",
   "metadata": {},
   "outputs": [
    {
     "data": {
      "text/plain": [
       "{'name': 'John Doe', 'age': 25}"
      ]
     },
     "execution_count": 21,
     "metadata": {},
     "output_type": "execute_result"
    }
   ],
   "source": [
    "json.loads(\n",
    "    Path(\"/tmp/flat.json\").read_text()\n",
    ")"
   ]
  },
  {
   "cell_type": "code",
   "execution_count": 22,
   "id": "ae42b8e3-88b2-4ac7-bd98-a45799b300de",
   "metadata": {},
   "outputs": [
    {
     "data": {
      "text/plain": [
       "{'name': {'firstName': 'John', 'lastName': 'Doe', 'middleName': 'Smith'},\n",
       " 'age': 25,\n",
       " 'hobbies': ['reading', 'writing']}"
      ]
     },
     "execution_count": 22,
     "metadata": {},
     "output_type": "execute_result"
    }
   ],
   "source": [
    "json.load(\n",
    "    Path(\"/tmp/nested.json\").open()\n",
    ")"
   ]
  },
  {
   "cell_type": "code",
   "execution_count": 23,
   "id": "874ce244-5c76-4b7e-9f4a-78467c984365",
   "metadata": {},
   "outputs": [
    {
     "data": {
      "text/plain": [
       "{'name': {'firstName': 'John', 'lastName': 'Doe', 'middleName': 'Smith'},\n",
       " 'age': 25,\n",
       " 'hobbies': ['reading', 'writing']}"
      ]
     },
     "execution_count": 23,
     "metadata": {},
     "output_type": "execute_result"
    }
   ],
   "source": [
    "json.loads(\n",
    "    Path(\"/tmp/nested.json\").read_text()\n",
    ")"
   ]
  },
  {
   "cell_type": "markdown",
   "id": "e9e28f6c-b33c-4ec0-badb-67acc11780b5",
   "metadata": {},
   "source": [
    "Notice we load the data into a python dictionary:"
   ]
  },
  {
   "cell_type": "code",
   "execution_count": 24,
   "id": "d5bb9ab2-26bc-4e71-95d4-734d50b8acc0",
   "metadata": {},
   "outputs": [
    {
     "data": {
      "text/plain": [
       "dict"
      ]
     },
     "execution_count": 24,
     "metadata": {},
     "output_type": "execute_result"
    }
   ],
   "source": [
    "out = json.loads(\n",
    "    Path(\"/tmp/nested.json\").read_text()\n",
    ")\n",
    "type(out)"
   ]
  },
  {
   "cell_type": "markdown",
   "id": "0471dc42-82d0-4dbb-94bf-bd3fa5f5733a",
   "metadata": {},
   "source": [
    "We can also store a list as JSON array:"
   ]
  },
  {
   "cell_type": "code",
   "execution_count": 28,
   "id": "c2dd655d-19e9-4eb6-b6e0-868f31d52be4",
   "metadata": {},
   "outputs": [
    {
     "data": {
      "text/plain": [
       "20"
      ]
     },
     "execution_count": 28,
     "metadata": {},
     "output_type": "execute_result"
    }
   ],
   "source": [
    "#| output: false\n",
    "\n",
    "Path(\"/tmp/arr.json\").write_text(\n",
    "    json.dumps([\n",
    "        {\"a\": 1},\n",
    "        {\"b\": 2},\n",
    "    ])\n",
    ")"
   ]
  },
  {
   "cell_type": "code",
   "execution_count": 31,
   "id": "6adce0df-0e4b-49cb-ae1c-7e453491c8c2",
   "metadata": {},
   "outputs": [
    {
     "name": "stdout",
     "output_type": "stream",
     "text": [
      "<class 'list'>\n"
     ]
    },
    {
     "data": {
      "text/plain": [
       "[{'a': 1}, {'b': 2}]"
      ]
     },
     "execution_count": 31,
     "metadata": {},
     "output_type": "execute_result"
    }
   ],
   "source": [
    "out = json.load(Path(\"/tmp/arr.json\").open())\n",
    "print(type(out))\n",
    "out"
   ]
  },
  {
   "cell_type": "markdown",
   "id": "f56d70a1-a0d8-4dfd-b094-f02bd4cfa9f7",
   "metadata": {},
   "source": [
    "## Parquet\n",
    "[Parquet](https://en.wikipedia.org/wiki/Apache_Parquet) is a column oriented format.\n",
    "For a number of reasons, this format is much more efficient than `csv` and other formats."
   ]
  },
  {
   "cell_type": "code",
   "execution_count": 37,
   "id": "6cf1b983-10a4-4a49-8e14-91db07d25c2c",
   "metadata": {},
   "outputs": [
    {
     "data": {
      "text/html": [
       "<div>\n",
       "<style scoped>\n",
       "    .dataframe tbody tr th:only-of-type {\n",
       "        vertical-align: middle;\n",
       "    }\n",
       "\n",
       "    .dataframe tbody tr th {\n",
       "        vertical-align: top;\n",
       "    }\n",
       "\n",
       "    .dataframe thead th {\n",
       "        text-align: right;\n",
       "    }\n",
       "</style>\n",
       "<table border=\"1\" class=\"dataframe\">\n",
       "  <thead>\n",
       "    <tr style=\"text-align: right;\">\n",
       "      <th></th>\n",
       "      <th>date</th>\n",
       "      <th>id</th>\n",
       "      <th>age</th>\n",
       "    </tr>\n",
       "  </thead>\n",
       "  <tbody>\n",
       "    <tr>\n",
       "      <th>0</th>\n",
       "      <td>2020-01-01</td>\n",
       "      <td>x12</td>\n",
       "      <td>19</td>\n",
       "    </tr>\n",
       "    <tr>\n",
       "      <th>1</th>\n",
       "      <td>2020-01-02</td>\n",
       "      <td>x11</td>\n",
       "      <td>23</td>\n",
       "    </tr>\n",
       "    <tr>\n",
       "      <th>2</th>\n",
       "      <td>2020-01-02</td>\n",
       "      <td>x3</td>\n",
       "      <td>22</td>\n",
       "    </tr>\n",
       "    <tr>\n",
       "      <th>3</th>\n",
       "      <td>2020-01-03</td>\n",
       "      <td>x19</td>\n",
       "      <td>28</td>\n",
       "    </tr>\n",
       "  </tbody>\n",
       "</table>\n",
       "</div>"
      ],
      "text/plain": [
       "         date   id  age\n",
       "0  2020-01-01  x12   19\n",
       "1  2020-01-02  x11   23\n",
       "2  2020-01-02   x3   22\n",
       "3  2020-01-03  x19   28"
      ]
     },
     "execution_count": 37,
     "metadata": {},
     "output_type": "execute_result"
    }
   ],
   "source": [
    "df"
   ]
  },
  {
   "cell_type": "markdown",
   "id": "a0f9f8c7-a313-4148-92da-53887eb1fb63",
   "metadata": {},
   "source": [
    "With `pandas` we can save data to a parquet file:"
   ]
  },
  {
   "cell_type": "code",
   "execution_count": 41,
   "id": "4f70fd5e-b861-4051-b470-eb0ed5bebe2a",
   "metadata": {},
   "outputs": [],
   "source": [
    "df.to_parquet(\"/tmp/data.parquet\")"
   ]
  },
  {
   "cell_type": "markdown",
   "id": "dc01b9bd-4e00-4bef-910d-3abdff547530",
   "metadata": {},
   "source": [
    "And read in:"
   ]
  },
  {
   "cell_type": "code",
   "execution_count": 42,
   "id": "bd0afbba-dd5f-471f-9b62-f5306ca09804",
   "metadata": {},
   "outputs": [
    {
     "data": {
      "text/html": [
       "<div>\n",
       "<style scoped>\n",
       "    .dataframe tbody tr th:only-of-type {\n",
       "        vertical-align: middle;\n",
       "    }\n",
       "\n",
       "    .dataframe tbody tr th {\n",
       "        vertical-align: top;\n",
       "    }\n",
       "\n",
       "    .dataframe thead th {\n",
       "        text-align: right;\n",
       "    }\n",
       "</style>\n",
       "<table border=\"1\" class=\"dataframe\">\n",
       "  <thead>\n",
       "    <tr style=\"text-align: right;\">\n",
       "      <th></th>\n",
       "      <th>date</th>\n",
       "      <th>id</th>\n",
       "      <th>age</th>\n",
       "    </tr>\n",
       "  </thead>\n",
       "  <tbody>\n",
       "    <tr>\n",
       "      <th>0</th>\n",
       "      <td>2020-01-01</td>\n",
       "      <td>x12</td>\n",
       "      <td>19</td>\n",
       "    </tr>\n",
       "    <tr>\n",
       "      <th>1</th>\n",
       "      <td>2020-01-02</td>\n",
       "      <td>x11</td>\n",
       "      <td>23</td>\n",
       "    </tr>\n",
       "    <tr>\n",
       "      <th>2</th>\n",
       "      <td>2020-01-02</td>\n",
       "      <td>x3</td>\n",
       "      <td>22</td>\n",
       "    </tr>\n",
       "    <tr>\n",
       "      <th>3</th>\n",
       "      <td>2020-01-03</td>\n",
       "      <td>x19</td>\n",
       "      <td>28</td>\n",
       "    </tr>\n",
       "  </tbody>\n",
       "</table>\n",
       "</div>"
      ],
      "text/plain": [
       "         date   id  age\n",
       "0  2020-01-01  x12   19\n",
       "1  2020-01-02  x11   23\n",
       "2  2020-01-02   x3   22\n",
       "3  2020-01-03  x19   28"
      ]
     },
     "execution_count": 42,
     "metadata": {},
     "output_type": "execute_result"
    }
   ],
   "source": [
    "pd.read_parquet(\"/tmp/data.parquet\")"
   ]
  },
  {
   "cell_type": "markdown",
   "id": "b12623fb-1c7c-4c0c-a2ea-b6b0c738623d",
   "metadata": {},
   "source": [
    "::: {.callout-tip}\n",
    "Prefer `parquet` format when possible. It is faster to read and it stores metadata that can be used by libraries for optimization, for example, applying some filters.\n",
    ":::"
   ]
  },
  {
   "cell_type": "code",
   "execution_count": null,
   "id": "17fd5529-094d-463a-98cf-2ca6e7a47746",
   "metadata": {},
   "outputs": [],
   "source": []
  }
 ],
 "metadata": {
  "kernelspec": {
   "display_name": "Python 3 (ipykernel)",
   "language": "python",
   "name": "python3"
  },
  "language_info": {
   "codemirror_mode": {
    "name": "ipython",
    "version": 3
   },
   "file_extension": ".py",
   "mimetype": "text/x-python",
   "name": "python",
   "nbconvert_exporter": "python",
   "pygments_lexer": "ipython3",
   "version": "3.10.13"
  }
 },
 "nbformat": 4,
 "nbformat_minor": 5
}
