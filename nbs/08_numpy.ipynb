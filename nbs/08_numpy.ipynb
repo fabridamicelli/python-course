{
 "cells": [
  {
   "cell_type": "markdown",
   "id": "97a9ac71-a121-4b3e-bd73-a9721222d5ac",
   "metadata": {},
   "source": [
    "---\n",
    "title: Numpy\n",
    "toc: true\n",
    "---"
   ]
  },
  {
   "cell_type": "markdown",
   "id": "1a0790c7-1e05-49f5-b398-17f4d82b0c43",
   "metadata": {},
   "source": [
    "## Slicing Arrays"
   ]
  },
  {
   "cell_type": "markdown",
   "id": "89ee7126-1329-4f32-afa2-796cdb4b1398",
   "metadata": {},
   "source": [
    "Slicing works as with, for example, `range`, with systax `(start, [stop], [step])`.\n",
    "We treat each dimension separately with `,`. \n",
    "\n",
    "Let's see:"
   ]
  },
  {
   "cell_type": "code",
   "execution_count": 1,
   "id": "b1156669-2bc1-4296-8b5f-99fcd28c4d15",
   "metadata": {},
   "outputs": [],
   "source": [
    "import numpy as np"
   ]
  },
  {
   "cell_type": "code",
   "execution_count": 6,
   "id": "e9c7ed07-ea68-4105-a3eb-93a2bbebd978",
   "metadata": {},
   "outputs": [
    {
     "data": {
      "text/plain": [
       "array([[ 0,  1,  2,  3],\n",
       "       [ 4,  5,  6,  7],\n",
       "       [ 8,  9, 10, 11]])"
      ]
     },
     "execution_count": 6,
     "metadata": {},
     "output_type": "execute_result"
    }
   ],
   "source": [
    "arr = np.arange(12).reshape(3,4)\n",
    "arr"
   ]
  },
  {
   "cell_type": "code",
   "execution_count": 7,
   "id": "3140ad20-430f-438c-b203-2198bc6f257d",
   "metadata": {},
   "outputs": [
    {
     "data": {
      "text/plain": [
       "array([0, 1, 2, 3])"
      ]
     },
     "execution_count": 7,
     "metadata": {},
     "output_type": "execute_result"
    }
   ],
   "source": [
    "# Take first row\n",
    "arr[0]"
   ]
  },
  {
   "cell_type": "code",
   "execution_count": 8,
   "id": "2e3adfba-41fd-4ba0-8fe0-0694e76daa2c",
   "metadata": {},
   "outputs": [
    {
     "data": {
      "text/plain": [
       "array([0, 4, 8])"
      ]
     },
     "execution_count": 8,
     "metadata": {},
     "output_type": "execute_result"
    }
   ],
   "source": [
    "# Take first column\n",
    "arr[:, 0]"
   ]
  },
  {
   "cell_type": "code",
   "execution_count": 9,
   "id": "0eee6442-0224-487b-a3fe-b4598ae4d06c",
   "metadata": {},
   "outputs": [
    {
     "data": {
      "text/plain": [
       "array([4, 6])"
      ]
     },
     "execution_count": 9,
     "metadata": {},
     "output_type": "execute_result"
    }
   ],
   "source": [
    "# Take every second element of second row\n",
    "arr[1, ::2]"
   ]
  },
  {
   "cell_type": "code",
   "execution_count": 15,
   "id": "f18919a3-3d9c-4ee1-8307-a475c58669cd",
   "metadata": {},
   "outputs": [
    {
     "data": {
      "text/plain": [
       "array([ 2, 10])"
      ]
     },
     "execution_count": 15,
     "metadata": {},
     "output_type": "execute_result"
    }
   ],
   "source": [
    "# Take every second element of third column\n",
    "arr[::2, 2]"
   ]
  },
  {
   "cell_type": "markdown",
   "id": "de030d51-429b-4f55-acae-65cbdd6d7b26",
   "metadata": {},
   "source": [
    "One special thing about numpy slices: We can use lists to index. \n",
    "Each element of the list is interpreted as an index to get:"
   ]
  },
  {
   "cell_type": "code",
   "execution_count": 13,
   "id": "c2c19abd-e968-4f4b-b5b7-05733fe96a4e",
   "metadata": {},
   "outputs": [
    {
     "data": {
      "text/plain": [
       "array([[ 1,  2],\n",
       "       [ 5,  6],\n",
       "       [ 9, 10]])"
      ]
     },
     "execution_count": 13,
     "metadata": {},
     "output_type": "execute_result"
    }
   ],
   "source": [
    "# Take second and third columns\n",
    "arr[:, [1, 2]]"
   ]
  },
  {
   "cell_type": "code",
   "execution_count": 14,
   "id": "793f3f3e-8757-418d-aed7-a04e1e57bab0",
   "metadata": {},
   "outputs": [
    {
     "data": {
      "text/plain": [
       "array([[ 0,  1,  2,  3],\n",
       "       [ 8,  9, 10, 11]])"
      ]
     },
     "execution_count": 14,
     "metadata": {},
     "output_type": "execute_result"
    }
   ],
   "source": [
    "# Take first and third rows\n",
    "arr[[0, 2], :]"
   ]
  },
  {
   "cell_type": "markdown",
   "id": "a9d2d3f3-f9fb-49cb-bbc6-825d7a2feced",
   "metadata": {},
   "source": [
    "## Numpy Built-in Functions\n",
    "\n",
    "Numpy implements many useful functions often used when working with numerical/scientific data.\n",
    "For example the `random` submodule exposes several useful functions for stochastic modelling and statistical analysis."
   ]
  },
  {
   "cell_type": "code",
   "execution_count": 2,
   "id": "3f77af0d-4398-404f-b379-214220dddbdd",
   "metadata": {},
   "outputs": [],
   "source": [
    "#| code-fold: true\n",
    "import matplotlib.pyplot as plt"
   ]
  },
  {
   "cell_type": "code",
   "execution_count": 14,
   "id": "832538ec-db42-4f9f-befc-aee257286bd8",
   "metadata": {},
   "outputs": [
    {
     "data": {
      "image/png": "[encoded data removed]",
      "text/plain": [
       "<Figure size 640x480 with 1 Axes>"
      ]
     },
     "metadata": {},
     "output_type": "display_data"
    }
   ],
   "source": [
    "plt.hist(\n",
    "    # Draw samples from normal distribution \n",
    "    np.random.normal(size=10_000),\n",
    "    bins=100\n",
    ");"
   ]
  },
  {
   "cell_type": "code",
   "execution_count": 13,
   "id": "52aab2c0-042c-43f0-9131-344c9b39ef3d",
   "metadata": {},
   "outputs": [
    {
     "data": {
      "image/png": "[encoded data removed]",
      "text/plain": [
       "<Figure size 640x480 with 1 Axes>"
      ]
     },
     "metadata": {},
     "output_type": "display_data"
    }
   ],
   "source": [
    "plt.hist(\n",
    "    # Draw samples from uniform distribution \n",
    "    np.random.uniform(size=10_000),\n",
    "    bins=100\n",
    ");"
   ]
  }
 ],
 "metadata": {
  "kernelspec": {
   "display_name": "Python 3 (ipykernel)",
   "language": "python",
   "name": "python3"
  },
  "language_info": {
   "codemirror_mode": {
    "name": "ipython",
    "version": 3
   },
   "file_extension": ".py",
   "mimetype": "text/x-python",
   "name": "python",
   "nbconvert_exporter": "python",
   "pygments_lexer": "ipython3",
   "version": "3.10.13"
  }
 },
 "nbformat": 4,
 "nbformat_minor": 5
}
