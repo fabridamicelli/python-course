{
 "cells": [
  {
   "cell_type": "markdown",
   "id": "93bced8a-9c77-41cb-99d2-9206157c8d35",
   "metadata": {},
   "source": [
    "---\n",
    "title: Getting Started\n",
    "toc: true\n",
    "---"
   ]
  },
  {
   "cell_type": "markdown",
   "id": "32684093-9150-48ce-8c92-74fa4277905d",
   "metadata": {},
   "source": [
    "## Introduction\n",
    "Historical and technical reasons that we will not address here make installing Python and third party libraries is a little bit more cumbersome than it should be and are way too many ways to install Python and libraries\n",
    "My recommendation here is: Pick one system that works for you and stick to it.\n",
    "\n",
    "We essentially need to carry out 3 tasks:\n",
    "- Install Python (the language itself)\n",
    "- Manage virtual environments\n",
    "- Install third party libraries\n",
    "\n",
    "We we'll use here `miniconda` which allows us to address all 3 goals."
   ]
  },
  {
   "cell_type": "markdown",
   "id": "d190be7d-7ccd-46d5-b28a-3faeaf22a7e2",
   "metadata": {},
   "source": [
    "## Install Python"
   ]
  },
  {
   "cell_type": "markdown",
   "id": "5cf755c9-40ed-48e3-8cd9-c2a15b0206c2",
   "metadata": {},
   "source": [
    "Go to [miniconda](https://docs.anaconda.com/free/miniconda/miniconda-install) and follow the instructions for your operating system to download and install miniconda.\n",
    "\n",
    "A successful installation should make the command `conda` available in your terminal (you might need to open a new terminal after installation).\n",
    "We can check for example the current virtual environments with the command `conda env list ` (you should at least see one environment called \"base\")."
   ]
  },
  {
   "cell_type": "markdown",
   "id": "0b2cadbf-9c5f-4ae5-a3e6-69d1a7efc2b9",
   "metadata": {},
   "source": [
    "## Create a virtual environment with an arbitrary python version \n",
    "To learn more about what exactly a virtual environment (virtualenv) is go to TODO.\n",
    "For now, we'll just create one by running the following in a terminal:\n",
    "```bash\n",
    "conda create --name course python=3.10\n",
    "```\n",
    "The argument `--name` indicates that the virtual environment will be called `course`, while `python=3.10` specifies that this particular virtual environment will run such python version.  \n",
    "\n",
    "After that, run the following command in order to activate the virtualenv:\n",
    "```bash\n",
    "conda activate course\n",
    "```\n",
    "As long as our virtualenv is activated, all the python code we run will be only using the one inside the environment, which is good for isolating code of our project."
   ]
  },
  {
   "cell_type": "markdown",
   "id": "115c1118-2e6b-4092-bcea-ac8db85b9cdd",
   "metadata": {},
   "source": [
    "::: {.callout-tip}\n",
    "Always work within a virtual environment that you created/control.\n",
    "That will spare you many dependencies headaches and also help write more reproducible code.\n",
    ":::"
   ]
  },
  {
   "cell_type": "markdown",
   "id": "88b4e71e-6bab-4882-a01c-0d503a884925",
   "metadata": {},
   "source": [
    "## Install Libraries\n",
    "Python ships with a bunch of \"built-in\" libraries, i.e. code that comes always with the language and will be there right away, such as the `time` module.\n",
    "But we also want to use code that other contributors in the community wrote – those are called \"third party\" libraries."
   ]
  },
  {
   "cell_type": "markdown",
   "id": "89a3933e-376a-4d10-9ced-d9381a56d108",
   "metadata": {},
   "source": [
    "::: {.callout-note}\n",
    "The python \"built-in\" modules are also known as a whole as the \"standard library\".\n",
    ":::"
   ]
  },
  {
   "cell_type": "raw",
   "id": "ff72651d-de97-4548-8a7c-53adfc73ee98",
   "metadata": {},
   "source": [
    "\n",
    "\n"
   ]
  }
 ],
 "metadata": {
  "kernelspec": {
   "display_name": "Python 3 (ipykernel)",
   "language": "python",
   "name": "python3"
  },
  "language_info": {
   "codemirror_mode": {
    "name": "ipython",
    "version": 3
   },
   "file_extension": ".py",
   "mimetype": "text/x-python",
   "name": "python",
   "nbconvert_exporter": "python",
   "pygments_lexer": "ipython3",
   "version": "3.10.13"
  }
 },
 "nbformat": 4,
 "nbformat_minor": 5
}
