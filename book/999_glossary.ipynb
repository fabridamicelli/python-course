{
 "cells": [
  {
   "cell_type": "markdown",
   "id": "97a9ac71-a121-4b3e-bd73-a9721222d5ac",
   "metadata": {},
   "source": [
    "---\n",
    "title: Glossary \n",
    "toc: true\n",
    "---"
   ]
  },
  {
   "cell_type": "markdown",
   "id": "eb6b0843-d4d9-4f63-b155-11739ba90398",
   "metadata": {},
   "source": [
    "This is a somehow arbitrary compendium of explanations in layman words of terms that you will commonly find in the Python jargon."
   ]
  },
  {
   "cell_type": "code",
   "execution_count": 1,
   "id": "f399192c-9570-45e9-b75c-77819e5d3592",
   "metadata": {},
   "outputs": [],
   "source": [
    "#| code-fold: true\n",
    "import pathlib"
   ]
  },
  {
   "cell_type": "markdown",
   "id": "d4e60cb5-b3a7-4cef-b484-7a449019d8ca",
   "metadata": {},
   "source": [
    "**Standard library:** \n",
    "All the modules that come with the python language out of the box.\n",
    "These are the so-called \"batteries included\".\n",
    "For example, the modules `pathlib` or `json`.\n",
    "We can import these without need of installing anything else:"
   ]
  },
  {
   "cell_type": "code",
   "execution_count": 4,
   "id": "723437bb-c509-4245-83b5-96671deb0ea9",
   "metadata": {},
   "outputs": [],
   "source": [
    "import json\n",
    "import pathlib"
   ]
  },
  {
   "cell_type": "markdown",
   "id": "8b5fd624-2ad6-458e-8248-b93a8ebbeb4d",
   "metadata": {},
   "source": [
    "**Method:** \n",
    "A function attached to an object.\n",
    "This means we can call the function using dot notation on the object like this:"
   ]
  },
  {
   "cell_type": "code",
   "execution_count": 3,
   "id": "2ec1c0b1-3baf-4a6a-802e-449b08661abd",
   "metadata": {},
   "outputs": [
    {
     "data": {
      "text/plain": [
       "True"
      ]
     },
     "execution_count": 3,
     "metadata": {},
     "output_type": "execute_result"
    }
   ],
   "source": [
    "mypath = pathlib.Path(\".\")  # Create object \"mypath\"\n",
    "mypath.is_dir()  # Call the method (function) \"is_dir\""
   ]
  },
  {
   "cell_type": "markdown",
   "id": "8e3086db-60b0-4a8c-b5d2-2f61e39f06c0",
   "metadata": {},
   "source": [
    "**API:** \n",
    "This stands for application programming interface.\n",
    "That refers to the functionalities exposed to the user by a program.\n",
    "For example, which objects a user is supposed to instanciate, which methods this object will have, etc.\n",
    "This surface of contact between the user and the software is in contrast to the inner workings of the program which are not supposed to be understood or used by the user.\n",
    "Read more [here](https://en.wikipedia.org/wiki/API)."
   ]
  },
  {
   "cell_type": "code",
   "execution_count": null,
   "id": "9de2ba77-00d0-4535-b4be-a59fd95a5d81",
   "metadata": {},
   "outputs": [],
   "source": []
  }
 ],
 "metadata": {
  "kernelspec": {
   "display_name": "Python 3 (ipykernel)",
   "language": "python",
   "name": "python3"
  },
  "language_info": {
   "codemirror_mode": {
    "name": "ipython",
    "version": 3
   },
   "file_extension": ".py",
   "mimetype": "text/x-python",
   "name": "python",
   "nbconvert_exporter": "python",
   "pygments_lexer": "ipython3",
   "version": "3.10.13"
  }
 },
 "nbformat": 4,
 "nbformat_minor": 5
}
