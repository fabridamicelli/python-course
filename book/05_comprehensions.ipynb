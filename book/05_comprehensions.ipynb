{
 "cells": [
  {
   "cell_type": "markdown",
   "id": "245999c1-8db0-4d21-8e2a-18798f4d87cd",
   "metadata": {},
   "source": [
    "---\n",
    "title: Comprehensions \n",
    "toc: true\n",
    "---"
   ]
  },
  {
   "attachments": {},
   "cell_type": "markdown",
   "id": "493c0563-f1b4-4438-af55-0915a3c6a48d",
   "metadata": {},
   "source": [
    "A commonly used language construct are comprehensions.\n",
    "They can have performance advantages and can improve readability if properly used."
   ]
  },
  {
   "cell_type": "markdown",
   "id": "07dcd507-49bb-4e71-9aa0-ece75e70edf6",
   "metadata": {},
   "source": [
    "## List comprehensions"
   ]
  },
  {
   "cell_type": "markdown",
   "id": "73d005fb-0e3b-4267-9767-54ddc44db995",
   "metadata": {},
   "source": [
    "This code of block shows a common pattern that can be simplified:"
   ]
  },
  {
   "cell_type": "code",
   "execution_count": 1,
   "id": "a77d34f2-bef4-4822-bf68-e80e182070e0",
   "metadata": {},
   "outputs": [
    {
     "data": {
      "text/plain": [
       "[3, 4, 5, 6, 7, 8, 9]"
      ]
     },
     "execution_count": 1,
     "metadata": {},
     "output_type": "execute_result"
    }
   ],
   "source": [
    "result = []\n",
    "for n in range(10):\n",
    "    if n > 2:\n",
    "        result.append(n)\n",
    "result"
   ]
  },
  {
   "cell_type": "markdown",
   "id": "8161c065-8678-4cad-af18-ef1210381126",
   "metadata": {},
   "source": [
    "To this:"
   ]
  },
  {
   "cell_type": "code",
   "execution_count": 3,
   "id": "b3719599-38be-48db-b1ba-29b12ed4f30c",
   "metadata": {},
   "outputs": [
    {
     "data": {
      "text/plain": [
       "[3, 4, 5, 6, 7, 8, 9]"
      ]
     },
     "execution_count": 3,
     "metadata": {},
     "output_type": "execute_result"
    }
   ],
   "source": [
    "[n for n in range(10) if n>2]"
   ]
  },
  {
   "cell_type": "code",
   "execution_count": null,
   "id": "3375a0e1-50e4-4411-8087-a28dbbcd77f1",
   "metadata": {},
   "outputs": [],
   "source": [
    "The logic can also be extended:"
   ]
  },
  {
   "cell_type": "code",
   "execution_count": 12,
   "id": "264027ce-f9e2-4f35-9c25-494ef5c58eba",
   "metadata": {},
   "outputs": [
    {
     "data": {
      "text/plain": [
       "['too-small', 'too-small', 'too-small', 3, 4, 5, 6, 7, 8, 9]"
      ]
     },
     "execution_count": 12,
     "metadata": {},
     "output_type": "execute_result"
    }
   ],
   "source": [
    "result = [n if n>2 else \"too-small\" for n in range(10)]\n",
    "result"
   ]
  },
  {
   "cell_type": "markdown",
   "id": "dc48aa21-25c3-49ca-ba47-4630f42466ae",
   "metadata": {},
   "source": [
    "We can have also nested structures:"
   ]
  },
  {
   "cell_type": "code",
   "execution_count": 20,
   "id": "1f415995-796f-4552-8406-8b998e49bc7e",
   "metadata": {},
   "outputs": [
    {
     "data": {
      "text/plain": [
       "[(0, 0), (0, 1), (0, 2), (1, 0), (1, 1), (1, 2)]"
      ]
     },
     "execution_count": 20,
     "metadata": {},
     "output_type": "execute_result"
    }
   ],
   "source": [
    "results = []\n",
    "for m in range(2):\n",
    "    for n in range(3):\n",
    "        results.append((m,n))\n",
    "results "
   ]
  },
  {
   "cell_type": "code",
   "execution_count": 21,
   "id": "0972f05b-bd7a-4be3-beaa-9642d5385784",
   "metadata": {},
   "outputs": [
    {
     "data": {
      "text/plain": [
       "[(0, 0), (0, 1), (0, 2), (1, 0), (1, 1), (1, 2)]"
      ]
     },
     "execution_count": 21,
     "metadata": {},
     "output_type": "execute_result"
    }
   ],
   "source": [
    "results = [(m,n) for m in range(2) for n in range(3)]\n",
    "results"
   ]
  },
  {
   "cell_type": "markdown",
   "id": "58b26533-a7ce-4bae-837d-541d15034fdc",
   "metadata": {},
   "source": [
    "::: {.callout-tip}\n",
    "Nested comprehension are difficult to read and debug.\n",
    "As a rule of thumb, do not use comprehensions for nested logic beyond 2 levels and, in general, do not add too much logic to comprehensions. \n",
    "If in doubt, just write the loop(s) out.\n",
    ":::"
   ]
  },
  {
   "cell_type": "markdown",
   "id": "ec6b8dc1-3c67-4f9b-93c7-cc49cbffe590",
   "metadata": {},
   "source": [
    "Although lists are the most commonly used, comprehensions also extend to other collections beyond lists."
   ]
  },
  {
   "cell_type": "markdown",
   "id": "3e0240c2-7d43-4c39-854f-045bd1293155",
   "metadata": {},
   "source": [
    "## Tuple comprehensions"
   ]
  },
  {
   "cell_type": "code",
   "execution_count": 19,
   "id": "c10c4a68-1bed-42ab-97a8-6c47d5d31b2e",
   "metadata": {},
   "outputs": [
    {
     "data": {
      "text/plain": [
       "(0, 1, 2, 3, 4, 5, 6, 7, 8, 9)"
      ]
     },
     "execution_count": 19,
     "metadata": {},
     "output_type": "execute_result"
    }
   ],
   "source": [
    "tuple(n for n in range(10))"
   ]
  },
  {
   "cell_type": "markdown",
   "id": "987a4951-fbd5-45f7-b0e3-59752fb7aa3e",
   "metadata": {},
   "source": [
    "## Set comprehensions"
   ]
  },
  {
   "cell_type": "code",
   "execution_count": 9,
   "id": "ebf1d3bd-4011-44bb-97e3-948ff2ea290b",
   "metadata": {},
   "outputs": [
    {
     "data": {
      "text/plain": [
       "{3, 4, 5, 6, 7, 8, 9}"
      ]
     },
     "execution_count": 9,
     "metadata": {},
     "output_type": "execute_result"
    }
   ],
   "source": [
    "results = set()\n",
    "for n in range(10):\n",
    "    if n > 2:\n",
    "        results.add(n)\n",
    "results"
   ]
  },
  {
   "cell_type": "code",
   "execution_count": 11,
   "id": "15c9a99e-429e-4485-b263-17e89ce197c4",
   "metadata": {},
   "outputs": [
    {
     "data": {
      "text/plain": [
       "{3, 4, 5, 6, 7, 8, 9}"
      ]
     },
     "execution_count": 11,
     "metadata": {},
     "output_type": "execute_result"
    }
   ],
   "source": [
    "results = {n for n in range(10) if n > 2}\n",
    "results"
   ]
  },
  {
   "cell_type": "markdown",
   "id": "66db581e-1c0c-4cdd-8c02-44c902b58d20",
   "metadata": {},
   "source": [
    "## Dictionary comprehensions"
   ]
  },
  {
   "cell_type": "code",
   "execution_count": 5,
   "id": "1b95a86c-0033-48c4-8114-2bfc6d84615e",
   "metadata": {},
   "outputs": [
    {
     "data": {
      "text/plain": [
       "{'number_3_is': 3,\n",
       " 'number_4_is': 4,\n",
       " 'number_5_is': 5,\n",
       " 'number_6_is': 6,\n",
       " 'number_7_is': 7,\n",
       " 'number_8_is': 8,\n",
       " 'number_9_is': 9}"
      ]
     },
     "execution_count": 5,
     "metadata": {},
     "output_type": "execute_result"
    }
   ],
   "source": [
    "results = {}\n",
    "for n in range(10):\n",
    "    if n > 2:\n",
    "        results[f\"number_{n}_is\"] = n\n",
    "results"
   ]
  },
  {
   "cell_type": "code",
   "execution_count": 7,
   "id": "09e557b4-9208-49ba-ae5c-458e4e3f63de",
   "metadata": {},
   "outputs": [
    {
     "data": {
      "text/plain": [
       "{'number_3_is': 3,\n",
       " 'number_4_is': 4,\n",
       " 'number_5_is': 5,\n",
       " 'number_6_is': 6,\n",
       " 'number_7_is': 7,\n",
       " 'number_8_is': 8,\n",
       " 'number_9_is': 9}"
      ]
     },
     "execution_count": 7,
     "metadata": {},
     "output_type": "execute_result"
    }
   ],
   "source": [
    "results = {f\"number_{n}_is\": n for n in range(10) if n > 2}\n",
    "results"
   ]
  },
  {
   "cell_type": "markdown",
   "id": "274078ea-c5d7-486b-a708-3797c6a46894",
   "metadata": {},
   "source": [
    "## Exercises\n",
    "Use this `ages` dictionary:\n",
    "\n",
    "```python\n",
    "ages = {\n",
    "    \"mark\": 12,\n",
    "    \"lua\": 32,\n",
    "    \"martin\": 8,\n",
    "    \"mette\": 41,\n",
    "    \"malte\": 27,\n",
    "    \"anna\": 19,\n",
    "    \"junior\": 53,\n",
    "    \"juan\": 98,\n",
    "}\n",
    "```\n",
    "\n",
    "1) Using a list comprehension, create a new list containing the first letter of each name in `ages`.\n",
    "2) Repeat it, excluding names that start with the letter \"a\" or \"m\".\n",
    "3) Repeat it, replacing names starting with \"j\" with \"starts-with-j\", eg \"john\" -> \"starts-with-j\".\n",
    "4) Create a set containing the last letter of the each name.\n",
    "5) Repeat it, but only consider names with more than 4 letters.\n",
    "6) Create a new dictionary using a comprehension that has items (\"age_of_NAME\": AGE), reading NAME and AGE from the `ages` dictionary."
   ]
  }
 ],
 "metadata": {
  "kernelspec": {
   "display_name": "Python 3 (ipykernel)",
   "language": "python",
   "name": "python3"
  },
  "language_info": {
   "codemirror_mode": {
    "name": "ipython",
    "version": 3
   },
   "file_extension": ".py",
   "mimetype": "text/x-python",
   "name": "python",
   "nbconvert_exporter": "python",
   "pygments_lexer": "ipython3",
   "version": "3.10.13"
  }
 },
 "nbformat": 4,
 "nbformat_minor": 5
}
