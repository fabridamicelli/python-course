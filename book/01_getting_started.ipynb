{
 "cells": [
  {
   "cell_type": "markdown",
   "id": "93bced8a-9c77-41cb-99d2-9206157c8d35",
   "metadata": {},
   "source": [
    "---\n",
    "title: Getting Started\n",
    "toc: true\n",
    "---"
   ]
  },
  {
   "cell_type": "markdown",
   "id": "32684093-9150-48ce-8c92-74fa4277905d",
   "metadata": {},
   "source": [
    "## Introduction\n",
    "For historical and technical reasons installing Python and managing dependencies is more cumbersome than it should be and as of today (October 2024) there are way too many ways to deal with those problems.\n",
    "My recommendation here is: Pick one system that works for you and stick to it.\n",
    "\n",
    "We essentially need to carry out three tasks:\n",
    "\n",
    "- Install Python (the language itself)\n",
    "- Manage virtual environments\n",
    "- Install third party libraries\n",
    "\n",
    "We will use here [`uv`](https://docs.astral.sh/uv) which is a high level tool that does all three for us."
   ]
  },
  {
   "cell_type": "markdown",
   "id": "fe4bbe76-976f-4782-9153-95937a54b880",
   "metadata": {},
   "source": [
    "## Install `uv`\n",
    "\n",
    "Run only one of these commands in your terminal - pick according to your operating system:\n",
    "\n",
    "**Linux and macOS**\n",
    "```bash\n",
    "curl -LsSf https://astral.sh/uv/install.sh | sh\n",
    "```\n",
    "\n",
    "**Windows**  \n",
    "Make sure you are using **powershell**!\n",
    "\n",
    "```bash\n",
    "powershell -ExecutionPolicy ByPass -c \"irm https://astral.sh/uv/install.ps1 | iex\"\n",
    "```\n",
    "\n",
    "\n",
    "That should be enough, but for more details you can follow detailed instructions [here](https://docs.astral.sh/uv/getting-started/installation/)."
   ]
  },
  {
   "cell_type": "markdown",
   "id": "96e086b1-d39b-4508-89ea-c258bdea61ed",
   "metadata": {},
   "source": [
    "## Working on a project\n",
    "To start a new project run in your terminal:\n",
    "\n",
    "```bash\n",
    "uv init pycourse --lib --python 3.12\n",
    "```\n",
    "`pycourse` is the name of the project, you can choose anything you want.  \n",
    "The `--lib` flag tells `uv` to install the current code as a \"library\" (don't worry about this yet, it's just something we need to get things working for now).  \n",
    "The `--python` flags specifies the specific python version we want to work with in this project.\n",
    "If the version is already installed in our machine `uv` will just use it, otherwise `uv` will download it and keep it for future usage.\n",
    "\n",
    "`uv` will create a new directory with all the necessary boilerplate to get python running, including a virtual environment (by default, under the hidden directory `.venv`) and a `pyproject.toml` file (we'll look at those later when dealing with dependencies).  \n",
    "For more details on `uv` and projects see the documentation [here]().\n",
    "\n",
    "Change your directory into the newly created folder:\n",
    "\n",
    "```bash\n",
    "cd pycourse\n",
    "```\n",
    "You should see a structure like this:\n",
    "\n",
    "```\n",
    "pycourse\n",
    "├── pyproject.toml\n",
    "├── README.md\n",
    "└── src\n",
    "    └── pycourse\n",
    "        └── __init__.py\n",
    "```\n",
    "\n",
    "If everything worked fine you should be able to run this:\n",
    "\n",
    "```bash\n",
    "uv run python\n",
    "```\n",
    "and see a python REPL."
   ]
  },
  {
   "cell_type": "markdown",
   "id": "e6ec7541-6fc9-41c4-9947-d965c96d6f5a",
   "metadata": {},
   "source": [
    "We're ready to go 🚀!"
   ]
  }
 ],
 "metadata": {
  "kernelspec": {
   "display_name": "Python 3 (ipykernel)",
   "language": "python",
   "name": "python3"
  },
  "language_info": {
   "codemirror_mode": {
    "name": "ipython",
    "version": 3
   },
   "file_extension": ".py",
   "mimetype": "text/x-python",
   "name": "python",
   "nbconvert_exporter": "python",
   "pygments_lexer": "ipython3",
   "version": "3.10.13"
  }
 },
 "nbformat": 4,
 "nbformat_minor": 5
}
