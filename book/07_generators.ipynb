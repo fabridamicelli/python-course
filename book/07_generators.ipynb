{
 "cells": [
  {
   "cell_type": "markdown",
   "id": "97a9ac71-a121-4b3e-bd73-a9721222d5ac",
   "metadata": {},
   "source": [
    "---\n",
    "title: Generators\n",
    "toc: true\n",
    "---"
   ]
  },
  {
   "cell_type": "code",
   "execution_count": 8,
   "id": "4f9e04fb-57d2-4f94-a7c2-353fa239bf5e",
   "metadata": {},
   "outputs": [],
   "source": [
    "import pathlib\n",
    "\n",
    "path = pathlib.Path(\".\")"
   ]
  },
  {
   "cell_type": "markdown",
   "id": "ffa2c8da-f253-40cd-9f06-083dcad46e45",
   "metadata": {},
   "source": [
    "If we want to list the content of the directory:"
   ]
  },
  {
   "cell_type": "code",
   "execution_count": 23,
   "id": "202410a3-3666-4e0c-a774-49b0539e1c29",
   "metadata": {},
   "outputs": [
    {
     "data": {
      "text/plain": [
       "<generator object Path.iterdir at 0x7f2d9c5efdf0>"
      ]
     },
     "execution_count": 23,
     "metadata": {},
     "output_type": "execute_result"
    }
   ],
   "source": [
    "files = path.iterdir()\n",
    "files"
   ]
  },
  {
   "cell_type": "markdown",
   "id": "8095c3b0-63b0-4728-b7a2-60bffa240bc6",
   "metadata": {},
   "source": [
    "\"Nothing\" happens.\n",
    "We get a \"generator object\" back.\n",
    "This object will \"lazily\" give us the contents one by one:"
   ]
  },
  {
   "cell_type": "code",
   "execution_count": 24,
   "id": "a6843b6c-9434-4f96-8e46-dd82b80f0dfb",
   "metadata": {},
   "outputs": [
    {
     "data": {
      "text/plain": [
       "PosixPath('08_numpy.ipynb')"
      ]
     },
     "execution_count": 24,
     "metadata": {},
     "output_type": "execute_result"
    }
   ],
   "source": [
    "next(files)"
   ]
  },
  {
   "cell_type": "markdown",
   "id": "72a1189e-23ed-40e1-9151-260910e2c80c",
   "metadata": {},
   "source": [
    "We can also iterate over them:"
   ]
  },
  {
   "cell_type": "code",
   "execution_count": 25,
   "id": "5cbc42c2-47d3-4932-be7d-1b6700bc55d5",
   "metadata": {},
   "outputs": [
    {
     "name": "stdout",
     "output_type": "stream",
     "text": [
      "031_error_handling.ipynb\n",
      "06_importing_code.ipynb\n",
      "05_functions_scope.ipynb\n",
      "02_types_data_structures.ipynb\n",
      "01_getting-started.ipynb\n",
      "pythonic.ipynb\n",
      "code_repositories.ipynb\n",
      "07_generators.ipynb\n",
      "explore_data.ipynb\n",
      "09_plotting.ipynb\n",
      "04_functions.ipynb\n",
      "Untitled.ipynb\n",
      "plot_features-(Vincent).ipynb\n",
      "readability.ipynb\n",
      "05_comprehensions.ipynb\n",
      "03_flow_control.ipynb\n"
     ]
    }
   ],
   "source": [
    "for file in files:\n",
    "    if file.name.endswith(\".ipynb\"):\n",
    "        print(file.name)"
   ]
  },
  {
   "cell_type": "markdown",
   "id": "2d47e28f-d474-4293-aa49-a3334bd3aadf",
   "metadata": {},
   "source": [
    "Importantly, generators can be consumed only once.\n",
    "If we try to get the next element of an already consumed generator, we get a `StopIteration` Exception:"
   ]
  },
  {
   "cell_type": "code",
   "execution_count": 27,
   "id": "e48c5008-5c2d-4534-89b9-5f33ccd9efae",
   "metadata": {},
   "outputs": [
    {
     "ename": "StopIteration",
     "evalue": "",
     "output_type": "error",
     "traceback": [
      "\u001b[0;31m---------------------------------------------------------------------------\u001b[0m",
      "\u001b[0;31mStopIteration\u001b[0m                             Traceback (most recent call last)",
      "Cell \u001b[0;32mIn[27], line 1\u001b[0m\n\u001b[0;32m----> 1\u001b[0m \u001b[38;5;28;43mnext\u001b[39;49m\u001b[43m(\u001b[49m\u001b[43mfiles\u001b[49m\u001b[43m)\u001b[49m\n",
      "\u001b[0;31mStopIteration\u001b[0m: "
     ]
    }
   ],
   "source": [
    "next(files)"
   ]
  },
  {
   "cell_type": "markdown",
   "id": "e2da256b-6171-4e25-b0ba-883aea01b5d9",
   "metadata": {},
   "source": [
    "We can materialize the whole generator by constructing a collection, for example, a list:"
   ]
  },
  {
   "cell_type": "code",
   "execution_count": 28,
   "id": "ed7730fd-ddf9-43e2-b4b7-d3ab9bfa1f71",
   "metadata": {},
   "outputs": [
    {
     "data": {
      "text/plain": [
       "[PosixPath('08_numpy.ipynb'),\n",
       " PosixPath('references.qmd'),\n",
       " PosixPath('summary.qmd'),\n",
       " PosixPath('index.qmd')]"
      ]
     },
     "execution_count": 28,
     "metadata": {},
     "output_type": "execute_result"
    }
   ],
   "source": [
    "list(path.iterdir())[:4]  # take first 4 elements"
   ]
  },
  {
   "cell_type": "code",
   "execution_count": null,
   "id": "c1b33b76-fd0f-432f-8126-b1f5adb77c38",
   "metadata": {},
   "outputs": [],
   "source": []
  }
 ],
 "metadata": {
  "kernelspec": {
   "display_name": "Python 3 (ipykernel)",
   "language": "python",
   "name": "python3"
  },
  "language_info": {
   "codemirror_mode": {
    "name": "ipython",
    "version": 3
   },
   "file_extension": ".py",
   "mimetype": "text/x-python",
   "name": "python",
   "nbconvert_exporter": "python",
   "pygments_lexer": "ipython3",
   "version": "3.10.13"
  }
 },
 "nbformat": 4,
 "nbformat_minor": 5
}
