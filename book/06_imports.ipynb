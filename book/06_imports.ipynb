{
 "cells": [
  {
   "cell_type": "markdown",
   "id": "97a9ac71-a121-4b3e-bd73-a9721222d5ac",
   "metadata": {},
   "source": [
    "---\n",
    "title: Importing Code\n",
    "toc: true\n",
    "---"
   ]
  },
  {
   "cell_type": "markdown",
   "id": "eb6b0843-d4d9-4f63-b155-11739ba90398",
   "metadata": {},
   "source": [
    "Every Python installation has a number of modules that come by default.\n",
    "They are called collectively the \"Python Standard Library\" or \"built-in\" modules.\n",
    "\n",
    "Even though these modules are available in our computer, we cannot directly use them, we need to import them into our current namespace to actually use them.\n",
    "\n",
    "For example, if we try to use the module `pathlib`, we get this `NameError`"
   ]
  },
  {
   "cell_type": "code",
   "execution_count": 2,
   "id": "26bdb492-1969-4062-a923-f4845b7d6ebe",
   "metadata": {},
   "outputs": [
    {
     "ename": "NameError",
     "evalue": "name 'pathlib' is not defined",
     "output_type": "error",
     "traceback": [
      "\u001b[0;31m---------------------------------------------------------------------------\u001b[0m",
      "\u001b[0;31mNameError\u001b[0m                                 Traceback (most recent call last)",
      "Cell \u001b[0;32mIn[2], line 1\u001b[0m\n\u001b[0;32m----> 1\u001b[0m \u001b[43mpathlib\u001b[49m\n",
      "\u001b[0;31mNameError\u001b[0m: name 'pathlib' is not defined"
     ]
    }
   ],
   "source": [
    "pathlib"
   ]
  },
  {
   "cell_type": "markdown",
   "id": "0ca12de9-9840-417c-b41f-fd3032093c12",
   "metadata": {},
   "source": [
    "That means that the word pathlib is unknown in this context.\n",
    "Let's bring it in:"
   ]
  },
  {
   "cell_type": "code",
   "execution_count": 3,
   "id": "9f389b0e-5eb8-4f48-a277-7da3956d4715",
   "metadata": {},
   "outputs": [],
   "source": [
    "import pathlib"
   ]
  },
  {
   "cell_type": "markdown",
   "id": "292ea9cc-1c2f-48a3-bd57-fd06d33a1b52",
   "metadata": {},
   "source": [
    "Now we can use it:"
   ]
  },
  {
   "cell_type": "code",
   "execution_count": 16,
   "id": "1658f2ec-a095-496b-83d1-a3d7e9749732",
   "metadata": {},
   "outputs": [
    {
     "data": {
      "text/plain": [
       "PosixPath('.')"
      ]
     },
     "execution_count": 16,
     "metadata": {},
     "output_type": "execute_result"
    }
   ],
   "source": [
    "pathlib.Path(\".\")"
   ]
  },
  {
   "cell_type": "markdown",
   "id": "a12b0f16-b0d7-45fe-b3fe-1d443199a117",
   "metadata": {},
   "source": [
    "We can also import only specific parts of the module:\n",
    "\n",
    "```python\n",
    "from pathlib import Path\n",
    "```"
   ]
  },
  {
   "cell_type": "markdown",
   "id": "6b808802-66ac-44e5-bd32-ba6d923b48c3",
   "metadata": {},
   "source": [
    "It is also possible to alias these imported names using the keyword `as`:"
   ]
  },
  {
   "cell_type": "code",
   "execution_count": 21,
   "id": "29fee6ae-cb29-49f8-9741-1aca8b7bf6bc",
   "metadata": {},
   "outputs": [],
   "source": [
    "import pathlib as pl"
   ]
  },
  {
   "cell_type": "code",
   "execution_count": 22,
   "id": "cd32c047-1d96-40ad-ad09-3756c11332b4",
   "metadata": {},
   "outputs": [
    {
     "data": {
      "text/plain": [
       "PosixPath('.')"
      ]
     },
     "execution_count": 22,
     "metadata": {},
     "output_type": "execute_result"
    }
   ],
   "source": [
    "pl.Path(\".\")"
   ]
  },
  {
   "cell_type": "markdown",
   "id": "3b452c0b-682f-4868-9fd6-4dc6f7a5ff69",
   "metadata": {},
   "source": [
    "## Script vs. exportable code\n",
    "A Python module (any `.py` file) might contain code that we want to run (for example as a one-off script) along code that we only want to use somewhere else.  \n",
    "For example, we might have a bunch of code like this in a file:\n",
    "\n",
    "We can isolate the part of the code that we want to run as a script with this trick.\n",
    "\n",
    "```python\n",
    "# data.py\n",
    "\n",
    "def download(url):\n",
    "    ...\n",
    "def process(data):\n",
    "    ... \n",
    "def plot(data):\n",
    "    ...\n",
    "     \n",
    "if __name__ == \"__main__\":\n",
    "    print(\"I am running as a script\")    \n",
    "    def script_func():\n",
    "        ...\n",
    "    \n",
    "```"
   ]
  },
  {
   "cell_type": "markdown",
   "id": "ee8413b5-b03f-456f-8298-a82feda2b076",
   "metadata": {},
   "source": [
    "## Exercises\n",
    "1) Copy the content of the code above into a file `data.py` and run it\n",
    "2) Create another file called `analysis.py` right next to `data.py` (in the same directory)\n",
    "3) Inside `analysis.py` import `download` from `data.py` and run `analysis.py`\n",
    "4) Inside `analysis.py` import `script_func` from `data.py` and run `analysis.py`. Do you understand what happens?"
   ]
  }
 ],
 "metadata": {
  "kernelspec": {
   "display_name": "Python 3 (ipykernel)",
   "language": "python",
   "name": "python3"
  },
  "language_info": {
   "codemirror_mode": {
    "name": "ipython",
    "version": 3
   },
   "file_extension": ".py",
   "mimetype": "text/x-python",
   "name": "python",
   "nbconvert_exporter": "python",
   "pygments_lexer": "ipython3",
   "version": "3.10.13"
  }
 },
 "nbformat": 4,
 "nbformat_minor": 5
}
