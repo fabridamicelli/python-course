{
 "cells": [
  {
   "cell_type": "markdown",
   "id": "97a9ac71-a121-4b3e-bd73-a9721222d5ac",
   "metadata": {},
   "source": [
    "---\n",
    "title: Dependencies\n",
    "toc: true\n",
    "---"
   ]
  },
  {
   "cell_type": "markdown",
   "id": "c79acc5e-0543-4994-b09a-1af21a509cd2",
   "metadata": {},
   "source": [
    "In contrast to some built-in modules such as `pathlib` and `json` that we can import directly after installing python, there are third-party libraries that we want to use but need to be first installed, such as `numpy` and `pandas`.\n",
    "This libraries are also called \"packages\".\n",
    "\n",
    "These are open-source libraries maintained mostly by voluntary contributions of people of the community – and you can also contribute to them!\n",
    "\n",
    "They are being actively developed and thus in permanent evolution.\n",
    "In order to avoid compatibility problems and to ensure reproducibility, we might want to specify the exact versions of the packages we use.\n",
    "It turns out that is not an easy problem and the reason why need a **package manager**."
   ]
  },
  {
   "cell_type": "markdown",
   "id": "127f7c9d-dccd-48bd-bc99-e1e7de44cb6c",
   "metadata": {},
   "source": [
    "## Managing dependencies"
   ]
  },
  {
   "cell_type": "markdown",
   "id": "2dce4970-2fa6-43ea-958b-1ae6a379dc94",
   "metadata": {},
   "source": [
    "The current convention to specify dependencies (and other things) in python projects is to use a file called [`pyproject.toml`](https://packaging.python.org/en/latest/guides/writing-pyproject-toml/) that looks like this:\n",
    "\n",
    "```yaml\n",
    "[project]\n",
    "name = \"example_package_name\"\n",
    "version = \"0.0.1\"\n",
    "authors = [\n",
    "  { name=\"Example Author\", email=\"author@example.com\" },\n",
    "]\n",
    "description = \"A small example package\"\n",
    "readme = \"README.md\"\n",
    "requires-python = \">=3.10,<3.12\"\n",
    "dependencies = [\n",
    "    \"numpy==1.2.0\",\n",
    "    \"pandas<2.0.0\",\n",
    "    \"scikit-learn>=1.0,<2.0\"\n",
    "]\n",
    "```\n",
    "\n",
    "The \"dependencies\" section is the one we care about here.\n",
    "There we list all the third-party libraries that our project requires.\n",
    "Notice that we can specify both exact versions (with \"==\") as well as constraints (with \"<,>,>=,<=\").\n",
    "In general we don't want to deal manually with those aspects – that's the job of a package manager."
   ]
  },
  {
   "cell_type": "markdown",
   "id": "00421264-b754-49af-a789-dcdf3ebe6325",
   "metadata": {},
   "source": [
    "::: {.callout-note}\n",
    "The packages usually follow a so-called \"Semantic versioning\" convention on how to name the versions of the package to avoid compatibility problems.\n",
    "In short: Given a version number MAJOR.MINOR.PATCH.\n",
    "\n",
    "> MAJOR version when you make incompatible API changes  \n",
    "MINOR version when you add functionality in a backward compatible manner  \n",
    "PATCH version when you make backward compatible bug fixes  \n",
    "\n",
    "Read more about that [here](https://semver.org).\n",
    ":::"
   ]
  },
  {
   "cell_type": "markdown",
   "id": "f9e9ab15-34ff-4b43-bf21-b865aaa660ac",
   "metadata": {},
   "source": [
    "We will use here the package manager [uv](https://docs.astral.sh/uv).\n",
    "You can read the docs for more details, which I strongly recommend since the documentation is pretty good and constantly being updated.\n",
    "To add a dependency we type:\n",
    "\n",
    "```bash\n",
    "uv add PACKAGE-NAME\n",
    "```\n",
    "For example:\n",
    "```bash\n",
    "uv add numpy\n",
    "```\n",
    "\n",
    "That will add the dependency to our list as well as updating the \"lock\" file.\n",
    "Read more about this workflow and managing dependencies [here](https://docs.astral.sh/uv/guides/projects/#working-on-projects).\n",
    "\n",
    "To remove a package from the dependencies of our project we do:\n",
    "```bash\n",
    "uv remove PACKAGE-NAME\n",
    "```\n",
    "For example:\n",
    "```bash\n",
    "uv remove numpy\n",
    "```"
   ]
  },
  {
   "cell_type": "code",
   "execution_count": null,
   "id": "c32b1f81-3a46-460c-b537-4cd56b1e49b0",
   "metadata": {},
   "outputs": [],
   "source": []
  }
 ],
 "metadata": {
  "kernelspec": {
   "display_name": "Python 3 (ipykernel)",
   "language": "python",
   "name": "python3"
  },
  "language_info": {
   "codemirror_mode": {
    "name": "ipython",
    "version": 3
   },
   "file_extension": ".py",
   "mimetype": "text/x-python",
   "name": "python",
   "nbconvert_exporter": "python",
   "pygments_lexer": "ipython3",
   "version": "3.10.13"
  }
 },
 "nbformat": 4,
 "nbformat_minor": 5
}
