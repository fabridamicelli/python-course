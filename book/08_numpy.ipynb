{
 "cells": [
  {
   "cell_type": "markdown",
   "id": "97a9ac71-a121-4b3e-bd73-a9721222d5ac",
   "metadata": {},
   "source": [
    "---\n",
    "title: Numpy\n",
    "toc: true\n",
    "---"
   ]
  },
  {
   "cell_type": "markdown",
   "id": "ec86658f-670c-4043-86f7-f2661e486756",
   "metadata": {},
   "source": [
    "We will follow here this excellent chapter from [Wes MacKinney's book](https://wesmckinney.com/book/numpy-basics)."
   ]
  },
  {
   "cell_type": "markdown",
   "id": "022c4714-d3cc-4b4f-b755-bade698ffa86",
   "metadata": {},
   "source": [
    "In particular the subtitles:\n",
    "\n",
    "- Creating ndarray\n",
    "- Arithmetic with numpy arrays\n",
    "- Basic indexing and slicing\n",
    "- Boolean indexing"
   ]
  },
  {
   "cell_type": "markdown",
   "id": "1a0790c7-1e05-49f5-b398-17f4d82b0c43",
   "metadata": {},
   "source": [
    "## Slicing Arrays"
   ]
  },
  {
   "cell_type": "markdown",
   "id": "89ee7126-1329-4f32-afa2-796cdb4b1398",
   "metadata": {},
   "source": [
    "Slicing works as with, for example, `range`, with systax `(start, [stop], [step])`.\n",
    "We treat each dimension separately with `,`. \n",
    "\n",
    "Let's see:"
   ]
  },
  {
   "cell_type": "code",
   "execution_count": 1,
   "id": "b1156669-2bc1-4296-8b5f-99fcd28c4d15",
   "metadata": {},
   "outputs": [],
   "source": [
    "import numpy as np"
   ]
  },
  {
   "cell_type": "code",
   "execution_count": 6,
   "id": "e9c7ed07-ea68-4105-a3eb-93a2bbebd978",
   "metadata": {},
   "outputs": [
    {
     "data": {
      "text/plain": [
       "array([[ 0,  1,  2,  3],\n",
       "       [ 4,  5,  6,  7],\n",
       "       [ 8,  9, 10, 11]])"
      ]
     },
     "execution_count": 6,
     "metadata": {},
     "output_type": "execute_result"
    }
   ],
   "source": [
    "arr = np.arange(12).reshape(3,4)\n",
    "arr"
   ]
  },
  {
   "cell_type": "code",
   "execution_count": 7,
   "id": "3140ad20-430f-438c-b203-2198bc6f257d",
   "metadata": {},
   "outputs": [
    {
     "data": {
      "text/plain": [
       "array([0, 1, 2, 3])"
      ]
     },
     "execution_count": 7,
     "metadata": {},
     "output_type": "execute_result"
    }
   ],
   "source": [
    "# Take first row\n",
    "arr[0]"
   ]
  },
  {
   "cell_type": "code",
   "execution_count": 8,
   "id": "2e3adfba-41fd-4ba0-8fe0-0694e76daa2c",
   "metadata": {},
   "outputs": [
    {
     "data": {
      "text/plain": [
       "array([0, 4, 8])"
      ]
     },
     "execution_count": 8,
     "metadata": {},
     "output_type": "execute_result"
    }
   ],
   "source": [
    "# Take first column\n",
    "arr[:, 0]"
   ]
  },
  {
   "cell_type": "code",
   "execution_count": 9,
   "id": "0eee6442-0224-487b-a3fe-b4598ae4d06c",
   "metadata": {},
   "outputs": [
    {
     "data": {
      "text/plain": [
       "array([4, 6])"
      ]
     },
     "execution_count": 9,
     "metadata": {},
     "output_type": "execute_result"
    }
   ],
   "source": [
    "# Take every second element of second row\n",
    "arr[1, ::2]"
   ]
  },
  {
   "cell_type": "code",
   "execution_count": 15,
   "id": "f18919a3-3d9c-4ee1-8307-a475c58669cd",
   "metadata": {},
   "outputs": [
    {
     "data": {
      "text/plain": [
       "array([ 2, 10])"
      ]
     },
     "execution_count": 15,
     "metadata": {},
     "output_type": "execute_result"
    }
   ],
   "source": [
    "# Take every second element of third column\n",
    "arr[::2, 2]"
   ]
  },
  {
   "cell_type": "markdown",
   "id": "de030d51-429b-4f55-acae-65cbdd6d7b26",
   "metadata": {},
   "source": [
    "One special thing about numpy slices: We can use lists to index. \n",
    "Each element of the list is interpreted as an index to get:"
   ]
  },
  {
   "cell_type": "code",
   "execution_count": 13,
   "id": "c2c19abd-e968-4f4b-b5b7-05733fe96a4e",
   "metadata": {},
   "outputs": [
    {
     "data": {
      "text/plain": [
       "array([[ 1,  2],\n",
       "       [ 5,  6],\n",
       "       [ 9, 10]])"
      ]
     },
     "execution_count": 13,
     "metadata": {},
     "output_type": "execute_result"
    }
   ],
   "source": [
    "# Take second and third columns\n",
    "arr[:, [1, 2]]"
   ]
  },
  {
   "cell_type": "code",
   "execution_count": 14,
   "id": "793f3f3e-8757-418d-aed7-a04e1e57bab0",
   "metadata": {},
   "outputs": [
    {
     "data": {
      "text/plain": [
       "array([[ 0,  1,  2,  3],\n",
       "       [ 8,  9, 10, 11]])"
      ]
     },
     "execution_count": 14,
     "metadata": {},
     "output_type": "execute_result"
    }
   ],
   "source": [
    "# Take first and third rows\n",
    "arr[[0, 2], :]"
   ]
  },
  {
   "cell_type": "markdown",
   "id": "a9d2d3f3-f9fb-49cb-bbc6-825d7a2feced",
   "metadata": {},
   "source": [
    "## Numpy Built-in Functions\n",
    "\n",
    "Numpy implements many useful functions often used when working with numerical/scientific data.\n",
    "For example the `random` submodule exposes several useful functions for stochastic modelling and statistical analysis."
   ]
  },
  {
   "cell_type": "markdown",
   "id": "84c6a8d7-2192-4cf9-adf2-a9f110d5b01f",
   "metadata": {},
   "source": [
    "## Exercises"
   ]
  },
  {
   "cell_type": "code",
   "execution_count": 2,
   "id": "123df306-ae3f-4ebf-b283-7e7d9f7705d9",
   "metadata": {},
   "outputs": [
    {
     "data": {
      "text/plain": [
       "array([ 0,  1,  2,  3,  4,  5,  6,  7,  8,  9, 10, 11, 12, 13, 14, 15, 16,\n",
       "       17, 18, 19, 20, 21, 22, 23, 24])"
      ]
     },
     "execution_count": 2,
     "metadata": {},
     "output_type": "execute_result"
    }
   ],
   "source": [
    "arr = np.arange(25)\n",
    "arr"
   ]
  },
  {
   "cell_type": "code",
   "execution_count": 6,
   "id": "a0840103-6335-4077-afa0-3c843a4d3aec",
   "metadata": {},
   "outputs": [
    {
     "data": {
      "text/plain": [
       "array([[ 0,  1,  2,  3,  4],\n",
       "       [ 5,  6,  7,  8,  9],\n",
       "       [10, 11, 12, 13, 14],\n",
       "       [15, 16, 17, 18, 19],\n",
       "       [20, 21, 22, 23, 24]])"
      ]
     },
     "execution_count": 6,
     "metadata": {},
     "output_type": "execute_result"
    }
   ],
   "source": [
    "arr.reshape(5,5)"
   ]
  },
  {
   "cell_type": "markdown",
   "id": "0db2d668-2302-4288-8a98-1aee524cc44e",
   "metadata": {},
   "source": [
    "1) Reshape `arr` to be a square matrix, call it `arr_sq`.\n",
    "2) Extract the values at this coordinates [(0, 3), (2, 4), (3, 2)].\n",
    "3) Extract one index operation the elements 1, 4, 9, 11, 21.\n",
    "4) Create a boolean mask that will extract the odd numbers from the `arr_sq`.\n",
    "5) Find the indices of the even elements off `arr_sq`.\n",
    "6) Flatten `arr_sq` into 1 dimension.\n",
    "7) Get the third column of `arr_sq`.\n",
    "8) Get the second and the fourth rows of `arr_sq`. \n",
    "9) Compute the dot product between `arr_sq` and `arr_sq` transposed.\n",
    "10) Extract the upper right triangle values (including the diagonal.\n",
    "11) Create a square matrix of 25 elements filled only with the value 100 along the main diagonal\n",
    "12) Create a square matrix of 25 elements filled only with the value 1 the *counter-diagonal*."
   ]
  }
 ],
 "metadata": {
  "kernelspec": {
   "display_name": "Python 3 (ipykernel)",
   "language": "python",
   "name": "python3"
  },
  "language_info": {
   "codemirror_mode": {
    "name": "ipython",
    "version": 3
   },
   "file_extension": ".py",
   "mimetype": "text/x-python",
   "name": "python",
   "nbconvert_exporter": "python",
   "pygments_lexer": "ipython3",
   "version": "3.10.13"
  }
 },
 "nbformat": 4,
 "nbformat_minor": 5
}
